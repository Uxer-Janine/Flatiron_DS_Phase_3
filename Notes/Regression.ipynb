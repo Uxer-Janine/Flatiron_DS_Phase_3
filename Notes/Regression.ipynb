{
 "cells": [
  {
   "cell_type": "markdown",
   "metadata": {
    "toc": true
   },
   "source": [
    "<h1>Table of Contents<span class=\"tocSkip\"></span></h1>\n",
    "<div class=\"toc\"><ul class=\"toc-item\"><li><span><a href=\"#Log-Transformation\" data-toc-modified-id=\"Log-Transformation-1\"><span class=\"toc-item-num\">1&nbsp;&nbsp;</span>Log Transformation</a></span></li></ul></div>"
   ]
  },
  {
   "cell_type": "code",
   "execution_count": 1,
   "metadata": {},
   "outputs": [],
   "source": [
    "# Data manipulation\n",
    "import numpy as np\n",
    "import pandas as pd\n",
    "\n",
    "# Visualization\n",
    "import matplotlib.pyplot as plt\n",
    "%matplotlib inline\n",
    "import seaborn as sns\n",
    "\n",
    "# Scikit-learn: preprocessing, training, evaluation\n",
    "from sklearn.model_selection import train_test_split\n",
    "from sklearn.linear_model import LinearRegression\n",
    "from sklearn.metrics import mean_squared_error, r2_score\n",
    "\n",
    "# Statsmodels: for detailed regression summaries\n",
    "import statsmodels.api as sm\n",
    "\n",
    "from sklearn.preprocessing import StandardScaler"
   ]
  },
  {
   "cell_type": "code",
   "execution_count": 2,
   "metadata": {},
   "outputs": [],
   "source": [
    "# import statsmodels.api as sm\n",
    "\n",
    "# # Add constant (intercept term) to the scaled features\n",
    "# x_scaled_const = sm.add_constant(x_scaled_df)\n",
    "\n",
    "# # Fit the OLS model\n",
    "# model_transformed = sm.OLS(y, x_scaled_const).fit()\n",
    "\n",
    "# # View the summary\n",
    "# print(model_transformed.summary())\n"
   ]
  },
  {
   "cell_type": "code",
   "execution_count": 3,
   "metadata": {},
   "outputs": [],
   "source": [
    "df = pd.read_csv(\"powerconsumption.csv\")"
   ]
  },
  {
   "cell_type": "code",
   "execution_count": 4,
   "metadata": {},
   "outputs": [
    {
     "data": {
      "text/html": [
       "<div>\n",
       "<style scoped>\n",
       "    .dataframe tbody tr th:only-of-type {\n",
       "        vertical-align: middle;\n",
       "    }\n",
       "\n",
       "    .dataframe tbody tr th {\n",
       "        vertical-align: top;\n",
       "    }\n",
       "\n",
       "    .dataframe thead th {\n",
       "        text-align: right;\n",
       "    }\n",
       "</style>\n",
       "<table border=\"1\" class=\"dataframe\">\n",
       "  <thead>\n",
       "    <tr style=\"text-align: right;\">\n",
       "      <th></th>\n",
       "      <th>Datetime</th>\n",
       "      <th>Temperature</th>\n",
       "      <th>Humidity</th>\n",
       "      <th>WindSpeed</th>\n",
       "      <th>GeneralDiffuseFlows</th>\n",
       "      <th>DiffuseFlows</th>\n",
       "      <th>PowerConsumption</th>\n",
       "    </tr>\n",
       "  </thead>\n",
       "  <tbody>\n",
       "    <tr>\n",
       "      <th>0</th>\n",
       "      <td>1/1/2017 0:00</td>\n",
       "      <td>6.559</td>\n",
       "      <td>73.8</td>\n",
       "      <td>0.083</td>\n",
       "      <td>0.051</td>\n",
       "      <td>0.119</td>\n",
       "      <td>34055.69620</td>\n",
       "    </tr>\n",
       "    <tr>\n",
       "      <th>1</th>\n",
       "      <td>1/1/2017 0:10</td>\n",
       "      <td>6.414</td>\n",
       "      <td>74.5</td>\n",
       "      <td>0.083</td>\n",
       "      <td>0.070</td>\n",
       "      <td>0.085</td>\n",
       "      <td>29814.68354</td>\n",
       "    </tr>\n",
       "    <tr>\n",
       "      <th>2</th>\n",
       "      <td>1/1/2017 0:20</td>\n",
       "      <td>6.313</td>\n",
       "      <td>74.5</td>\n",
       "      <td>0.080</td>\n",
       "      <td>0.062</td>\n",
       "      <td>0.100</td>\n",
       "      <td>29128.10127</td>\n",
       "    </tr>\n",
       "    <tr>\n",
       "      <th>3</th>\n",
       "      <td>1/1/2017 0:30</td>\n",
       "      <td>6.121</td>\n",
       "      <td>75.0</td>\n",
       "      <td>0.083</td>\n",
       "      <td>0.091</td>\n",
       "      <td>0.096</td>\n",
       "      <td>28228.86076</td>\n",
       "    </tr>\n",
       "    <tr>\n",
       "      <th>4</th>\n",
       "      <td>1/1/2017 0:40</td>\n",
       "      <td>5.921</td>\n",
       "      <td>75.7</td>\n",
       "      <td>0.081</td>\n",
       "      <td>0.048</td>\n",
       "      <td>0.085</td>\n",
       "      <td>27335.69620</td>\n",
       "    </tr>\n",
       "  </tbody>\n",
       "</table>\n",
       "</div>"
      ],
      "text/plain": [
       "        Datetime  Temperature  Humidity  WindSpeed  GeneralDiffuseFlows  \\\n",
       "0  1/1/2017 0:00        6.559      73.8      0.083                0.051   \n",
       "1  1/1/2017 0:10        6.414      74.5      0.083                0.070   \n",
       "2  1/1/2017 0:20        6.313      74.5      0.080                0.062   \n",
       "3  1/1/2017 0:30        6.121      75.0      0.083                0.091   \n",
       "4  1/1/2017 0:40        5.921      75.7      0.081                0.048   \n",
       "\n",
       "   DiffuseFlows  PowerConsumption  \n",
       "0         0.119       34055.69620  \n",
       "1         0.085       29814.68354  \n",
       "2         0.100       29128.10127  \n",
       "3         0.096       28228.86076  \n",
       "4         0.085       27335.69620  "
      ]
     },
     "execution_count": 4,
     "metadata": {},
     "output_type": "execute_result"
    }
   ],
   "source": [
    "df.head()"
   ]
  },
  {
   "cell_type": "code",
   "execution_count": 5,
   "metadata": {},
   "outputs": [],
   "source": [
    "y = df[\"PowerConsumption\"]\n",
    "x = df[[\"Temperature\", \"Humidity\", \"WindSpeed\", \"GeneralDiffuseFlows\", \"DiffuseFlows\", \"PowerConsumption\"]]"
   ]
  },
  {
   "cell_type": "code",
   "execution_count": 6,
   "metadata": {},
   "outputs": [],
   "source": [
    "# adding the intercept and trying to fit the model \n",
    "x_initial = sm.add_constant(x)\n",
    "\n",
    "# fitting the model\n",
    "model_original = sm.OLS(y,x_initial).fit()"
   ]
  },
  {
   "cell_type": "code",
   "execution_count": 7,
   "metadata": {},
   "outputs": [
    {
     "name": "stdout",
     "output_type": "stream",
     "text": [
      "                            OLS Regression Results                            \n",
      "==============================================================================\n",
      "Dep. Variable:       PowerConsumption   R-squared:                       1.000\n",
      "Model:                            OLS   Adj. R-squared:                  1.000\n",
      "Method:                 Least Squares   F-statistic:                 2.104e+31\n",
      "Date:                Mon, 19 May 2025   Prob (F-statistic):               0.00\n",
      "Time:                        14:56:57   Log-Likelihood:             1.1130e+06\n",
      "No. Observations:               52416   AIC:                        -2.226e+06\n",
      "Df Residuals:                   52409   BIC:                        -2.226e+06\n",
      "Df Model:                           6                                         \n",
      "Covariance Type:            nonrobust                                         \n",
      "=======================================================================================\n",
      "                          coef    std err          t      P>|t|      [0.025      0.975]\n",
      "---------------------------------------------------------------------------------------\n",
      "const               -4.366e-11   5.58e-12     -7.830      0.000   -5.46e-11   -3.27e-11\n",
      "Temperature         -2.359e-12   1.56e-13    -15.092      0.000   -2.67e-12   -2.05e-12\n",
      "Humidity             2.558e-13   4.91e-14      5.212      0.000     1.6e-13    3.52e-13\n",
      "WindSpeed            1.307e-12   3.11e-13      4.203      0.000    6.98e-13    1.92e-12\n",
      "GeneralDiffuseFlows -4.929e-13   3.35e-15   -146.977      0.000      -5e-13   -4.86e-13\n",
      "DiffuseFlows        -1.252e-13   6.23e-15    -20.115      0.000   -1.37e-13   -1.13e-13\n",
      "PowerConsumption        1.0000      1e-16      1e+16      0.000       1.000       1.000\n",
      "==============================================================================\n",
      "Omnibus:                     6707.998   Durbin-Watson:                   0.030\n",
      "Prob(Omnibus):                  0.000   Jarque-Bera (JB):             9701.004\n",
      "Skew:                           1.053   Prob(JB):                         0.00\n",
      "Kurtosis:                       2.945   Cond. No.                     2.91e+05\n",
      "==============================================================================\n",
      "\n",
      "Notes:\n",
      "[1] Standard Errors assume that the covariance matrix of the errors is correctly specified.\n",
      "[2] The condition number is large, 2.91e+05. This might indicate that there are\n",
      "strong multicollinearity or other numerical problems.\n"
     ]
    }
   ],
   "source": [
    "print(model_original.summary())"
   ]
  },
  {
   "cell_type": "code",
   "execution_count": 8,
   "metadata": {},
   "outputs": [],
   "source": [
    "# predicting the values and residuals\n",
    "\n",
    "y_pred = model_original.predict(x_initial)\n",
    "residuals = y-y_pred"
   ]
  },
  {
   "cell_type": "code",
   "execution_count": 9,
   "metadata": {},
   "outputs": [
    {
     "data": {
      "image/png": "[encoded data removed]",
      "text/plain": [
       "<Figure size 576x360 with 1 Axes>"
      ]
     },
     "metadata": {
      "needs_background": "light"
     },
     "output_type": "display_data"
    }
   ],
   "source": [
    "plt.figure(figsize=(8,5))\n",
    "plt.scatter(y_pred,residuals)\n",
    "plt.axhline(y=0,color=\"r\",linestyle= \"dashed\")\n",
    "plt.xlabel(\"Predicted Power Consumptions\")\n",
    "plt.ylabel(\"Residuals\")\n",
    "plt.title(\"Residuals vs Predicted Power Consumptions\")\n",
    "plt.grid(True, alpha=0.5)\n",
    "plt.show()"
   ]
  },
  {
   "cell_type": "code",
   "execution_count": 10,
   "metadata": {},
   "outputs": [],
   "source": [
    "# using the standard scalar \n",
    "# applying linear transformation \n",
    "\n",
    "scaler = StandardScaler()\n",
    "x_scaled = scaler.fit_transform(x)\n",
    "x_scaled_df = pd.DataFrame(x_scaled, columns = x.columns)"
   ]
  },
  {
   "cell_type": "code",
   "execution_count": 11,
   "metadata": {},
   "outputs": [],
   "source": [
    "x_scaled_const = sm.add_constant(x_scaled_df)\n",
    "model_transformed = sm.OLS(y,x_scaled_const)"
   ]
  },
  {
   "cell_type": "code",
   "execution_count": 12,
   "metadata": {},
   "outputs": [
    {
     "name": "stdout",
     "output_type": "stream",
     "text": [
      "                            OLS Regression Results                            \n",
      "==============================================================================\n",
      "Dep. Variable:       PowerConsumption   R-squared:                       1.000\n",
      "Model:                            OLS   Adj. R-squared:                  1.000\n",
      "Method:                 Least Squares   F-statistic:                 6.728e+32\n",
      "Date:                Mon, 19 May 2025   Prob (F-statistic):               0.00\n",
      "Time:                        14:58:24   Log-Likelihood:             1.2038e+06\n",
      "No. Observations:               52416   AIC:                        -2.408e+06\n",
      "Df Residuals:                   52409   BIC:                        -2.407e+06\n",
      "Df Model:                           6                                         \n",
      "Covariance Type:            nonrobust                                         \n",
      "=======================================================================================\n",
      "                          coef    std err          t      P>|t|      [0.025      0.975]\n",
      "---------------------------------------------------------------------------------------\n",
      "const                3.234e+04   1.12e-13   2.88e+17      0.000    3.23e+04    3.23e+04\n",
      "Temperature           1.91e-11   1.61e-13    118.816      0.000    1.88e-11    1.94e-11\n",
      "Humidity            -3.638e-12   1.35e-13    -26.954      0.000    -3.9e-12   -3.37e-12\n",
      "WindSpeed           -2.274e-13   1.29e-13     -1.760      0.078   -4.81e-13    2.59e-14\n",
      "GeneralDiffuseFlows  -4.32e-12   1.57e-13    -27.549      0.000   -4.63e-12   -4.01e-12\n",
      "DiffuseFlows        -2.501e-12   1.37e-13    -18.289      0.000   -2.77e-12   -2.23e-12\n",
      "PowerConsumption     7130.4945   1.26e-13   5.66e+16      0.000    7130.495    7130.495\n",
      "==============================================================================\n",
      "Omnibus:                      655.571   Durbin-Watson:                   0.012\n",
      "Prob(Omnibus):                  0.000   Jarque-Bera (JB):              680.116\n",
      "Skew:                          -0.279   Prob(JB):                    2.06e-148\n",
      "Kurtosis:                       2.967   Cond. No.                         2.82\n",
      "==============================================================================\n",
      "\n",
      "Notes:\n",
      "[1] Standard Errors assume that the covariance matrix of the errors is correctly specified.\n"
     ]
    }
   ],
   "source": [
    "import statsmodels.api as sm\n",
    "\n",
    "# Add constant (intercept term) to the scaled features\n",
    "x_scaled_const = sm.add_constant(x_scaled_df)\n",
    "\n",
    "# Fit the OLS model\n",
    "model_transformed = sm.OLS(y, x_scaled_const).fit()\n",
    "\n",
    "# View the summary\n",
    "print(model_transformed.summary())"
   ]
  },
  {
   "cell_type": "markdown",
   "metadata": {},
   "source": [
    "## Log Transformation"
   ]
  },
  {
   "cell_type": "code",
   "execution_count": 13,
   "metadata": {},
   "outputs": [],
   "source": [
    "# applying log transformation \n",
    "\n",
    "df[\"log_PowerConsumption\"] = np.log(df[\"PowerConsumption\"])"
   ]
  },
  {
   "cell_type": "code",
   "execution_count": 14,
   "metadata": {},
   "outputs": [],
   "source": [
    "y = df[\"PowerConsumption\"]\n",
    "x = df[[\"Temperature\", \"Humidity\", \"WindSpeed\", \"GeneralDiffuseFlows\", \"DiffuseFlows\"]]"
   ]
  },
  {
   "cell_type": "code",
   "execution_count": 18,
   "metadata": {},
   "outputs": [],
   "source": [
    "log_initials = sm.add_constant(x)\n",
    "model_log = sm.OLS(y,log_initials).fit()"
   ]
  },
  {
   "cell_type": "code",
   "execution_count": 19,
   "metadata": {},
   "outputs": [
    {
     "name": "stdout",
     "output_type": "stream",
     "text": [
      "                            OLS Regression Results                            \n",
      "==============================================================================\n",
      "Dep. Variable:       PowerConsumption   R-squared:                       0.207\n",
      "Model:                            OLS   Adj. R-squared:                  0.207\n",
      "Method:                 Least Squares   F-statistic:                     2741.\n",
      "Date:                Mon, 19 May 2025   Prob (F-statistic):               0.00\n",
      "Time:                        15:04:28   Log-Likelihood:            -5.3333e+05\n",
      "No. Observations:               52416   AIC:                         1.067e+06\n",
      "Df Residuals:                   52410   BIC:                         1.067e+06\n",
      "Df Model:                           5                                         \n",
      "Covariance Type:            nonrobust                                         \n",
      "=======================================================================================\n",
      "                          coef    std err          t      P>|t|      [0.025      0.975]\n",
      "---------------------------------------------------------------------------------------\n",
      "const                2.675e+04    213.778    125.132      0.000    2.63e+04    2.72e+04\n",
      "Temperature           534.8607      6.418     83.331      0.000     522.280     547.441\n",
      "Humidity              -56.5101      2.130    -26.525      0.000     -60.686     -52.334\n",
      "WindSpeed            -148.7016     13.579    -10.951      0.000    -175.317    -122.087\n",
      "GeneralDiffuseFlows    -1.7020      0.146    -11.628      0.000      -1.989      -1.415\n",
      "DiffuseFlows           -0.0873      0.272     -0.321      0.748      -0.621       0.446\n",
      "==============================================================================\n",
      "Omnibus:                     2680.508   Durbin-Watson:                   0.010\n",
      "Prob(Omnibus):                  0.000   Jarque-Bera (JB):             2082.118\n",
      "Skew:                           0.400   Prob(JB):                         0.00\n",
      "Kurtosis:                       2.440   Cond. No.                     2.62e+03\n",
      "==============================================================================\n",
      "\n",
      "Notes:\n",
      "[1] Standard Errors assume that the covariance matrix of the errors is correctly specified.\n",
      "[2] The condition number is large, 2.62e+03. This might indicate that there are\n",
      "strong multicollinearity or other numerical problems.\n"
     ]
    }
   ],
   "source": [
    "print(model_log.summary())"
   ]
  },
  {
   "cell_type": "code",
   "execution_count": null,
   "metadata": {},
   "outputs": [],
   "source": []
  }
 ],
 "metadata": {
  "kernelspec": {
   "display_name": "Python (learn-env)",
   "language": "python",
   "name": "learn-env"
  },
  "language_info": {
   "codemirror_mode": {
    "name": "ipython",
    "version": 3
   },
   "file_extension": ".py",
   "mimetype": "text/x-python",
   "name": "python",
   "nbconvert_exporter": "python",
   "pygments_lexer": "ipython3",
   "version": "3.8.5"
  },
  "toc": {
   "base_numbering": 1,
   "nav_menu": {},
   "number_sections": true,
   "sideBar": true,
   "skip_h1_title": true,
   "title_cell": "Table of Contents",
   "title_sidebar": "Contents",
   "toc_cell": true,
   "toc_position": {},
   "toc_section_display": true,
   "toc_window_display": false
  }
 },
 "nbformat": 4,
 "nbformat_minor": 4
}
