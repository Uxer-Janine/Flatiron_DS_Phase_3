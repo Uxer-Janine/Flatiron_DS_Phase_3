{
 "cells": [
  {
   "cell_type": "markdown",
   "metadata": {
    "toc": true
   },
   "source": [
    "<h1>Table of Contents<span class=\"tocSkip\"></span></h1>\n",
    "<div class=\"toc\"><ul class=\"toc-item\"><li><span><a href=\"#Mutable-and-immutable-data-types\" data-toc-modified-id=\"Mutable-and-immutable-data-types-1\"><span class=\"toc-item-num\">1&nbsp;&nbsp;</span>Mutable and immutable data types</a></span><ul class=\"toc-item\"><li><span><a href=\"#Mutable-data-types\" data-toc-modified-id=\"Mutable-data-types-1.1\"><span class=\"toc-item-num\">1.1&nbsp;&nbsp;</span>Mutable data-types</a></span></li><li><span><a href=\"#Immutable-data-types\" data-toc-modified-id=\"Immutable-data-types-1.2\"><span class=\"toc-item-num\">1.2&nbsp;&nbsp;</span>Immutable data types</a></span></li></ul></li></ul></div>"
   ]
  },
  {
   "cell_type": "markdown",
   "metadata": {},
   "source": [
    "- Scikit Learn is built on OOP\n",
    "\n",
    "- It has 4 classes: - Algorithms or to process data \n",
    "- **Algorithm:** Linear Regression, Logistic regression, Random Forest:classification, k-mean \n",
    "\n",
    "- Class, objects, instance, methods, and attributes. \n",
    "\n",
    "1. **Class:** - Estimator, transformer, Predicts, Model \n",
    "2. **Objects:** - You are basically working with the classes. \n",
    "- Use a standard scaler imported from scikit learn \n",
    "- They include Linear regression, standardscaler, PCA, etc \n",
    "3. **Methods:** - actions the object can do\n",
    "- .fit(), .tranform() and .predict(), .model(), .score() \n",
    "4. **Attribute:** - The things that the model will know and remember.  \n",
    "- intercept, coefficient, rsquared \n",
    "\n",
    " **Instance** - "
   ]
  },
  {
   "cell_type": "markdown",
   "metadata": {},
   "source": [
    "## Mutable and immutable data types\n",
    "### Mutable data-types\n",
    "\n",
    "- They can be modified/changed/manipulated. "
   ]
  },
  {
   "cell_type": "code",
   "execution_count": 3,
   "metadata": {},
   "outputs": [
    {
     "name": "stdout",
     "output_type": "stream",
     "text": [
      "[1, 2, 3, 4]\n"
     ]
    }
   ],
   "source": [
    "# Mutable: can be changed \n",
    "list = [1,2,3]\n",
    "list.append(4)\n",
    "\n",
    "print(list)"
   ]
  },
  {
   "cell_type": "code",
   "execution_count": 8,
   "metadata": {},
   "outputs": [
    {
     "data": {
      "text/plain": [
       "{'a': '2', 'b': '3', 'c': 5}"
      ]
     },
     "execution_count": 8,
     "metadata": {},
     "output_type": "execute_result"
    }
   ],
   "source": [
    "# Dictionary \n",
    "my_dictionary = {\"a\":\"2\",\n",
    "                 \"b\":\"3\"}\n",
    "my_dictionary[\"c\"]= 5\n",
    "\n",
    "my_dictionary"
   ]
  },
  {
   "cell_type": "markdown",
   "metadata": {},
   "source": [
    "### Immutable data types \n",
    "- They cannot be modified "
   ]
  },
  {
   "cell_type": "code",
   "execution_count": 12,
   "metadata": {},
   "outputs": [
    {
     "name": "stdout",
     "output_type": "stream",
     "text": [
      "diana\n"
     ]
    }
   ],
   "source": [
    "my_str = \"diana\"\n",
    "my_str.upper()\n",
    "print(my_str)"
   ]
  },
  {
   "cell_type": "code",
   "execution_count": 11,
   "metadata": {},
   "outputs": [
    {
     "name": "stdout",
     "output_type": "stream",
     "text": [
      "DIANA\n"
     ]
    }
   ],
   "source": [
    "my_str = \"diana\"\n",
    "my_str = my_str.upper()\n",
    "print(my_str)"
   ]
  },
  {
   "cell_type": "markdown",
   "metadata": {},
   "source": [
    "You have to assign it to a variable otherwise your changes will not reflect. "
   ]
  },
  {
   "cell_type": "code",
   "execution_count": 14,
   "metadata": {},
   "outputs": [
    {
     "name": "stdout",
     "output_type": "stream",
     "text": [
      "[5.]\n"
     ]
    }
   ],
   "source": [
    "from sklearn.linear_model import LinearRegression\n",
    "x = [[1],[2],[3],[4],[5]]\n",
    "y = [15, 20,25,30,35]\n",
    "\n",
    "# instantiate the model \n",
    "model = LinearRegression()\n",
    "model.fit(x,y)\n",
    "print(model.coef_)"
   ]
  },
  {
   "cell_type": "code",
   "execution_count": 16,
   "metadata": {},
   "outputs": [
    {
     "name": "stdout",
     "output_type": "stream",
     "text": [
      "9.999999999999996\n"
     ]
    }
   ],
   "source": [
    "print(model.intercept_)"
   ]
  },
  {
   "cell_type": "code",
   "execution_count": 17,
   "metadata": {},
   "outputs": [
    {
     "name": "stdout",
     "output_type": "stream",
     "text": [
      "[15. 20. 25. 30. 35.]\n"
     ]
    }
   ],
   "source": [
    "prediction = model.predict(x)\n",
    "print(prediction)"
   ]
  },
  {
   "cell_type": "code",
   "execution_count": 19,
   "metadata": {},
   "outputs": [
    {
     "name": "stdout",
     "output_type": "stream",
     "text": [
      "1.0\n"
     ]
    }
   ],
   "source": [
    "evaluate = model.score(x,y)\n",
    "print(evaluate)"
   ]
  },
  {
   "cell_type": "code",
   "execution_count": null,
   "metadata": {},
   "outputs": [],
   "source": []
  }
 ],
 "metadata": {
  "kernelspec": {
   "display_name": "Python (learn-env)",
   "language": "python",
   "name": "learn-env"
  },
  "language_info": {
   "codemirror_mode": {
    "name": "ipython",
    "version": 3
   },
   "file_extension": ".py",
   "mimetype": "text/x-python",
   "name": "python",
   "nbconvert_exporter": "python",
   "pygments_lexer": "ipython3",
   "version": "3.8.5"
  },
  "toc": {
   "base_numbering": 1,
   "nav_menu": {},
   "number_sections": true,
   "sideBar": true,
   "skip_h1_title": true,
   "title_cell": "Table of Contents",
   "title_sidebar": "Contents",
   "toc_cell": true,
   "toc_position": {},
   "toc_section_display": true,
   "toc_window_display": false
  }
 },
 "nbformat": 4,
 "nbformat_minor": 4
}
