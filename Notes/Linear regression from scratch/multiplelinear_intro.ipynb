{
 "cells": [
  {
   "cell_type": "code",
   "execution_count": 1,
   "metadata": {},
   "outputs": [],
   "source": [
    "import pandas as pd\n",
    "import numpy as np\n",
    "import matplotlib.pyplot as plt\n",
    "import statsmodels.api as sm"
   ]
  },
  {
   "cell_type": "code",
   "execution_count": 3,
   "metadata": {},
   "outputs": [],
   "source": [
    "df = pd.read_csv('auto-mpg.csv')"
   ]
  },
  {
   "cell_type": "code",
   "execution_count": 4,
   "metadata": {},
   "outputs": [
    {
     "data": {
      "text/plain": [
       "<bound method NDFrame.head of       mpg  cylinders  displacement  horsepower  weight  acceleration  \\\n",
       "0    18.0          8         307.0         130    3504          12.0   \n",
       "1    15.0          8         350.0         165    3693          11.5   \n",
       "2    18.0          8         318.0         150    3436          11.0   \n",
       "3    16.0          8         304.0         150    3433          12.0   \n",
       "4    17.0          8         302.0         140    3449          10.5   \n",
       "..    ...        ...           ...         ...     ...           ...   \n",
       "387  27.0          4         140.0          86    2790          15.6   \n",
       "388  44.0          4          97.0          52    2130          24.6   \n",
       "389  32.0          4         135.0          84    2295          11.6   \n",
       "390  28.0          4         120.0          79    2625          18.6   \n",
       "391  31.0          4         119.0          82    2720          19.4   \n",
       "\n",
       "     model year  origin                   car name  \n",
       "0            70       1  chevrolet chevelle malibu  \n",
       "1            70       1          buick skylark 320  \n",
       "2            70       1         plymouth satellite  \n",
       "3            70       1              amc rebel sst  \n",
       "4            70       1                ford torino  \n",
       "..          ...     ...                        ...  \n",
       "387          82       1            ford mustang gl  \n",
       "388          82       2                  vw pickup  \n",
       "389          82       1              dodge rampage  \n",
       "390          82       1                ford ranger  \n",
       "391          82       1                 chevy s-10  \n",
       "\n",
       "[392 rows x 9 columns]>"
      ]
     },
     "execution_count": 4,
     "metadata": {},
     "output_type": "execute_result"
    }
   ],
   "source": [
    "df.head"
   ]
  },
  {
   "cell_type": "code",
   "execution_count": 6,
   "metadata": {},
   "outputs": [
    {
     "data": {
      "text/plain": [
       "Index(['mpg', 'cylinders', 'displacement', 'horsepower', 'weight',\n",
       "       'acceleration', 'model year', 'origin', 'car name'],\n",
       "      dtype='object')"
      ]
     },
     "execution_count": 6,
     "metadata": {},
     "output_type": "execute_result"
    }
   ],
   "source": [
    "df.columns"
   ]
  },
  {
   "cell_type": "code",
   "execution_count": 7,
   "metadata": {},
   "outputs": [],
   "source": [
    "#predict - fuel efficiency (miles per gallon(mpg)) - dependent variable\n",
    "#predictor - independent variable"
   ]
  },
  {
   "cell_type": "code",
   "execution_count": 8,
   "metadata": {},
   "outputs": [
    {
     "data": {
      "text/plain": [
       "<bound method NDFrame.head of       mpg  cylinders  displacement  horsepower  weight  acceleration  \\\n",
       "0    18.0          8         307.0         130    3504          12.0   \n",
       "1    15.0          8         350.0         165    3693          11.5   \n",
       "2    18.0          8         318.0         150    3436          11.0   \n",
       "3    16.0          8         304.0         150    3433          12.0   \n",
       "4    17.0          8         302.0         140    3449          10.5   \n",
       "..    ...        ...           ...         ...     ...           ...   \n",
       "387  27.0          4         140.0          86    2790          15.6   \n",
       "388  44.0          4          97.0          52    2130          24.6   \n",
       "389  32.0          4         135.0          84    2295          11.6   \n",
       "390  28.0          4         120.0          79    2625          18.6   \n",
       "391  31.0          4         119.0          82    2720          19.4   \n",
       "\n",
       "     model year  origin  \n",
       "0            70       1  \n",
       "1            70       1  \n",
       "2            70       1  \n",
       "3            70       1  \n",
       "4            70       1  \n",
       "..          ...     ...  \n",
       "387          82       1  \n",
       "388          82       2  \n",
       "389          82       1  \n",
       "390          82       1  \n",
       "391          82       1  \n",
       "\n",
       "[392 rows x 8 columns]>"
      ]
     },
     "execution_count": 8,
     "metadata": {},
     "output_type": "execute_result"
    }
   ],
   "source": [
    "df = df.drop(columns = ['car name'])\n",
    "df.head"
   ]
  },
  {
   "cell_type": "code",
   "execution_count": 13,
   "metadata": {},
   "outputs": [],
   "source": [
    "df = df.dropna()"
   ]
  },
  {
   "cell_type": "code",
   "execution_count": 14,
   "metadata": {},
   "outputs": [
    {
     "data": {
      "text/plain": [
       "mpg             1.000000\n",
       "cylinders      -0.777618\n",
       "displacement   -0.805127\n",
       "horsepower     -0.778427\n",
       "weight         -0.832244\n",
       "acceleration    0.423329\n",
       "model year      0.580541\n",
       "origin          0.565209\n",
       "Name: mpg, dtype: float64"
      ]
     },
     "execution_count": 14,
     "metadata": {},
     "output_type": "execute_result"
    }
   ],
   "source": [
    "df.corr()['mpg']"
   ]
  },
  {
   "cell_type": "code",
   "execution_count": 18,
   "metadata": {},
   "outputs": [],
   "source": [
    "x = df['weight']\n",
    "y= df['mpg']"
   ]
  },
  {
   "cell_type": "code",
   "execution_count": 19,
   "metadata": {},
   "outputs": [],
   "source": [
    "x = sm.add_constant(x)"
   ]
  },
  {
   "cell_type": "code",
   "execution_count": 20,
   "metadata": {},
   "outputs": [],
   "source": [
    "model = sm.OLS(y, x)\n",
    "results = model.fit()"
   ]
  },
  {
   "cell_type": "code",
   "execution_count": 21,
   "metadata": {},
   "outputs": [
    {
     "name": "stdout",
     "output_type": "stream",
     "text": [
      "                            OLS Regression Results                            \n",
      "==============================================================================\n",
      "Dep. Variable:                    mpg   R-squared:                       0.693\n",
      "Model:                            OLS   Adj. R-squared:                  0.692\n",
      "Method:                 Least Squares   F-statistic:                     878.8\n",
      "Date:                Wed, 14 May 2025   Prob (F-statistic):          6.02e-102\n",
      "Time:                        10:27:39   Log-Likelihood:                -1130.0\n",
      "No. Observations:                 392   AIC:                             2264.\n",
      "Df Residuals:                     390   BIC:                             2272.\n",
      "Df Model:                           1                                         \n",
      "Covariance Type:            nonrobust                                         \n",
      "==============================================================================\n",
      "                 coef    std err          t      P>|t|      [0.025      0.975]\n",
      "------------------------------------------------------------------------------\n",
      "const         46.2165      0.799     57.867      0.000      44.646      47.787\n",
      "weight        -0.0076      0.000    -29.645      0.000      -0.008      -0.007\n",
      "==============================================================================\n",
      "Omnibus:                       41.682   Durbin-Watson:                   0.808\n",
      "Prob(Omnibus):                  0.000   Jarque-Bera (JB):               60.039\n",
      "Skew:                           0.727   Prob(JB):                     9.18e-14\n",
      "Kurtosis:                       4.251   Cond. No.                     1.13e+04\n",
      "==============================================================================\n",
      "\n",
      "Notes:\n",
      "[1] Standard Errors assume that the covariance matrix of the errors is correctly specified.\n",
      "[2] The condition number is large, 1.13e+04. This might indicate that there are\n",
      "strong multicollinearity or other numerical problems.\n"
     ]
    }
   ],
   "source": [
    "print(results.summary())"
   ]
  },
  {
   "cell_type": "code",
   "execution_count": 22,
   "metadata": {},
   "outputs": [
    {
     "ename": "SyntaxError",
     "evalue": "invalid syntax (<ipython-input-22-0affaf4e31a7>, line 2)",
     "output_type": "error",
     "traceback": [
      "\u001b[1;36m  File \u001b[1;32m\"<ipython-input-22-0affaf4e31a7>\"\u001b[1;36m, line \u001b[1;32m2\u001b[0m\n\u001b[1;33m    df.plot.scatter(x=\"weight\", y=\"mpg\", ax=ax. label = 'Actual data');\u001b[0m\n\u001b[1;37m                                                      ^\u001b[0m\n\u001b[1;31mSyntaxError\u001b[0m\u001b[1;31m:\u001b[0m invalid syntax\n"
     ]
    }
   ],
   "source": [
    "fig.ax = plt.subplots()\n",
    "df.plot.scatter(x=\"weight\", y=\"mpg\", ax=ax. label = 'Actual data');\n"
   ]
  },
  {
   "cell_type": "code",
   "execution_count": 23,
   "metadata": {},
   "outputs": [],
   "source": [
    "x1 = df[['weight', 'model year']]\n",
    "x1 = sm.add_constant(x1)"
   ]
  },
  {
   "cell_type": "code",
   "execution_count": 24,
   "metadata": {},
   "outputs": [],
   "source": [
    "model1 = sm.OLS(y, x1)\n",
    "results1= model1.fit()"
   ]
  },
  {
   "cell_type": "code",
   "execution_count": 25,
   "metadata": {},
   "outputs": [
    {
     "name": "stdout",
     "output_type": "stream",
     "text": [
      "                            OLS Regression Results                            \n",
      "==============================================================================\n",
      "Dep. Variable:                    mpg   R-squared:                       0.808\n",
      "Model:                            OLS   Adj. R-squared:                  0.807\n",
      "Method:                 Least Squares   F-statistic:                     819.5\n",
      "Date:                Wed, 14 May 2025   Prob (F-statistic):          3.33e-140\n",
      "Time:                        10:39:01   Log-Likelihood:                -1037.6\n",
      "No. Observations:                 392   AIC:                             2081.\n",
      "Df Residuals:                     389   BIC:                             2093.\n",
      "Df Model:                           2                                         \n",
      "Covariance Type:            nonrobust                                         \n",
      "==============================================================================\n",
      "                 coef    std err          t      P>|t|      [0.025      0.975]\n",
      "------------------------------------------------------------------------------\n",
      "const        -14.3473      4.007     -3.581      0.000     -22.224      -6.470\n",
      "weight        -0.0066      0.000    -30.911      0.000      -0.007      -0.006\n",
      "model year     0.7573      0.049     15.308      0.000       0.660       0.855\n",
      "==============================================================================\n",
      "Omnibus:                       42.504   Durbin-Watson:                   1.230\n",
      "Prob(Omnibus):                  0.000   Jarque-Bera (JB):               71.997\n",
      "Skew:                           0.670   Prob(JB):                     2.32e-16\n",
      "Kurtosis:                       4.616   Cond. No.                     7.17e+04\n",
      "==============================================================================\n",
      "\n",
      "Notes:\n",
      "[1] Standard Errors assume that the covariance matrix of the errors is correctly specified.\n",
      "[2] The condition number is large, 7.17e+04. This might indicate that there are\n",
      "strong multicollinearity or other numerical problems.\n"
     ]
    }
   ],
   "source": [
    "print(results1.summary())"
   ]
  },
  {
   "cell_type": "code",
   "execution_count": 27,
   "metadata": {},
   "outputs": [],
   "source": [
    "x2 = df[['weight', 'model year', 'horsepower']]\n",
    "x2 = sm.add_constant(x1)"
   ]
  },
  {
   "cell_type": "code",
   "execution_count": 28,
   "metadata": {},
   "outputs": [],
   "source": [
    "model2 = sm.OLS(y, x2)\n",
    "results2= model2.fit()"
   ]
  },
  {
   "cell_type": "code",
   "execution_count": 30,
   "metadata": {},
   "outputs": [
    {
     "name": "stdout",
     "output_type": "stream",
     "text": [
      "                            OLS Regression Results                            \n",
      "==============================================================================\n",
      "Dep. Variable:                    mpg   R-squared:                       0.808\n",
      "Model:                            OLS   Adj. R-squared:                  0.807\n",
      "Method:                 Least Squares   F-statistic:                     545.4\n",
      "Date:                Wed, 14 May 2025   Prob (F-statistic):          9.37e-139\n",
      "Time:                        10:43:56   Log-Likelihood:                -1037.4\n",
      "No. Observations:                 392   AIC:                             2083.\n",
      "Df Residuals:                     388   BIC:                             2099.\n",
      "Df Model:                           3                                         \n",
      "Covariance Type:            nonrobust                                         \n",
      "==============================================================================\n",
      "                 coef    std err          t      P>|t|      [0.025      0.975]\n",
      "------------------------------------------------------------------------------\n",
      "const        -13.7194      4.182     -3.281      0.001     -21.941      -5.498\n",
      "weight        -0.0064      0.000    -15.768      0.000      -0.007      -0.006\n",
      "model year     0.7487      0.052     14.365      0.000       0.646       0.851\n",
      "horsepower    -0.0050      0.009     -0.530      0.597      -0.024       0.014\n",
      "==============================================================================\n",
      "Omnibus:                       41.952   Durbin-Watson:                   1.227\n",
      "Prob(Omnibus):                  0.000   Jarque-Bera (JB):               69.490\n",
      "Skew:                           0.671   Prob(JB):                     8.14e-16\n",
      "Kurtosis:                       4.566   Cond. No.                     7.48e+04\n",
      "==============================================================================\n",
      "\n",
      "Notes:\n",
      "[1] Standard Errors assume that the covariance matrix of the errors is correctly specified.\n",
      "[2] The condition number is large, 7.48e+04. This might indicate that there are\n",
      "strong multicollinearity or other numerical problems.\n"
     ]
    }
   ],
   "source": [
    "print(results2.summary())"
   ]
  },
  {
   "cell_type": "code",
   "execution_count": 33,
   "metadata": {},
   "outputs": [
    {
     "name": "stdout",
     "output_type": "stream",
     "text": [
      "0       2.552875\n",
      "1       0.946491\n",
      "2       2.214424\n",
      "3       0.195081\n",
      "4       1.248247\n",
      "         ...    \n",
      "387    -2.255267\n",
      "388    10.319229\n",
      "389    -0.456900\n",
      "390    -2.354143\n",
      "391     1.273392\n",
      "Length: 392, dtype: float64\n"
     ]
    }
   ],
   "source": [
    "residual = results2.resid\n",
    "print(residual)"
   ]
  },
  {
   "cell_type": "markdown",
   "metadata": {},
   "source": [
    "Dealing with categorical Variables"
   ]
  },
  {
   "cell_type": "code",
   "execution_count": 43,
   "metadata": {},
   "outputs": [],
   "source": [
    "import pandas as pd\n",
    "import numpy as np\n",
    "import seaborn as sns\n",
    "from sklearn.model_selection import train_test_split\n",
    "from sklearn.linear_model import LinearRegression\n",
    "from sklearn.metrics import mean_squared_error, r2_score\n",
    "from sklearn.preprocessing import OneHotEncoder\n",
    "import statsmodels.api as sm\n",
    "import matplotlib.pyplot as plt"
   ]
  },
  {
   "cell_type": "code",
   "execution_count": 46,
   "metadata": {},
   "outputs": [
    {
     "ename": "NameError",
     "evalue": "name 'flights' is not defined",
     "output_type": "error",
     "traceback": [
      "\u001b[1;31m---------------------------------------------------------------------------\u001b[0m",
      "\u001b[1;31mNameError\u001b[0m                                 Traceback (most recent call last)",
      "\u001b[1;32m<ipython-input-46-b1b11e04e53a>\u001b[0m in \u001b[0;36m<module>\u001b[1;34m\u001b[0m\n\u001b[0;32m      1\u001b[0m \u001b[0mflight\u001b[0m \u001b[1;33m=\u001b[0m\u001b[0msns\u001b[0m\u001b[1;33m.\u001b[0m\u001b[0mload_dataset\u001b[0m\u001b[1;33m(\u001b[0m\u001b[1;34m'flights'\u001b[0m\u001b[1;33m)\u001b[0m\u001b[1;33m\u001b[0m\u001b[1;33m\u001b[0m\u001b[0m\n\u001b[1;32m----> 2\u001b[1;33m \u001b[0mflights\u001b[0m\u001b[1;33m.\u001b[0m\u001b[0mhead\u001b[0m\u001b[1;33m(\u001b[0m\u001b[1;33m)\u001b[0m\u001b[1;33m\u001b[0m\u001b[1;33m\u001b[0m\u001b[0m\n\u001b[0m",
      "\u001b[1;31mNameError\u001b[0m: name 'flights' is not defined"
     ]
    }
   ],
   "source": [
    "flight =sns.load_dataset('flights')\n",
    "flights.head()"
   ]
  },
  {
   "cell_type": "code",
   "execution_count": null,
   "metadata": {},
   "outputs": [],
   "source": [
    "flights.info()"
   ]
  },
  {
   "cell_type": "code",
   "execution_count": null,
   "metadata": {},
   "outputs": [],
   "source": [
    "x = flight.drop(columns = ['passengers'])\n",
    "y = flight"
   ]
  }
 ],
 "metadata": {
  "kernelspec": {
   "display_name": "Python (learn-env)",
   "language": "python",
   "name": "learn-env"
  },
  "language_info": {
   "codemirror_mode": {
    "name": "ipython",
    "version": 3
   },
   "file_extension": ".py",
   "mimetype": "text/x-python",
   "name": "python",
   "nbconvert_exporter": "python",
   "pygments_lexer": "ipython3",
   "version": "3.8.5"
  }
 },
 "nbformat": 4,
 "nbformat_minor": 4
}
