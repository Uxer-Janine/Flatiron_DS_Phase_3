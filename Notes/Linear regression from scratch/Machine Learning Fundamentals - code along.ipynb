{
 "cells": [
  {
   "cell_type": "code",
   "execution_count": 2,
   "id": "e8ea8311",
   "metadata": {},
   "outputs": [
    {
     "data": {
      "text/html": [
       "<div>\n",
       "<style scoped>\n",
       "    .dataframe tbody tr th:only-of-type {\n",
       "        vertical-align: middle;\n",
       "    }\n",
       "\n",
       "    .dataframe tbody tr th {\n",
       "        vertical-align: top;\n",
       "    }\n",
       "\n",
       "    .dataframe thead th {\n",
       "        text-align: right;\n",
       "    }\n",
       "</style>\n",
       "<table border=\"1\" class=\"dataframe\">\n",
       "  <thead>\n",
       "    <tr style=\"text-align: right;\">\n",
       "      <th></th>\n",
       "      <th>mpg</th>\n",
       "      <th>cylinders</th>\n",
       "      <th>displacement</th>\n",
       "      <th>horsepower</th>\n",
       "      <th>weight</th>\n",
       "      <th>acceleration</th>\n",
       "      <th>model year</th>\n",
       "      <th>origin</th>\n",
       "      <th>car name</th>\n",
       "    </tr>\n",
       "  </thead>\n",
       "  <tbody>\n",
       "    <tr>\n",
       "      <th>0</th>\n",
       "      <td>18.0</td>\n",
       "      <td>8</td>\n",
       "      <td>307.0</td>\n",
       "      <td>130</td>\n",
       "      <td>3504</td>\n",
       "      <td>12.0</td>\n",
       "      <td>70</td>\n",
       "      <td>1</td>\n",
       "      <td>chevrolet chevelle malibu</td>\n",
       "    </tr>\n",
       "    <tr>\n",
       "      <th>1</th>\n",
       "      <td>15.0</td>\n",
       "      <td>8</td>\n",
       "      <td>350.0</td>\n",
       "      <td>165</td>\n",
       "      <td>3693</td>\n",
       "      <td>11.5</td>\n",
       "      <td>70</td>\n",
       "      <td>1</td>\n",
       "      <td>buick skylark 320</td>\n",
       "    </tr>\n",
       "    <tr>\n",
       "      <th>2</th>\n",
       "      <td>18.0</td>\n",
       "      <td>8</td>\n",
       "      <td>318.0</td>\n",
       "      <td>150</td>\n",
       "      <td>3436</td>\n",
       "      <td>11.0</td>\n",
       "      <td>70</td>\n",
       "      <td>1</td>\n",
       "      <td>plymouth satellite</td>\n",
       "    </tr>\n",
       "    <tr>\n",
       "      <th>3</th>\n",
       "      <td>16.0</td>\n",
       "      <td>8</td>\n",
       "      <td>304.0</td>\n",
       "      <td>150</td>\n",
       "      <td>3433</td>\n",
       "      <td>12.0</td>\n",
       "      <td>70</td>\n",
       "      <td>1</td>\n",
       "      <td>amc rebel sst</td>\n",
       "    </tr>\n",
       "    <tr>\n",
       "      <th>4</th>\n",
       "      <td>17.0</td>\n",
       "      <td>8</td>\n",
       "      <td>302.0</td>\n",
       "      <td>140</td>\n",
       "      <td>3449</td>\n",
       "      <td>10.5</td>\n",
       "      <td>70</td>\n",
       "      <td>1</td>\n",
       "      <td>ford torino</td>\n",
       "    </tr>\n",
       "  </tbody>\n",
       "</table>\n",
       "</div>"
      ],
      "text/plain": [
       "    mpg  cylinders  displacement  horsepower  weight  acceleration  \\\n",
       "0  18.0          8         307.0         130    3504          12.0   \n",
       "1  15.0          8         350.0         165    3693          11.5   \n",
       "2  18.0          8         318.0         150    3436          11.0   \n",
       "3  16.0          8         304.0         150    3433          12.0   \n",
       "4  17.0          8         302.0         140    3449          10.5   \n",
       "\n",
       "   model year  origin                   car name  \n",
       "0          70       1  chevrolet chevelle malibu  \n",
       "1          70       1          buick skylark 320  \n",
       "2          70       1         plymouth satellite  \n",
       "3          70       1              amc rebel sst  \n",
       "4          70       1                ford torino  "
      ]
     },
     "execution_count": 2,
     "metadata": {},
     "output_type": "execute_result"
    }
   ],
   "source": [
    "import pandas as pd \n",
    "\n",
    "data = pd.read_csv(\"auto-mpg.csv\")\n",
    "\n",
    "data.head()"
   ]
  },
  {
   "cell_type": "code",
   "execution_count": 3,
   "id": "b6ae0591",
   "metadata": {},
   "outputs": [],
   "source": [
    "from sklearn.model_selection import train_test_split\n",
    "train, test = train_test_split(data)"
   ]
  },
  {
   "cell_type": "code",
   "execution_count": 5,
   "id": "7f3e1723",
   "metadata": {},
   "outputs": [
    {
     "data": {
      "text/plain": [
       "(392, 9)"
      ]
     },
     "execution_count": 5,
     "metadata": {},
     "output_type": "execute_result"
    }
   ],
   "source": [
    "data.shape"
   ]
  },
  {
   "cell_type": "code",
   "execution_count": 6,
   "id": "17099d65",
   "metadata": {},
   "outputs": [
    {
     "data": {
      "text/plain": [
       "(294, 9)"
      ]
     },
     "execution_count": 6,
     "metadata": {},
     "output_type": "execute_result"
    }
   ],
   "source": [
    "train.shape"
   ]
  },
  {
   "cell_type": "code",
   "execution_count": 7,
   "id": "0386518e",
   "metadata": {},
   "outputs": [
    {
     "data": {
      "text/plain": [
       "(98, 9)"
      ]
     },
     "execution_count": 7,
     "metadata": {},
     "output_type": "execute_result"
    }
   ],
   "source": [
    "test.shape"
   ]
  },
  {
   "cell_type": "code",
   "execution_count": 8,
   "id": "4c7b13ea",
   "metadata": {},
   "outputs": [],
   "source": [
    "y = data[\"mpg\"]\n",
    "\n",
    "X = data.drop([\"mpg\", \"car name\"], axis=1)\n",
    "\n",
    "# split the data \n",
    "X_train, X_test, y_train, y_test = train_test_split(X, y)"
   ]
  },
  {
   "cell_type": "code",
   "execution_count": 9,
   "id": "004aa06c",
   "metadata": {},
   "outputs": [
    {
     "data": {
      "text/html": [
       "<div>\n",
       "<style scoped>\n",
       "    .dataframe tbody tr th:only-of-type {\n",
       "        vertical-align: middle;\n",
       "    }\n",
       "\n",
       "    .dataframe tbody tr th {\n",
       "        vertical-align: top;\n",
       "    }\n",
       "\n",
       "    .dataframe thead th {\n",
       "        text-align: right;\n",
       "    }\n",
       "</style>\n",
       "<table border=\"1\" class=\"dataframe\">\n",
       "  <thead>\n",
       "    <tr style=\"text-align: right;\">\n",
       "      <th></th>\n",
       "      <th>cylinders</th>\n",
       "      <th>displacement</th>\n",
       "      <th>horsepower</th>\n",
       "      <th>weight</th>\n",
       "      <th>acceleration</th>\n",
       "      <th>model year</th>\n",
       "      <th>origin</th>\n",
       "    </tr>\n",
       "  </thead>\n",
       "  <tbody>\n",
       "    <tr>\n",
       "      <th>106</th>\n",
       "      <td>6</td>\n",
       "      <td>232.0</td>\n",
       "      <td>100</td>\n",
       "      <td>2789</td>\n",
       "      <td>15.0</td>\n",
       "      <td>73</td>\n",
       "      <td>1</td>\n",
       "    </tr>\n",
       "    <tr>\n",
       "      <th>68</th>\n",
       "      <td>8</td>\n",
       "      <td>350.0</td>\n",
       "      <td>160</td>\n",
       "      <td>4456</td>\n",
       "      <td>13.5</td>\n",
       "      <td>72</td>\n",
       "      <td>1</td>\n",
       "    </tr>\n",
       "    <tr>\n",
       "      <th>239</th>\n",
       "      <td>6</td>\n",
       "      <td>146.0</td>\n",
       "      <td>97</td>\n",
       "      <td>2815</td>\n",
       "      <td>14.5</td>\n",
       "      <td>77</td>\n",
       "      <td>3</td>\n",
       "    </tr>\n",
       "    <tr>\n",
       "      <th>18</th>\n",
       "      <td>4</td>\n",
       "      <td>97.0</td>\n",
       "      <td>88</td>\n",
       "      <td>2130</td>\n",
       "      <td>14.5</td>\n",
       "      <td>70</td>\n",
       "      <td>3</td>\n",
       "    </tr>\n",
       "    <tr>\n",
       "      <th>276</th>\n",
       "      <td>4</td>\n",
       "      <td>89.0</td>\n",
       "      <td>71</td>\n",
       "      <td>1990</td>\n",
       "      <td>14.9</td>\n",
       "      <td>78</td>\n",
       "      <td>2</td>\n",
       "    </tr>\n",
       "  </tbody>\n",
       "</table>\n",
       "</div>"
      ],
      "text/plain": [
       "     cylinders  displacement  horsepower  weight  acceleration  model year  \\\n",
       "106          6         232.0         100    2789          15.0          73   \n",
       "68           8         350.0         160    4456          13.5          72   \n",
       "239          6         146.0          97    2815          14.5          77   \n",
       "18           4          97.0          88    2130          14.5          70   \n",
       "276          4          89.0          71    1990          14.9          78   \n",
       "\n",
       "     origin  \n",
       "106       1  \n",
       "68        1  \n",
       "239       3  \n",
       "18        3  \n",
       "276       2  "
      ]
     },
     "execution_count": 9,
     "metadata": {},
     "output_type": "execute_result"
    }
   ],
   "source": [
    "X_train.head()"
   ]
  },
  {
   "cell_type": "code",
   "execution_count": 10,
   "id": "e5612f55",
   "metadata": {},
   "outputs": [
    {
     "data": {
      "text/plain": [
       "(294, 7)"
      ]
     },
     "execution_count": 10,
     "metadata": {},
     "output_type": "execute_result"
    }
   ],
   "source": [
    "X_train.shape"
   ]
  },
  {
   "cell_type": "code",
   "execution_count": 11,
   "id": "fc1377fe",
   "metadata": {},
   "outputs": [
    {
     "data": {
      "text/plain": [
       "(294,)"
      ]
     },
     "execution_count": 11,
     "metadata": {},
     "output_type": "execute_result"
    }
   ],
   "source": [
    "y_train.shape"
   ]
  },
  {
   "cell_type": "code",
   "execution_count": 12,
   "id": "46abe7c0",
   "metadata": {},
   "outputs": [
    {
     "name": "stdout",
     "output_type": "stream",
     "text": [
      "294 98 294 98\n"
     ]
    }
   ],
   "source": [
    "print(len(X_train), len(X_test), len(y_train), len(y_test))"
   ]
  },
  {
   "cell_type": "code",
   "execution_count": 14,
   "id": "2471c04e",
   "metadata": {},
   "outputs": [],
   "source": [
    "X_train,X_test, y_train, y_test = train_test_split(X, y,test_size=0.2, random_state=42)"
   ]
  },
  {
   "cell_type": "code",
   "execution_count": 15,
   "id": "4c2f439d",
   "metadata": {},
   "outputs": [
    {
     "name": "stdout",
     "output_type": "stream",
     "text": [
      "313 79 313 79\n"
     ]
    }
   ],
   "source": [
    "print(len(X_train), len(X_test), len(y_train), len(y_test))"
   ]
  },
  {
   "cell_type": "markdown",
   "id": "2337380c",
   "metadata": {},
   "source": [
    "## Log Transformation"
   ]
  },
  {
   "cell_type": "code",
   "execution_count": 18,
   "id": "fb415131",
   "metadata": {},
   "outputs": [
    {
     "data": {
      "text/html": [
       "<div>\n",
       "<style scoped>\n",
       "    .dataframe tbody tr th:only-of-type {\n",
       "        vertical-align: middle;\n",
       "    }\n",
       "\n",
       "    .dataframe tbody tr th {\n",
       "        vertical-align: top;\n",
       "    }\n",
       "\n",
       "    .dataframe thead th {\n",
       "        text-align: right;\n",
       "    }\n",
       "</style>\n",
       "<table border=\"1\" class=\"dataframe\">\n",
       "  <thead>\n",
       "    <tr style=\"text-align: right;\">\n",
       "      <th></th>\n",
       "      <th>log_disp</th>\n",
       "      <th>log_hp</th>\n",
       "      <th>log_wt</th>\n",
       "    </tr>\n",
       "  </thead>\n",
       "  <tbody>\n",
       "    <tr>\n",
       "      <th>258</th>\n",
       "      <td>5.416100</td>\n",
       "      <td>4.700480</td>\n",
       "      <td>8.194229</td>\n",
       "    </tr>\n",
       "    <tr>\n",
       "      <th>182</th>\n",
       "      <td>4.941642</td>\n",
       "      <td>4.521789</td>\n",
       "      <td>7.852439</td>\n",
       "    </tr>\n",
       "    <tr>\n",
       "      <th>172</th>\n",
       "      <td>5.141664</td>\n",
       "      <td>4.574711</td>\n",
       "      <td>8.001020</td>\n",
       "    </tr>\n",
       "    <tr>\n",
       "      <th>63</th>\n",
       "      <td>5.762051</td>\n",
       "      <td>5.010635</td>\n",
       "      <td>8.327243</td>\n",
       "    </tr>\n",
       "    <tr>\n",
       "      <th>340</th>\n",
       "      <td>4.454347</td>\n",
       "      <td>4.158883</td>\n",
       "      <td>7.536364</td>\n",
       "    </tr>\n",
       "  </tbody>\n",
       "</table>\n",
       "</div>"
      ],
      "text/plain": [
       "     log_disp    log_hp    log_wt\n",
       "258  5.416100  4.700480  8.194229\n",
       "182  4.941642  4.521789  7.852439\n",
       "172  5.141664  4.574711  8.001020\n",
       "63   5.762051  5.010635  8.327243\n",
       "340  4.454347  4.158883  7.536364"
      ]
     },
     "execution_count": 18,
     "metadata": {},
     "output_type": "execute_result"
    }
   ],
   "source": [
    "from sklearn.preprocessing import FunctionTransformer\n",
    "import numpy as np\n",
    "\n",
    "# Instantiate a custom transformer for log transformation \n",
    "log_transformer = FunctionTransformer(np.log, validate=True)\n",
    "\n",
    "# Columns to be log transformed \n",
    "log_columns = ['displacement', 'horsepower', 'weight']\n",
    "\n",
    "# New names for columns after transformation\n",
    "new_log_columns = ['log_disp', 'log_hp', 'log_wt']\n",
    "\n",
    "# Log transform the training columns and convert them into a DataFrame \n",
    "X_train_log = pd.DataFrame(log_transformer.fit_transform(X_train[log_columns]), \n",
    "                           columns=new_log_columns, index=X_train.index)\n",
    "\n",
    "X_train_log.head()"
   ]
  },
  {
   "cell_type": "code",
   "execution_count": 19,
   "id": "4314e791",
   "metadata": {},
   "outputs": [
    {
     "data": {
      "text/html": [
       "<div>\n",
       "<style scoped>\n",
       "    .dataframe tbody tr th:only-of-type {\n",
       "        vertical-align: middle;\n",
       "    }\n",
       "\n",
       "    .dataframe tbody tr th {\n",
       "        vertical-align: top;\n",
       "    }\n",
       "\n",
       "    .dataframe thead th {\n",
       "        text-align: right;\n",
       "    }\n",
       "</style>\n",
       "<table border=\"1\" class=\"dataframe\">\n",
       "  <thead>\n",
       "    <tr style=\"text-align: right;\">\n",
       "      <th></th>\n",
       "      <th>log_disp</th>\n",
       "      <th>log_hp</th>\n",
       "      <th>log_wt</th>\n",
       "    </tr>\n",
       "  </thead>\n",
       "  <tbody>\n",
       "    <tr>\n",
       "      <th>78</th>\n",
       "      <td>4.564348</td>\n",
       "      <td>4.234107</td>\n",
       "      <td>7.691200</td>\n",
       "    </tr>\n",
       "    <tr>\n",
       "      <th>274</th>\n",
       "      <td>4.795791</td>\n",
       "      <td>4.744932</td>\n",
       "      <td>7.935587</td>\n",
       "    </tr>\n",
       "    <tr>\n",
       "      <th>246</th>\n",
       "      <td>4.510860</td>\n",
       "      <td>4.094345</td>\n",
       "      <td>7.495542</td>\n",
       "    </tr>\n",
       "    <tr>\n",
       "      <th>55</th>\n",
       "      <td>4.510860</td>\n",
       "      <td>4.248495</td>\n",
       "      <td>7.578145</td>\n",
       "    </tr>\n",
       "    <tr>\n",
       "      <th>387</th>\n",
       "      <td>4.941642</td>\n",
       "      <td>4.454347</td>\n",
       "      <td>7.933797</td>\n",
       "    </tr>\n",
       "  </tbody>\n",
       "</table>\n",
       "</div>"
      ],
      "text/plain": [
       "     log_disp    log_hp    log_wt\n",
       "78   4.564348  4.234107  7.691200\n",
       "274  4.795791  4.744932  7.935587\n",
       "246  4.510860  4.094345  7.495542\n",
       "55   4.510860  4.248495  7.578145\n",
       "387  4.941642  4.454347  7.933797"
      ]
     },
     "execution_count": 19,
     "metadata": {},
     "output_type": "execute_result"
    }
   ],
   "source": [
    "# Log transform the test columns and convert them into a DataFrame \n",
    "X_test_log = pd.DataFrame(log_transformer.transform(X_test[log_columns]), \n",
    "                          columns=new_log_columns, index=X_test.index)\n",
    "\n",
    "X_test_log.head()"
   ]
  },
  {
   "cell_type": "code",
   "execution_count": 20,
   "id": "9425c933",
   "metadata": {},
   "outputs": [
    {
     "data": {
      "text/html": [
       "<div>\n",
       "<style scoped>\n",
       "    .dataframe tbody tr th:only-of-type {\n",
       "        vertical-align: middle;\n",
       "    }\n",
       "\n",
       "    .dataframe tbody tr th {\n",
       "        vertical-align: top;\n",
       "    }\n",
       "\n",
       "    .dataframe thead th {\n",
       "        text-align: right;\n",
       "    }\n",
       "</style>\n",
       "<table border=\"1\" class=\"dataframe\">\n",
       "  <thead>\n",
       "    <tr style=\"text-align: right;\">\n",
       "      <th></th>\n",
       "      <th>0</th>\n",
       "      <th>1</th>\n",
       "    </tr>\n",
       "  </thead>\n",
       "  <tbody>\n",
       "    <tr>\n",
       "      <th>258</th>\n",
       "      <td>0.0</td>\n",
       "      <td>0.0</td>\n",
       "    </tr>\n",
       "    <tr>\n",
       "      <th>182</th>\n",
       "      <td>0.0</td>\n",
       "      <td>0.0</td>\n",
       "    </tr>\n",
       "    <tr>\n",
       "      <th>172</th>\n",
       "      <td>0.0</td>\n",
       "      <td>0.0</td>\n",
       "    </tr>\n",
       "    <tr>\n",
       "      <th>63</th>\n",
       "      <td>0.0</td>\n",
       "      <td>0.0</td>\n",
       "    </tr>\n",
       "    <tr>\n",
       "      <th>340</th>\n",
       "      <td>0.0</td>\n",
       "      <td>0.0</td>\n",
       "    </tr>\n",
       "  </tbody>\n",
       "</table>\n",
       "</div>"
      ],
      "text/plain": [
       "       0    1\n",
       "258  0.0  0.0\n",
       "182  0.0  0.0\n",
       "172  0.0  0.0\n",
       "63   0.0  0.0\n",
       "340  0.0  0.0"
      ]
     },
     "execution_count": 20,
     "metadata": {},
     "output_type": "execute_result"
    }
   ],
   "source": [
    "from sklearn.preprocessing import OneHotEncoder\n",
    "\n",
    "# Instantiate OneHotEncoder\n",
    "# Need to use sparse_output=False for sklearn 1.2 or greater\n",
    "ohe=OneHotEncoder(drop=\"first\", sparse=False)\n",
    "\n",
    "# Create X_cat which contains only the categorical variables\n",
    "cat_columns = [\"origin\"]\n",
    "X_train_cat = X_train.loc[:,cat_columns]\n",
    "\n",
    "# Transform training set\n",
    "X_train_ohe = pd.DataFrame(ohe.fit_transform(X_train_cat),\n",
    "                           index=X_train.index)\n",
    "\n",
    "X_train_ohe.head()"
   ]
  },
  {
   "cell_type": "code",
   "execution_count": 21,
   "id": "cece5d0c",
   "metadata": {},
   "outputs": [
    {
     "data": {
      "text/html": [
       "<div>\n",
       "<style scoped>\n",
       "    .dataframe tbody tr th:only-of-type {\n",
       "        vertical-align: middle;\n",
       "    }\n",
       "\n",
       "    .dataframe tbody tr th {\n",
       "        vertical-align: top;\n",
       "    }\n",
       "\n",
       "    .dataframe thead th {\n",
       "        text-align: right;\n",
       "    }\n",
       "</style>\n",
       "<table border=\"1\" class=\"dataframe\">\n",
       "  <thead>\n",
       "    <tr style=\"text-align: right;\">\n",
       "      <th></th>\n",
       "      <th>cylinders</th>\n",
       "      <th>displacement</th>\n",
       "      <th>horsepower</th>\n",
       "      <th>weight</th>\n",
       "      <th>acceleration</th>\n",
       "      <th>model year</th>\n",
       "      <th>origin</th>\n",
       "    </tr>\n",
       "  </thead>\n",
       "  <tbody>\n",
       "    <tr>\n",
       "      <th>258</th>\n",
       "      <td>6</td>\n",
       "      <td>225.0</td>\n",
       "      <td>110</td>\n",
       "      <td>3620</td>\n",
       "      <td>18.7</td>\n",
       "      <td>78</td>\n",
       "      <td>1</td>\n",
       "    </tr>\n",
       "    <tr>\n",
       "      <th>182</th>\n",
       "      <td>4</td>\n",
       "      <td>140.0</td>\n",
       "      <td>92</td>\n",
       "      <td>2572</td>\n",
       "      <td>14.9</td>\n",
       "      <td>76</td>\n",
       "      <td>1</td>\n",
       "    </tr>\n",
       "    <tr>\n",
       "      <th>172</th>\n",
       "      <td>6</td>\n",
       "      <td>171.0</td>\n",
       "      <td>97</td>\n",
       "      <td>2984</td>\n",
       "      <td>14.5</td>\n",
       "      <td>75</td>\n",
       "      <td>1</td>\n",
       "    </tr>\n",
       "    <tr>\n",
       "      <th>63</th>\n",
       "      <td>8</td>\n",
       "      <td>318.0</td>\n",
       "      <td>150</td>\n",
       "      <td>4135</td>\n",
       "      <td>13.5</td>\n",
       "      <td>72</td>\n",
       "      <td>1</td>\n",
       "    </tr>\n",
       "    <tr>\n",
       "      <th>340</th>\n",
       "      <td>4</td>\n",
       "      <td>86.0</td>\n",
       "      <td>64</td>\n",
       "      <td>1875</td>\n",
       "      <td>16.4</td>\n",
       "      <td>81</td>\n",
       "      <td>1</td>\n",
       "    </tr>\n",
       "  </tbody>\n",
       "</table>\n",
       "</div>"
      ],
      "text/plain": [
       "     cylinders  displacement  horsepower  weight  acceleration  model year  \\\n",
       "258          6         225.0         110    3620          18.7          78   \n",
       "182          4         140.0          92    2572          14.9          76   \n",
       "172          6         171.0          97    2984          14.5          75   \n",
       "63           8         318.0         150    4135          13.5          72   \n",
       "340          4          86.0          64    1875          16.4          81   \n",
       "\n",
       "     origin  \n",
       "258       1  \n",
       "182       1  \n",
       "172       1  \n",
       "63        1  \n",
       "340       1  "
      ]
     },
     "execution_count": 21,
     "metadata": {},
     "output_type": "execute_result"
    }
   ],
   "source": [
    "# Drop transform \n",
    "X_train.head()"
   ]
  },
  {
   "cell_type": "code",
   "execution_count": 22,
   "id": "497e7e75",
   "metadata": {},
   "outputs": [
    {
     "data": {
      "text/html": [
       "<div>\n",
       "<style scoped>\n",
       "    .dataframe tbody tr th:only-of-type {\n",
       "        vertical-align: middle;\n",
       "    }\n",
       "\n",
       "    .dataframe tbody tr th {\n",
       "        vertical-align: top;\n",
       "    }\n",
       "\n",
       "    .dataframe thead th {\n",
       "        text-align: right;\n",
       "    }\n",
       "</style>\n",
       "<table border=\"1\" class=\"dataframe\">\n",
       "  <thead>\n",
       "    <tr style=\"text-align: right;\">\n",
       "      <th></th>\n",
       "      <th>cylinders</th>\n",
       "      <th>acceleration</th>\n",
       "      <th>model year</th>\n",
       "      <th>log_disp</th>\n",
       "      <th>log_hp</th>\n",
       "      <th>log_wt</th>\n",
       "      <th>0</th>\n",
       "      <th>1</th>\n",
       "    </tr>\n",
       "  </thead>\n",
       "  <tbody>\n",
       "    <tr>\n",
       "      <th>258</th>\n",
       "      <td>6</td>\n",
       "      <td>18.7</td>\n",
       "      <td>78</td>\n",
       "      <td>5.416100</td>\n",
       "      <td>4.700480</td>\n",
       "      <td>8.194229</td>\n",
       "      <td>0.0</td>\n",
       "      <td>0.0</td>\n",
       "    </tr>\n",
       "    <tr>\n",
       "      <th>182</th>\n",
       "      <td>4</td>\n",
       "      <td>14.9</td>\n",
       "      <td>76</td>\n",
       "      <td>4.941642</td>\n",
       "      <td>4.521789</td>\n",
       "      <td>7.852439</td>\n",
       "      <td>0.0</td>\n",
       "      <td>0.0</td>\n",
       "    </tr>\n",
       "    <tr>\n",
       "      <th>172</th>\n",
       "      <td>6</td>\n",
       "      <td>14.5</td>\n",
       "      <td>75</td>\n",
       "      <td>5.141664</td>\n",
       "      <td>4.574711</td>\n",
       "      <td>8.001020</td>\n",
       "      <td>0.0</td>\n",
       "      <td>0.0</td>\n",
       "    </tr>\n",
       "    <tr>\n",
       "      <th>63</th>\n",
       "      <td>8</td>\n",
       "      <td>13.5</td>\n",
       "      <td>72</td>\n",
       "      <td>5.762051</td>\n",
       "      <td>5.010635</td>\n",
       "      <td>8.327243</td>\n",
       "      <td>0.0</td>\n",
       "      <td>0.0</td>\n",
       "    </tr>\n",
       "    <tr>\n",
       "      <th>340</th>\n",
       "      <td>4</td>\n",
       "      <td>16.4</td>\n",
       "      <td>81</td>\n",
       "      <td>4.454347</td>\n",
       "      <td>4.158883</td>\n",
       "      <td>7.536364</td>\n",
       "      <td>0.0</td>\n",
       "      <td>0.0</td>\n",
       "    </tr>\n",
       "  </tbody>\n",
       "</table>\n",
       "</div>"
      ],
      "text/plain": [
       "     cylinders  acceleration  model year  log_disp    log_hp    log_wt    0  \\\n",
       "258          6          18.7          78  5.416100  4.700480  8.194229  0.0   \n",
       "182          4          14.9          76  4.941642  4.521789  7.852439  0.0   \n",
       "172          6          14.5          75  5.141664  4.574711  8.001020  0.0   \n",
       "63           8          13.5          72  5.762051  5.010635  8.327243  0.0   \n",
       "340          4          16.4          81  4.454347  4.158883  7.536364  0.0   \n",
       "\n",
       "       1  \n",
       "258  0.0  \n",
       "182  0.0  \n",
       "172  0.0  \n",
       "63   0.0  \n",
       "340  0.0  "
      ]
     },
     "execution_count": 22,
     "metadata": {},
     "output_type": "execute_result"
    }
   ],
   "source": [
    "# Drop transformed columns\n",
    "\n",
    "cols_to_drop = log_columns + cat_columns\n",
    "X_train = X_train.drop(columns=cols_to_drop)\n",
    "\n",
    "# Combine the three datasets into training\n",
    "X_train_tr = pd.concat([X_train, X_train_log, X_train_ohe], axis=1)\n",
    "X_train_tr.head()"
   ]
  },
  {
   "cell_type": "code",
   "execution_count": 23,
   "id": "84c352e4",
   "metadata": {},
   "outputs": [
    {
     "data": {
      "text/html": [
       "<div>\n",
       "<style scoped>\n",
       "    .dataframe tbody tr th:only-of-type {\n",
       "        vertical-align: middle;\n",
       "    }\n",
       "\n",
       "    .dataframe tbody tr th {\n",
       "        vertical-align: top;\n",
       "    }\n",
       "\n",
       "    .dataframe thead th {\n",
       "        text-align: right;\n",
       "    }\n",
       "</style>\n",
       "<table border=\"1\" class=\"dataframe\">\n",
       "  <thead>\n",
       "    <tr style=\"text-align: right;\">\n",
       "      <th></th>\n",
       "      <th>0</th>\n",
       "      <th>1</th>\n",
       "    </tr>\n",
       "  </thead>\n",
       "  <tbody>\n",
       "    <tr>\n",
       "      <th>78</th>\n",
       "      <td>1.0</td>\n",
       "      <td>0.0</td>\n",
       "    </tr>\n",
       "    <tr>\n",
       "      <th>274</th>\n",
       "      <td>1.0</td>\n",
       "      <td>0.0</td>\n",
       "    </tr>\n",
       "    <tr>\n",
       "      <th>246</th>\n",
       "      <td>0.0</td>\n",
       "      <td>1.0</td>\n",
       "    </tr>\n",
       "    <tr>\n",
       "      <th>55</th>\n",
       "      <td>0.0</td>\n",
       "      <td>0.0</td>\n",
       "    </tr>\n",
       "    <tr>\n",
       "      <th>387</th>\n",
       "      <td>0.0</td>\n",
       "      <td>0.0</td>\n",
       "    </tr>\n",
       "  </tbody>\n",
       "</table>\n",
       "</div>"
      ],
      "text/plain": [
       "       0    1\n",
       "78   1.0  0.0\n",
       "274  1.0  0.0\n",
       "246  0.0  1.0\n",
       "55   0.0  0.0\n",
       "387  0.0  0.0"
      ]
     },
     "execution_count": 23,
     "metadata": {},
     "output_type": "execute_result"
    }
   ],
   "source": [
    "# Transform testing set\n",
    "X_test_ohe = pd.DataFrame(ohe.transform(X_test[cat_columns]),\n",
    "                          index=X_test.index)\n",
    "X_test_ohe.head()"
   ]
  },
  {
   "cell_type": "code",
   "execution_count": 24,
   "id": "728c36af",
   "metadata": {},
   "outputs": [
    {
     "data": {
      "text/html": [
       "<div>\n",
       "<style scoped>\n",
       "    .dataframe tbody tr th:only-of-type {\n",
       "        vertical-align: middle;\n",
       "    }\n",
       "\n",
       "    .dataframe tbody tr th {\n",
       "        vertical-align: top;\n",
       "    }\n",
       "\n",
       "    .dataframe thead th {\n",
       "        text-align: right;\n",
       "    }\n",
       "</style>\n",
       "<table border=\"1\" class=\"dataframe\">\n",
       "  <thead>\n",
       "    <tr style=\"text-align: right;\">\n",
       "      <th></th>\n",
       "      <th>cylinders</th>\n",
       "      <th>acceleration</th>\n",
       "      <th>model year</th>\n",
       "      <th>log_disp</th>\n",
       "      <th>log_hp</th>\n",
       "      <th>log_wt</th>\n",
       "      <th>0</th>\n",
       "      <th>1</th>\n",
       "    </tr>\n",
       "  </thead>\n",
       "  <tbody>\n",
       "    <tr>\n",
       "      <th>78</th>\n",
       "      <td>4</td>\n",
       "      <td>18.0</td>\n",
       "      <td>72</td>\n",
       "      <td>4.564348</td>\n",
       "      <td>4.234107</td>\n",
       "      <td>7.691200</td>\n",
       "      <td>1.0</td>\n",
       "      <td>0.0</td>\n",
       "    </tr>\n",
       "    <tr>\n",
       "      <th>274</th>\n",
       "      <td>4</td>\n",
       "      <td>15.7</td>\n",
       "      <td>78</td>\n",
       "      <td>4.795791</td>\n",
       "      <td>4.744932</td>\n",
       "      <td>7.935587</td>\n",
       "      <td>1.0</td>\n",
       "      <td>0.0</td>\n",
       "    </tr>\n",
       "    <tr>\n",
       "      <th>246</th>\n",
       "      <td>4</td>\n",
       "      <td>16.4</td>\n",
       "      <td>78</td>\n",
       "      <td>4.510860</td>\n",
       "      <td>4.094345</td>\n",
       "      <td>7.495542</td>\n",
       "      <td>0.0</td>\n",
       "      <td>1.0</td>\n",
       "    </tr>\n",
       "    <tr>\n",
       "      <th>55</th>\n",
       "      <td>4</td>\n",
       "      <td>20.5</td>\n",
       "      <td>71</td>\n",
       "      <td>4.510860</td>\n",
       "      <td>4.248495</td>\n",
       "      <td>7.578145</td>\n",
       "      <td>0.0</td>\n",
       "      <td>0.0</td>\n",
       "    </tr>\n",
       "    <tr>\n",
       "      <th>387</th>\n",
       "      <td>4</td>\n",
       "      <td>15.6</td>\n",
       "      <td>82</td>\n",
       "      <td>4.941642</td>\n",
       "      <td>4.454347</td>\n",
       "      <td>7.933797</td>\n",
       "      <td>0.0</td>\n",
       "      <td>0.0</td>\n",
       "    </tr>\n",
       "  </tbody>\n",
       "</table>\n",
       "</div>"
      ],
      "text/plain": [
       "     cylinders  acceleration  model year  log_disp    log_hp    log_wt    0  \\\n",
       "78           4          18.0          72  4.564348  4.234107  7.691200  1.0   \n",
       "274          4          15.7          78  4.795791  4.744932  7.935587  1.0   \n",
       "246          4          16.4          78  4.510860  4.094345  7.495542  0.0   \n",
       "55           4          20.5          71  4.510860  4.248495  7.578145  0.0   \n",
       "387          4          15.6          82  4.941642  4.454347  7.933797  0.0   \n",
       "\n",
       "       1  \n",
       "78   0.0  \n",
       "274  0.0  \n",
       "246  1.0  \n",
       "55   0.0  \n",
       "387  0.0  "
      ]
     },
     "execution_count": 24,
     "metadata": {},
     "output_type": "execute_result"
    }
   ],
   "source": [
    "X_test = X_test.drop(columns=cols_to_drop)\n",
    "\n",
    "# Combine test set\n",
    "X_test_tr = pd.concat([X_test, X_test_log, X_test_ohe], axis=1)\n",
    "X_test_tr.head()"
   ]
  },
  {
   "cell_type": "markdown",
   "id": "cbf87e3e",
   "metadata": {},
   "source": [
    "## Building, Evaluating and Validating a Model "
   ]
  },
  {
   "cell_type": "code",
   "execution_count": 25,
   "id": "48b8c798",
   "metadata": {},
   "outputs": [],
   "source": [
    "# convert feature names to strings so there is not a TypeError with sklearn\n",
    "\n",
    "X_train_tr.columns = X_train_tr.columns.astype(str)\n",
    "X_test_tr.columns = X_test_tr.columns.astype(str)"
   ]
  },
  {
   "cell_type": "code",
   "execution_count": 26,
   "id": "5b2ea4b1",
   "metadata": {},
   "outputs": [],
   "source": [
    "from sklearn.linear_model import LinearRegression\n",
    "linreg = LinearRegression()\n",
    "linreg.fit(X_train_tr, y_train)\n",
    "\n",
    "y_hat_train = linreg.predict(X_train_tr)\n",
    "y_hat_test = linreg.predict(X_test_tr)"
   ]
  },
  {
   "cell_type": "code",
   "execution_count": 27,
   "id": "5c0e56f0",
   "metadata": {},
   "outputs": [],
   "source": [
    "train_residuals = y_hat_train - y_train\n",
    "test_residuals = y_hat_test - y_test"
   ]
  },
  {
   "cell_type": "code",
   "execution_count": 28,
   "id": "bf873935",
   "metadata": {},
   "outputs": [
    {
     "name": "stdout",
     "output_type": "stream",
     "text": [
      "Train Mean Squared Error: 9.091818811315939\n",
      "Test Mean Squared Error: 10.010059484009497\n"
     ]
    }
   ],
   "source": [
    "mse_train = np.sum((y_train - y_hat_train)**2)/len(y_train)\n",
    "mse_test = np.sum((y_test - y_hat_test)**2)/len(y_test)\n",
    "print('Train Mean Squared Error:', mse_train)\n",
    "print('Test Mean Squared Error:', mse_test)"
   ]
  },
  {
   "cell_type": "code",
   "execution_count": 29,
   "id": "99c6b216",
   "metadata": {},
   "outputs": [
    {
     "name": "stdout",
     "output_type": "stream",
     "text": [
      "Train Mean Squared Error: 9.091818811315939\n",
      "Test Mean Squared Error: 10.010059484009497\n"
     ]
    }
   ],
   "source": [
    "from sklearn.metrics import mean_squared_error\n",
    "\n",
    "train_mse = mean_squared_error(y_train, y_hat_train)\n",
    "test_mse = mean_squared_error(y_test, y_hat_test)\n",
    "print('Train Mean Squared Error:', train_mse)\n",
    "print('Test Mean Squared Error:', test_mse)"
   ]
  },
  {
   "cell_type": "markdown",
   "id": "8b8608b8",
   "metadata": {},
   "source": [
    "### Overfitting with a Different Model"
   ]
  },
  {
   "cell_type": "code",
   "execution_count": 30,
   "id": "e2d4cb9a",
   "metadata": {},
   "outputs": [
    {
     "name": "stdout",
     "output_type": "stream",
     "text": [
      "Train Mean Squared Error: 0.0\n",
      "Test Mean Squared Error: 11.403164556962025\n"
     ]
    }
   ],
   "source": [
    "from sklearn.tree import DecisionTreeRegressor\n",
    "\n",
    "other_model = DecisionTreeRegressor(random_state=42)\n",
    "other_model.fit(X_train_tr, y_train)\n",
    "\n",
    "other_train_mse = mean_squared_error(y_train, other_model.predict(X_train_tr))\n",
    "other_test_mse = mean_squared_error(y_test, other_model.predict(X_test_tr))\n",
    "print('Train Mean Squared Error:', other_train_mse)\n",
    "print('Test Mean Squared Error:', other_test_mse)"
   ]
  },
  {
   "cell_type": "code",
   "execution_count": null,
   "id": "9c0100be",
   "metadata": {},
   "outputs": [],
   "source": []
  }
 ],
 "metadata": {
  "kernelspec": {
   "display_name": "learn-env",
   "language": "python",
   "name": "python3"
  },
  "language_info": {
   "codemirror_mode": {
    "name": "ipython",
    "version": 3
   },
   "file_extension": ".py",
   "mimetype": "text/x-python",
   "name": "python",
   "nbconvert_exporter": "python",
   "pygments_lexer": "ipython3",
   "version": "3.8.5"
  }
 },
 "nbformat": 4,
 "nbformat_minor": 5
}
