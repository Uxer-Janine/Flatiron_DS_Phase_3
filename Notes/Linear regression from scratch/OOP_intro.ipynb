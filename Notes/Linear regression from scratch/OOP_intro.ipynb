{
 "cells": [
  {
   "cell_type": "markdown",
   "metadata": {},
   "source": [
    "### OOP\n",
    "\n",
    "Building a software>>>> car, color, model, fuel efficiency, price\n",
    "\n",
    "Object: data bundles: Function(method): what feeds the data\n",
    "\n",
    "\n",
    "Things to understand:\n",
    "\n",
    "Class - blue-print of creating the object we want to create eg. car. It is the form name \n",
    "\n",
    "Attribute - what columns you have in the form eg. name, color, model - it is data that defines the object\n",
    "\n",
    "Instance - \n",
    "\n",
    "Object - an instance of a class\n",
    "\n",
    "Methods - a function that belongs to a class. It defines the behavior of an object\n",
    "\n",
    "\n",
    "\n",
    "Class = car\n",
    "\n",
    "mazdaCX5 = car() - Instantiating a class\n",
    "\n",
    "\n",
    "Things that support creation of \n",
    "\n",
    "Def: defines a method\n",
    "\n",
    "__ Init __ - is a constructor used when creating an object. Is used to give attributes values\n",
    "\n",
    "Self - referring to the object you are trying to define eg. self.name = Carol\n",
    "\n",
    "super() - \n",
    "\n",
    "Subclass - what inherits from a superclass eg. swimming student\n",
    "\n",
    "Superclass - parent class eg. student\n",
    "\n",
    "\n",
    "OOP has a principle of inheritance\n"
   ]
  },
  {
   "cell_type": "code",
   "execution_count": 5,
   "metadata": {},
   "outputs": [],
   "source": [
    "class Food:\n",
    "    pass"
   ]
  },
  {
   "cell_type": "code",
   "execution_count": 2,
   "metadata": {},
   "outputs": [
    {
     "name": "stdout",
     "output_type": "stream",
     "text": [
      "Apple contains 50 calories.\n",
      "Fries contains 100 calories.\n"
     ]
    }
   ],
   "source": [
    "#define a method and initialize a constructor and pass attributes\n",
    "class Food:\n",
    "    def __init__(self, name, calories):\n",
    "        self.name = name\n",
    "        self.calories = calories\n",
    "\n",
    "    def describe(self):\n",
    "        print(f\"{self.name} contains {self.calories} calories.\")\n",
    "        \n",
    "#creating an object and instantiating the class\n",
    "apple = Food('Apple', 50)\n",
    "fries = Food('Fries', 100)\n",
    "\n",
    "apple.describe()\n",
    "fries.describe()"
   ]
  },
  {
   "cell_type": "code",
   "execution_count": 3,
   "metadata": {},
   "outputs": [],
   "source": [
    "class HealthyFood(Food):\n",
    "    def __init__(self, name, calories, protein):\n",
    "        super().__init__(name, calories)\n",
    "        self.protein = protein\n",
    "        \n",
    "    def describe(self):\n",
    "        super().describe()\n",
    "        print(f\"It also contains {self.protein}mgs of protein.\")\n"
   ]
  },
  {
   "cell_type": "code",
   "execution_count": 4,
   "metadata": {},
   "outputs": [
    {
     "name": "stdout",
     "output_type": "stream",
     "text": [
      "Apple contains 50 calories.\n",
      "It also contains 20mgs of protein.\n"
     ]
    }
   ],
   "source": [
    "apple = HealthyFood('Apple', 50, 20)\n",
    "apple.describe()"
   ]
  },
  {
   "cell_type": "markdown",
   "metadata": {},
   "source": [
    "### Encapsulation\n",
    "\n",
    "class Sensor():\n",
    "\n",
    "    def __init__(self, name, location):\n",
    "    \n",
    "        self.name = name\n",
    "        \n",
    "        self._location = location\n",
    "        \n",
    "        self.__version = '1.0'\n",
    "    \n",
    "    # a getter function\n",
    "    \n",
    "    def get_version(self):\n",
    "    \n",
    "        print(f'The sensor version is {self.__version}')\n",
    "        \n",
    "    \n",
    "    # a setter function\n",
    "    \n",
    "    def set_version(self, version):\n",
    "    \n",
    "        self.__version = version"
   ]
  },
  {
   "cell_type": "markdown",
   "metadata": {},
   "source": [
    "## Types of Polymorphism\n",
    "1. Compile-Time Polymorphism: This type of polymorphism is determined during the compilation of the program. It allows methods or operators with the same name to behave differently based on their input parameters or usage. It is commonly referred to as method or operator overloading.\n",
    "\n",
    "2. Run-Time Polymorphism: This type of polymorphism is determined during the execution of the program. It occurs when a subclass provides a specific implementation for a method already defined in its parent class, commonly known as method overriding."
   ]
  },
  {
   "cell_type": "code",
   "execution_count": 20,
   "metadata": {},
   "outputs": [
    {
     "name": "stdout",
     "output_type": "stream",
     "text": [
      "dog sound\n",
      "Labrador woofs\n",
      "Beagle Barks\n",
      "15\n",
      "30\n"
     ]
    }
   ],
   "source": [
    "#Parent Class\n",
    "class Dog:\n",
    "    def describe(self):\n",
    "        print(\"dog sound\")  # Default implementation\n",
    "\n",
    "#Run-Time Polymorphism: Method Overriding\n",
    "class Labrador(Dog):\n",
    "    def describe(self):\n",
    "        print(\"Labrador woofs\")  # Overriding parent method\n",
    "\n",
    "class Beagle(Dog):\n",
    "    def describe(self):\n",
    "        print(\"Beagle Barks\")  # Overriding parent method\n",
    "\n",
    "#Compile-Time Polymorphism: Method Overloading Mimic\n",
    "class Calculator:\n",
    "    def add(self, a, b=0, c=0):\n",
    "        return a + b + c  # Supports multiple ways to call add()\n",
    "\n",
    "#Run-Time Polymorphism\n",
    "dogs = [Dog(), Labrador(), Beagle()]\n",
    "for dog in dogs:\n",
    "    dog.describe()  # Calls the appropriate method based on the object type\n",
    "\n",
    "#Compile-Time Polymorphism (Mimicked using default arguments)\n",
    "calc = Calculator()\n",
    "print(calc.add(5, 10))  # Two arguments\n",
    "print(calc.add(5, 10, 15))  # Three arguments"
   ]
  },
  {
   "cell_type": "markdown",
   "metadata": {},
   "source": [
    "#### Explanation:\n",
    "\n",
    "Run-Time Polymorphism:\n",
    "Demonstrated using method overriding in the Dog class and its subclasses (Labrador and Beagle).\n",
    "The correct sound method is invoked at runtime based on the actual type of the object in the list.\n",
    "\n",
    "Compile-Time Polymorphism:\n",
    "Python does not natively support method overloading. Instead, we use a single method (add) with default arguments to handle varying numbers of parameters.\n",
    "Different behaviors (adding two or three numbers) are achieved based on how the method is called."
   ]
  },
  {
   "cell_type": "code",
   "execution_count": 15,
   "metadata": {},
   "outputs": [],
   "source": [
    "#Parent Class\n",
    "class Food:\n",
    "    pass"
   ]
  },
  {
   "cell_type": "code",
   "execution_count": 17,
   "metadata": {},
   "outputs": [
    {
     "name": "stdout",
     "output_type": "stream",
     "text": [
      "Fruits are sweet and eaten raw, like apples and bananas.\n",
      "Vegetables are rich in fiber and are usually cooked.\n",
      "Meats are high in protein and come from animals.\n"
     ]
    }
   ],
   "source": [
    "#Parent Class\n",
    "class Food:\n",
    "    def describe(self):\n",
    "        print(\"This is a type of food.\")\n",
    "\n",
    "#Subclass 1\n",
    "class Fruit(Food):\n",
    "    def describe(self):\n",
    "        print(\"Fruits are sweet and eaten raw, like apples and bananas.\")\n",
    "\n",
    "#Subclass 2\n",
    "class Vegetable(Food):\n",
    "    def describe(self):\n",
    "        print(\"Vegetables are rich in fiber and are usually cooked.\")\n",
    "\n",
    "#Subclass 3\n",
    "class Meat(Food):\n",
    "    def describe(self):\n",
    "        print(\"Meats are high in protein and come from animals.\")\n",
    "\n",
    "#Runtime Polymorphism: Using the same interface\n",
    "food_items = [Fruit(), Vegetable(), Meat()]\n",
    "\n",
    "for item in food_items:\n",
    "    item.describe()  # Each one calls its own version of describe()\n"
   ]
  },
  {
   "cell_type": "code",
   "execution_count": 7,
   "metadata": {},
   "outputs": [
    {
     "name": "stdout",
     "output_type": "stream",
     "text": [
      "Bark\n",
      "Meow\n",
      "Some generic sound\n"
     ]
    }
   ],
   "source": [
    "class Animal:\n",
    "    def sound(self):\n",
    "        return \"Some generic sound\"\n",
    "\n",
    "class Dog(Animal):\n",
    "    def sound(self):\n",
    "        return \"Bark\"\n",
    "\n",
    "class Cat(Animal):\n",
    "    def sound(self):\n",
    "        return \"Meow\"\n",
    "\n",
    "# Polymorphic behavior\n",
    "animals = [Dog(), Cat(), Animal()]\n",
    "for animal in animals:\n",
    "    print(animal.sound())  # Calls the overridden method based on the object type"
   ]
  },
  {
   "cell_type": "code",
   "execution_count": 21,
   "metadata": {},
   "outputs": [],
   "source": [
    "class Moringa:\n",
    "    pass"
   ]
  },
  {
   "cell_type": "code",
   "execution_count": 27,
   "metadata": {},
   "outputs": [
    {
     "name": "stdout",
     "output_type": "stream",
     "text": [
      "Diana:I am a TM\n",
      "Carol:I am a student\n",
      "Elvis:I am also a student at Moringa\n"
     ]
    }
   ],
   "source": [
    "class Moringa:\n",
    "    def __init__(self, name):\n",
    "        self.name = name\n",
    "        \n",
    "    def describe(self):\n",
    "        print(f'{self.name}: This is Moringa school')\n",
    "    \n",
    "#subclass 1\n",
    "class Diana(Moringa):\n",
    "    def describe(self):\n",
    "        print(f'{self.name}:I am a TM') \n",
    "        \n",
    "#subclass 2\n",
    "class Carol(Moringa):\n",
    "    def describe(self):\n",
    "        print(f'{self.name}:I am a student')\n",
    "        \n",
    "#subclass 3\n",
    "class Elvis(Moringa):\n",
    "    def describe(self):\n",
    "        print(f'{self.name}:I am also a student at Moringa')\n",
    "\n",
    "#instatiate\n",
    "moringa_fraternity = [Diana(\"Diana\"), Carol(\"Carol\"), Elvis(\"Elvis\")]\n",
    "\n",
    "for fraternity in moringa_fraternity:\n",
    "    fraternity.describe()\n",
    "    \n"
   ]
  },
  {
   "cell_type": "code",
   "execution_count": 31,
   "metadata": {},
   "outputs": [],
   "source": [
    "class food:\n",
    "    pass"
   ]
  },
  {
   "cell_type": "code",
   "execution_count": 36,
   "metadata": {},
   "outputs": [
    {
     "name": "stdout",
     "output_type": "stream",
     "text": [
      "This is apple and it has 50 calories.\n",
      "It also contains 0.3 kg of protein.\n",
      "\n",
      "fries is junk food with 300 calories and 20 kg of fat.\n",
      "\n",
      "This is apple and it has 50 calories.\n",
      "It also contains 0.3 kg of protein.\n",
      "fries is junk food with 300 calories and 20 kg of fat.\n"
     ]
    }
   ],
   "source": [
    "# Parent class\n",
    "class Food:\n",
    "    def __init__(self, name, calories):\n",
    "        self.name = name\n",
    "        self.calories = calories\n",
    "\n",
    "    def describe(self):\n",
    "        print(f\"This is {self.name} and it has {self.calories} calories.\")\n",
    "\n",
    "# Subclass 1: Healthy Food\n",
    "class HealthyFood(Food):\n",
    "    def __init__(self, name, calories, protein):\n",
    "        super().__init__(name, calories)\n",
    "        self.protein = protein\n",
    "\n",
    "    def describe(self):\n",
    "        super().describe()\n",
    "        print(f\"It also contains {self.protein} kg of protein.\")\n",
    "\n",
    "# Subclass 2: Junk Food\n",
    "class JunkFood(Food):\n",
    "    def __init__(self, name, calories, fat):\n",
    "        super().__init__(name, calories)\n",
    "        self.fat = fat\n",
    "\n",
    "    def describe(self):\n",
    "        print(f\"{self.name} is junk food with {self.calories} calories and {self.fat} kg of fat.\")\n",
    "\n",
    "# Create instances\n",
    "apple = HealthyFood('apple', 50, 0.3)\n",
    "fries = JunkFood('fries', 300, 20)\n",
    "\n",
    "# Describe individual items\n",
    "apple.describe()\n",
    "print()\n",
    "fries.describe()\n",
    "print()\n",
    "\n",
    "# Polymorphism in action\n",
    "foods = [apple, fries]\n",
    "for item in foods:\n",
    "    item.describe()"
   ]
  },
  {
   "cell_type": "code",
   "execution_count": 41,
   "metadata": {},
   "outputs": [
    {
     "name": "stdout",
     "output_type": "stream",
     "text": [
      "My name is Diana and I am a TM at Moringa.\n",
      "My name is Carol and I am a student at Moringa.\n"
     ]
    }
   ],
   "source": [
    "class Moringa:\n",
    "    def __init__(self, name, title):\n",
    "        self.name = name\n",
    "        self.title = title\n",
    "\n",
    "    def describe(self):\n",
    "        print(f\"My name is {self.name} and I am a {self.title} at Moringa.\")\n",
    "    \n",
    "Diana = Moringa('Diana', 'TM')\n",
    "Carol = Moringa('Carol', 'student')\n",
    "\n",
    "Diana.describe()\n",
    "Carol.describe()"
   ]
  },
  {
   "cell_type": "code",
   "execution_count": 48,
   "metadata": {},
   "outputs": [
    {
     "name": "stdout",
     "output_type": "stream",
     "text": [
      "My name is Diana and I am a TM at Moringa.\n",
      "I am female.\n",
      "My name is Carol and I am a student at Moringa.\n",
      "Carol is also female.\n",
      "My name is Elvis and I am a student at Moringa.\n",
      "Elvis is male.\n"
     ]
    }
   ],
   "source": [
    "#subclass 1\n",
    "class Teach(Moringa):\n",
    "    def __init__(self, name, title, gender):\n",
    "        super().__init__(name, title)\n",
    "        self.gender = gender\n",
    "    def describe(self):\n",
    "        super().describe()\n",
    "        print(f\"I am {self.gender}.\")\n",
    "      \n",
    "#subclass 2\n",
    "class Student1(Moringa):\n",
    "    def __init__(self, name, title, gender):\n",
    "        super().__init__(name, title)\n",
    "        self.gender = gender\n",
    "    def describe(self):\n",
    "        super().describe()\n",
    "        print(f\"{self.name} is also {self.gender}.\")\n",
    "            \n",
    "#subclass 3\n",
    "class Student2(Moringa):\n",
    "    def __init__(self, name, title, gender):\n",
    "        super().__init__(name, title)\n",
    "        self.gender = gender\n",
    "    def describe(self):\n",
    "        super().describe()\n",
    "        print(f\"{self.name} is {self.gender}.\")\n",
    "        \n",
    "# Create instances\n",
    "Diana = Teach('Diana', 'TM', 'female')\n",
    "Carol = Student1('Carol', 'student', 'female')\n",
    "Elvis = Student2('Elvis', 'student', 'male')\n",
    "\n",
    "moringa_fraternity = [Diana, Carol, Elvis]\n",
    "for fraternity in moringa_fraternity:\n",
    "    fraternity.describe()"
   ]
  },
  {
   "cell_type": "code",
   "execution_count": null,
   "metadata": {},
   "outputs": [],
   "source": []
  }
 ],
 "metadata": {
  "kernelspec": {
   "display_name": "Python (learn-env)",
   "language": "python",
   "name": "learn-env"
  },
  "language_info": {
   "codemirror_mode": {
    "name": "ipython",
    "version": 3
   },
   "file_extension": ".py",
   "mimetype": "text/x-python",
   "name": "python",
   "nbconvert_exporter": "python",
   "pygments_lexer": "ipython3",
   "version": "3.8.5"
  }
 },
 "nbformat": 4,
 "nbformat_minor": 4
}
