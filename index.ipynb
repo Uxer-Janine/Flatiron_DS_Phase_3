{
 "cells": [
  {
   "cell_type": "markdown",
   "metadata": {
    "toc": true
   },
   "source": [
    "<h1>Table of Contents<span class=\"tocSkip\"></span></h1>\n",
    "<div class=\"toc\"><ul class=\"toc-item\"><li><span><a href=\"#Introduction\" data-toc-modified-id=\"Introduction-1\"><span class=\"toc-item-num\">1&nbsp;&nbsp;</span>Introduction</a></span></li><li><span><a href=\"#Objectives\" data-toc-modified-id=\"Objectives-2\"><span class=\"toc-item-num\">2&nbsp;&nbsp;</span>Objectives</a></span></li><li><span><a href=\"#Ames-Housing-Data\" data-toc-modified-id=\"Ames-Housing-Data-3\"><span class=\"toc-item-num\">3&nbsp;&nbsp;</span>Ames Housing Data</a></span></li><li><span><a href=\"#Build-a-Baseline-Model\" data-toc-modified-id=\"Build-a-Baseline-Model-4\"><span class=\"toc-item-num\">4&nbsp;&nbsp;</span>Build a Baseline Model</a></span><ul class=\"toc-item\"><li><span><a href=\"#Initial-Data-Preparation\" data-toc-modified-id=\"Initial-Data-Preparation-4.1\"><span class=\"toc-item-num\">4.1&nbsp;&nbsp;</span>Initial Data Preparation</a></span></li><li><span><a href=\"#Build-a-Model-with-No-Interaction-Terms\" data-toc-modified-id=\"Build-a-Model-with-No-Interaction-Terms-4.2\"><span class=\"toc-item-num\">4.2&nbsp;&nbsp;</span>Build a Model with No Interaction Terms</a></span></li><li><span><a href=\"#Evaluate-the-Model-without-Interaction-Terms\" data-toc-modified-id=\"Evaluate-the-Model-without-Interaction-Terms-4.3\"><span class=\"toc-item-num\">4.3&nbsp;&nbsp;</span>Evaluate the Model without Interaction Terms</a></span></li></ul></li><li><span><a href=\"#Identify-Good-Candidates-for-Interaction-Terms\" data-toc-modified-id=\"Identify-Good-Candidates-for-Interaction-Terms-5\"><span class=\"toc-item-num\">5&nbsp;&nbsp;</span>Identify Good Candidates for Interaction Terms</a></span><ul class=\"toc-item\"><li><span><a href=\"#Numeric-x-Categorical-Term\" data-toc-modified-id=\"Numeric-x-Categorical-Term-5.1\"><span class=\"toc-item-num\">5.1&nbsp;&nbsp;</span>Numeric x Categorical Term</a></span></li><li><span><a href=\"#Numeric-x-Numeric-Term\" data-toc-modified-id=\"Numeric-x-Numeric-Term-5.2\"><span class=\"toc-item-num\">5.2&nbsp;&nbsp;</span>Numeric x Numeric Term</a></span></li></ul></li><li><span><a href=\"#Build-and-Interpret-a-Model-with-Interactions\" data-toc-modified-id=\"Build-and-Interpret-a-Model-with-Interactions-6\"><span class=\"toc-item-num\">6&nbsp;&nbsp;</span>Build and Interpret a Model with Interactions</a></span><ul class=\"toc-item\"><li><span><a href=\"#Build-a-Second-Model\" data-toc-modified-id=\"Build-a-Second-Model-6.1\"><span class=\"toc-item-num\">6.1&nbsp;&nbsp;</span>Build a Second Model</a></span></li><li><span><a href=\"#Evaluate-the-Model-with-Interactions\" data-toc-modified-id=\"Evaluate-the-Model-with-Interactions-6.2\"><span class=\"toc-item-num\">6.2&nbsp;&nbsp;</span>Evaluate the Model with Interactions</a></span></li><li><span><a href=\"#Interpret-the-Model-Results\" data-toc-modified-id=\"Interpret-the-Model-Results-6.3\"><span class=\"toc-item-num\">6.3&nbsp;&nbsp;</span>Interpret the Model Results</a></span></li></ul></li><li><span><a href=\"#Summary\" data-toc-modified-id=\"Summary-7\"><span class=\"toc-item-num\">7&nbsp;&nbsp;</span>Summary</a></span></li></ul></div>"
   ]
  },
  {
   "cell_type": "markdown",
   "metadata": {},
   "source": [
    "# Interactions - Lab"
   ]
  },
  {
   "cell_type": "markdown",
   "metadata": {},
   "source": [
    "## Introduction"
   ]
  },
  {
   "cell_type": "markdown",
   "metadata": {},
   "source": [
    "In this lab, you'll explore interactions in the Ames Housing dataset."
   ]
  },
  {
   "cell_type": "markdown",
   "metadata": {},
   "source": [
    "## Objectives"
   ]
  },
  {
   "cell_type": "markdown",
   "metadata": {},
   "source": [
    "You will be able to:\n",
    "\n",
    "- Determine if an interaction term would be useful for a specific model or set of data\n",
    "- Create interaction terms out of independent variables in linear regression\n",
    "- Interpret coefficients of linear regression models that contain interaction terms"
   ]
  },
  {
   "cell_type": "markdown",
   "metadata": {},
   "source": [
    "## Ames Housing Data\n",
    "\n",
    "Once again we will be using the Ames Housing dataset, where each record represents a home sale:"
   ]
  },
  {
   "cell_type": "code",
   "execution_count": 1,
   "metadata": {},
   "outputs": [
    {
     "ename": "FileNotFoundError",
     "evalue": "[Errno 2] No such file or directory: 'ames.csv'",
     "output_type": "error",
     "traceback": [
      "\u001b[1;31m---------------------------------------------------------------------------\u001b[0m",
      "\u001b[1;31mFileNotFoundError\u001b[0m                         Traceback (most recent call last)",
      "\u001b[1;32m<ipython-input-1-25071ea8984d>\u001b[0m in \u001b[0;36m<module>\u001b[1;34m\u001b[0m\n\u001b[0;32m      2\u001b[0m \u001b[1;32mimport\u001b[0m \u001b[0mpandas\u001b[0m \u001b[1;32mas\u001b[0m \u001b[0mpd\u001b[0m\u001b[1;33m\u001b[0m\u001b[1;33m\u001b[0m\u001b[0m\n\u001b[0;32m      3\u001b[0m \u001b[1;33m\u001b[0m\u001b[0m\n\u001b[1;32m----> 4\u001b[1;33m \u001b[0mames\u001b[0m \u001b[1;33m=\u001b[0m \u001b[0mpd\u001b[0m\u001b[1;33m.\u001b[0m\u001b[0mread_csv\u001b[0m\u001b[1;33m(\u001b[0m\u001b[1;34m'ames.csv'\u001b[0m\u001b[1;33m,\u001b[0m \u001b[0mindex_col\u001b[0m\u001b[1;33m=\u001b[0m\u001b[1;36m0\u001b[0m\u001b[1;33m)\u001b[0m\u001b[1;33m\u001b[0m\u001b[1;33m\u001b[0m\u001b[0m\n\u001b[0m\u001b[0;32m      5\u001b[0m \u001b[1;33m\u001b[0m\u001b[0m\n\u001b[0;32m      6\u001b[0m \u001b[1;31m# Remove some outliers to make the analysis more intuitive\u001b[0m\u001b[1;33m\u001b[0m\u001b[1;33m\u001b[0m\u001b[1;33m\u001b[0m\u001b[0m\n",
      "\u001b[1;32m~\\anaconda3\\envs\\learn-env\\lib\\site-packages\\pandas\\io\\parsers.py\u001b[0m in \u001b[0;36mread_csv\u001b[1;34m(filepath_or_buffer, sep, delimiter, header, names, index_col, usecols, squeeze, prefix, mangle_dupe_cols, dtype, engine, converters, true_values, false_values, skipinitialspace, skiprows, skipfooter, nrows, na_values, keep_default_na, na_filter, verbose, skip_blank_lines, parse_dates, infer_datetime_format, keep_date_col, date_parser, dayfirst, cache_dates, iterator, chunksize, compression, thousands, decimal, lineterminator, quotechar, quoting, doublequote, escapechar, comment, encoding, dialect, error_bad_lines, warn_bad_lines, delim_whitespace, low_memory, memory_map, float_precision)\u001b[0m\n\u001b[0;32m    684\u001b[0m     )\n\u001b[0;32m    685\u001b[0m \u001b[1;33m\u001b[0m\u001b[0m\n\u001b[1;32m--> 686\u001b[1;33m     \u001b[1;32mreturn\u001b[0m \u001b[0m_read\u001b[0m\u001b[1;33m(\u001b[0m\u001b[0mfilepath_or_buffer\u001b[0m\u001b[1;33m,\u001b[0m \u001b[0mkwds\u001b[0m\u001b[1;33m)\u001b[0m\u001b[1;33m\u001b[0m\u001b[1;33m\u001b[0m\u001b[0m\n\u001b[0m\u001b[0;32m    687\u001b[0m \u001b[1;33m\u001b[0m\u001b[0m\n\u001b[0;32m    688\u001b[0m \u001b[1;33m\u001b[0m\u001b[0m\n",
      "\u001b[1;32m~\\anaconda3\\envs\\learn-env\\lib\\site-packages\\pandas\\io\\parsers.py\u001b[0m in \u001b[0;36m_read\u001b[1;34m(filepath_or_buffer, kwds)\u001b[0m\n\u001b[0;32m    450\u001b[0m \u001b[1;33m\u001b[0m\u001b[0m\n\u001b[0;32m    451\u001b[0m     \u001b[1;31m# Create the parser.\u001b[0m\u001b[1;33m\u001b[0m\u001b[1;33m\u001b[0m\u001b[1;33m\u001b[0m\u001b[0m\n\u001b[1;32m--> 452\u001b[1;33m     \u001b[0mparser\u001b[0m \u001b[1;33m=\u001b[0m \u001b[0mTextFileReader\u001b[0m\u001b[1;33m(\u001b[0m\u001b[0mfp_or_buf\u001b[0m\u001b[1;33m,\u001b[0m \u001b[1;33m**\u001b[0m\u001b[0mkwds\u001b[0m\u001b[1;33m)\u001b[0m\u001b[1;33m\u001b[0m\u001b[1;33m\u001b[0m\u001b[0m\n\u001b[0m\u001b[0;32m    453\u001b[0m \u001b[1;33m\u001b[0m\u001b[0m\n\u001b[0;32m    454\u001b[0m     \u001b[1;32mif\u001b[0m \u001b[0mchunksize\u001b[0m \u001b[1;32mor\u001b[0m \u001b[0miterator\u001b[0m\u001b[1;33m:\u001b[0m\u001b[1;33m\u001b[0m\u001b[1;33m\u001b[0m\u001b[0m\n",
      "\u001b[1;32m~\\anaconda3\\envs\\learn-env\\lib\\site-packages\\pandas\\io\\parsers.py\u001b[0m in \u001b[0;36m__init__\u001b[1;34m(self, f, engine, **kwds)\u001b[0m\n\u001b[0;32m    944\u001b[0m             \u001b[0mself\u001b[0m\u001b[1;33m.\u001b[0m\u001b[0moptions\u001b[0m\u001b[1;33m[\u001b[0m\u001b[1;34m\"has_index_names\"\u001b[0m\u001b[1;33m]\u001b[0m \u001b[1;33m=\u001b[0m \u001b[0mkwds\u001b[0m\u001b[1;33m[\u001b[0m\u001b[1;34m\"has_index_names\"\u001b[0m\u001b[1;33m]\u001b[0m\u001b[1;33m\u001b[0m\u001b[1;33m\u001b[0m\u001b[0m\n\u001b[0;32m    945\u001b[0m \u001b[1;33m\u001b[0m\u001b[0m\n\u001b[1;32m--> 946\u001b[1;33m         \u001b[0mself\u001b[0m\u001b[1;33m.\u001b[0m\u001b[0m_make_engine\u001b[0m\u001b[1;33m(\u001b[0m\u001b[0mself\u001b[0m\u001b[1;33m.\u001b[0m\u001b[0mengine\u001b[0m\u001b[1;33m)\u001b[0m\u001b[1;33m\u001b[0m\u001b[1;33m\u001b[0m\u001b[0m\n\u001b[0m\u001b[0;32m    947\u001b[0m \u001b[1;33m\u001b[0m\u001b[0m\n\u001b[0;32m    948\u001b[0m     \u001b[1;32mdef\u001b[0m \u001b[0mclose\u001b[0m\u001b[1;33m(\u001b[0m\u001b[0mself\u001b[0m\u001b[1;33m)\u001b[0m\u001b[1;33m:\u001b[0m\u001b[1;33m\u001b[0m\u001b[1;33m\u001b[0m\u001b[0m\n",
      "\u001b[1;32m~\\anaconda3\\envs\\learn-env\\lib\\site-packages\\pandas\\io\\parsers.py\u001b[0m in \u001b[0;36m_make_engine\u001b[1;34m(self, engine)\u001b[0m\n\u001b[0;32m   1176\u001b[0m     \u001b[1;32mdef\u001b[0m \u001b[0m_make_engine\u001b[0m\u001b[1;33m(\u001b[0m\u001b[0mself\u001b[0m\u001b[1;33m,\u001b[0m \u001b[0mengine\u001b[0m\u001b[1;33m=\u001b[0m\u001b[1;34m\"c\"\u001b[0m\u001b[1;33m)\u001b[0m\u001b[1;33m:\u001b[0m\u001b[1;33m\u001b[0m\u001b[1;33m\u001b[0m\u001b[0m\n\u001b[0;32m   1177\u001b[0m         \u001b[1;32mif\u001b[0m \u001b[0mengine\u001b[0m \u001b[1;33m==\u001b[0m \u001b[1;34m\"c\"\u001b[0m\u001b[1;33m:\u001b[0m\u001b[1;33m\u001b[0m\u001b[1;33m\u001b[0m\u001b[0m\n\u001b[1;32m-> 1178\u001b[1;33m             \u001b[0mself\u001b[0m\u001b[1;33m.\u001b[0m\u001b[0m_engine\u001b[0m \u001b[1;33m=\u001b[0m \u001b[0mCParserWrapper\u001b[0m\u001b[1;33m(\u001b[0m\u001b[0mself\u001b[0m\u001b[1;33m.\u001b[0m\u001b[0mf\u001b[0m\u001b[1;33m,\u001b[0m \u001b[1;33m**\u001b[0m\u001b[0mself\u001b[0m\u001b[1;33m.\u001b[0m\u001b[0moptions\u001b[0m\u001b[1;33m)\u001b[0m\u001b[1;33m\u001b[0m\u001b[1;33m\u001b[0m\u001b[0m\n\u001b[0m\u001b[0;32m   1179\u001b[0m         \u001b[1;32melse\u001b[0m\u001b[1;33m:\u001b[0m\u001b[1;33m\u001b[0m\u001b[1;33m\u001b[0m\u001b[0m\n\u001b[0;32m   1180\u001b[0m             \u001b[1;32mif\u001b[0m \u001b[0mengine\u001b[0m \u001b[1;33m==\u001b[0m \u001b[1;34m\"python\"\u001b[0m\u001b[1;33m:\u001b[0m\u001b[1;33m\u001b[0m\u001b[1;33m\u001b[0m\u001b[0m\n",
      "\u001b[1;32m~\\anaconda3\\envs\\learn-env\\lib\\site-packages\\pandas\\io\\parsers.py\u001b[0m in \u001b[0;36m__init__\u001b[1;34m(self, src, **kwds)\u001b[0m\n\u001b[0;32m   2006\u001b[0m         \u001b[0mkwds\u001b[0m\u001b[1;33m[\u001b[0m\u001b[1;34m\"usecols\"\u001b[0m\u001b[1;33m]\u001b[0m \u001b[1;33m=\u001b[0m \u001b[0mself\u001b[0m\u001b[1;33m.\u001b[0m\u001b[0musecols\u001b[0m\u001b[1;33m\u001b[0m\u001b[1;33m\u001b[0m\u001b[0m\n\u001b[0;32m   2007\u001b[0m \u001b[1;33m\u001b[0m\u001b[0m\n\u001b[1;32m-> 2008\u001b[1;33m         \u001b[0mself\u001b[0m\u001b[1;33m.\u001b[0m\u001b[0m_reader\u001b[0m \u001b[1;33m=\u001b[0m \u001b[0mparsers\u001b[0m\u001b[1;33m.\u001b[0m\u001b[0mTextReader\u001b[0m\u001b[1;33m(\u001b[0m\u001b[0msrc\u001b[0m\u001b[1;33m,\u001b[0m \u001b[1;33m**\u001b[0m\u001b[0mkwds\u001b[0m\u001b[1;33m)\u001b[0m\u001b[1;33m\u001b[0m\u001b[1;33m\u001b[0m\u001b[0m\n\u001b[0m\u001b[0;32m   2009\u001b[0m         \u001b[0mself\u001b[0m\u001b[1;33m.\u001b[0m\u001b[0munnamed_cols\u001b[0m \u001b[1;33m=\u001b[0m \u001b[0mself\u001b[0m\u001b[1;33m.\u001b[0m\u001b[0m_reader\u001b[0m\u001b[1;33m.\u001b[0m\u001b[0munnamed_cols\u001b[0m\u001b[1;33m\u001b[0m\u001b[1;33m\u001b[0m\u001b[0m\n\u001b[0;32m   2010\u001b[0m \u001b[1;33m\u001b[0m\u001b[0m\n",
      "\u001b[1;32mpandas\\_libs\\parsers.pyx\u001b[0m in \u001b[0;36mpandas._libs.parsers.TextReader.__cinit__\u001b[1;34m()\u001b[0m\n",
      "\u001b[1;32mpandas\\_libs\\parsers.pyx\u001b[0m in \u001b[0;36mpandas._libs.parsers.TextReader._setup_parser_source\u001b[1;34m()\u001b[0m\n",
      "\u001b[1;31mFileNotFoundError\u001b[0m: [Errno 2] No such file or directory: 'ames.csv'"
     ]
    }
   ],
   "source": [
    "# Run this cell without changes\n",
    "import pandas as pd\n",
    "\n",
    "ames = pd.read_csv('ames.csv', index_col=0)\n",
    "\n",
    "# Remove some outliers to make the analysis more intuitive\n",
    "ames = ames[ames[\"GrLivArea\"] < 3000]\n",
    "ames = ames[ames[\"LotArea\"] < 20_000]\n",
    "ames"
   ]
  },
  {
   "cell_type": "markdown",
   "metadata": {},
   "source": [
    "In particular, we'll use these numeric and categorical features:"
   ]
  },
  {
   "cell_type": "code",
   "execution_count": null,
   "metadata": {},
   "outputs": [],
   "source": [
    "# Run this cell without changes\n",
    "numeric = ['LotArea', '1stFlrSF', 'GrLivArea']\n",
    "categorical = ['KitchenQual', 'Neighborhood']"
   ]
  },
  {
   "cell_type": "markdown",
   "metadata": {},
   "source": [
    "## Build a Baseline Model\n",
    "\n",
    "### Initial Data Preparation\n",
    "\n",
    "Use all of the numeric and categorical features described above. (We will call this the \"baseline\" model because we are making a comparison with and without an interaction term. In a complete modeling process you would start with a simpler baseline.)\n",
    "\n",
    "One-hot encode the categorical features (dropping the first), and center (subtract the mean) from the numeric features."
   ]
  },
  {
   "cell_type": "code",
   "execution_count": null,
   "metadata": {},
   "outputs": [],
   "source": [
    "# Your code here - prepare data for modeling\n",
    "# numeric = ['LotArea', '1stFlrSF', 'GrLivArea']\n",
    "# categorical = ['KitchenQual', 'Neighborhood']\n",
    "\n",
    "# define X and y \n",
    "y = ames[\"SalePrice\"]\n",
    "X = ames[['LotArea', '1stFlrSF', 'GrLivArea','KitchenQual', 'Neighborhood' ]]\n",
    "\n",
    "# center numeric features\n",
    "X[['LotArea', '1stFlrSF', 'GrLivArea']] = X[['LotArea', '1stFlrSF', 'GrLivArea']] - X[['LotArea', '1stFlrSF', 'GrLivArea']].mean()\n",
    "\n",
    "# one hot encoding \n",
    "X = pd.get_dummies(X, columns=['KitchenQual', 'Neighborhood'], drop_first=True, dtype=int)\n",
    "\n",
    "X"
   ]
  },
  {
   "cell_type": "markdown",
   "metadata": {},
   "source": [
    "### Build a Model with No Interaction Terms\n",
    "\n",
    "Using the numeric and categorical features that you have prepared, as well as `SalePrice` as the target, build a StatsModels OLS model."
   ]
  },
  {
   "cell_type": "code",
   "execution_count": null,
   "metadata": {},
   "outputs": [],
   "source": [
    "# Your code here - import relevant libraries and build model\n",
    "# baseline model creation \n",
    "import statsmodels.api as sm\n",
    "\n",
    "baseline_model = sm.OLS(endog=y,exog=sm.add_constant(X))\n",
    "baseline_results = baseline_model.fit()\n",
    "print(baseline_results.summary())"
   ]
  },
  {
   "cell_type": "markdown",
   "metadata": {},
   "source": [
    "### Evaluate the Model without Interaction Terms\n",
    "\n",
    "Describe the adjusted R-Squared as well as which coefficients are statistically significant. For now you can skip interpreting all of the coefficients."
   ]
  },
  {
   "cell_type": "code",
   "execution_count": null,
   "metadata": {
    "scrolled": false
   },
   "outputs": [],
   "source": [
    "# Your code here - evaluate the baseline model\n",
    "print(f\"Model adjusted R-squared: {baseline_results.rsquared_adj}\")\n",
    "print()\n",
    "\n",
    "#check whether the coefficients are statistically significant\n",
    "pvalues_df = pd.DataFrame(baseline_results.pvalues, columns=[\"p-value\"])\n",
    "pvalues_df[\"p < 0.05\"] = pvalues_df[\"p-value\"] < 0.05\n",
    "pvalues_df[pvalues_df[\"p < 0.05\"]]\n"
   ]
  },
  {
   "cell_type": "code",
   "execution_count": null,
   "metadata": {},
   "outputs": [],
   "source": [
    "# Your written answer here\n",
    "\"\"\"\n",
    "1. **The model’s adjusted R-squared is 0.83**, which means it explains about 83% of the variation in house prices — a strong fit.\n",
    "\n",
    "2. **All the coefficients listed have p-values less than 0.05**, meaning they are statistically significant.\n",
    "\n",
    "3. **This includes both numeric variables** (LotArea, 1stFlrSF, GrLivArea) and **categorical dummy variables** (like KitchenQual and Neighborhood types).\n",
    "\n",
    "4. A p-value less than 0.05 means there's strong evidence that each variable has a real effect on predicting house prices.\n",
    "\n",
    "5. We can be confident that all the included variables contribute meaningfully to the model.\n",
    "\n",
    "\"\"\""
   ]
  },
  {
   "cell_type": "markdown",
   "metadata": {},
   "source": [
    "<details>\n",
    "    <summary style=\"cursor: pointer\"><b>Answer (click to reveal)</b></summary>\n",
    "\n",
    "The model overall explains about 83% of the variance in sale price.\n",
    "\n",
    "We'll used the standard alpha of 0.05 to evaluate statistical significance:\n",
    "    \n",
    "* Coefficients for the intercept as well as all continuous variables are statistically significant\n",
    "* Coefficients for `KitchenQual` are statistically significant\n",
    "* Coefficients for most values of `Neighborhood` are statistically significant, while some are not. In this context the reference category was `Blmngtn`, which means that neighborhoods with statistically significant coefficients differ significantly from `Blmngtn` whereas neighborhoods with coefficients that are not statistically significant do not differ significantly from `Blmngtn`\n",
    "\n",
    "</details>"
   ]
  },
  {
   "cell_type": "markdown",
   "metadata": {},
   "source": [
    "## Identify Good Candidates for Interaction Terms\n",
    "\n",
    "### Numeric x Categorical Term\n",
    "\n",
    "Square footage of a home is often worth different amounts depending on the neighborhood. So let's see if we can improve the model by building an interaction term between `GrLivArea` and one of the `Neighborhood` categories.\n",
    "\n",
    "Because there are so many neighborhoods to consider, we'll narrow it down to 2 options: `Neighborhood_OldTown` or `Neighborhood_NoRidge`.\n",
    "\n",
    "First, create a plot that has:\n",
    "\n",
    "* `GrLivArea` on the x-axis\n",
    "* `SalePrice` on the y-axis\n",
    "* A scatter plot of homes in the `OldTown` and `NoRidge` neighborhoods, identified by color\n",
    "  * Hint: you will want to call `.scatter` twice, once for each neighborhood\n",
    "* A line showing the fit of `GrLivArea` vs. `SalePrice` for the reference neighborhood"
   ]
  },
  {
   "cell_type": "code",
   "execution_count": null,
   "metadata": {},
   "outputs": [],
   "source": [
    "# Your code here - import plotting library and create visualization\n",
    "import seaborn as sns\n",
    "import matplotlib.pyplot as plt\n",
    "import matplotlib.pyplot as plt\n",
    "\n",
    "# Filter to houses in specific neighborhoods\n",
    "oldtown = ames[ames[\"Neighborhood\"] == \"OldTown\"]\n",
    "noridge = ames[ames[\"Neighborhood\"] == \"NoRidge\"]\n",
    "\n",
    "fig, ax = plt.subplots(figsize=(10,5))\n",
    "\n",
    "# Create scatter plots with 2 different colors\n",
    "oldtown.plot.scatter(x=\"GrLivArea\", y=\"SalePrice\", alpha=0.7, label=\"OldTown\", ax=ax)\n",
    "noridge.plot.scatter(x=\"GrLivArea\", y=\"SalePrice\", alpha=0.7, color=\"orange\", label=\"NoRidge\", ax=ax)\n",
    "\n",
    "# Plot best fit line\n",
    "intercept = baseline_results.params[\"const\"]\n",
    "slope = baseline_results.params[\"GrLivArea\"]\n",
    "ax.plot(ames[\"GrLivArea\"], intercept + ames[\"GrLivArea\"] * slope, color=\"gray\", label=\"fit line (Blmngtn)\")\n",
    "\n",
    "ax.legend();\n"
   ]
  },
  {
   "cell_type": "markdown",
   "metadata": {},
   "source": [
    "Looking at this plot, do either of these neighborhoods seem to have a **slope** that differs notably from the best fit line? If so, this is an indicator that an interaction term might be useful.\n",
    "\n",
    "Identify what, if any, interaction terms you would create based on this information."
   ]
  },
  {
   "cell_type": "code",
   "execution_count": null,
   "metadata": {},
   "outputs": [],
   "source": [
    "# Your written answer here\n",
    "\"\"\"\n",
    "The plot suggests that NoRidge has a noticeably steeper slope compared to the reference line, indicating a stronger effect of GrLivArea on SalePrice. This implies that an interaction term between GrLivArea and Neighborhood_NoRidge could improve the model\n",
    "\"\"\""
   ]
  },
  {
   "cell_type": "markdown",
   "metadata": {},
   "source": [
    "<details>\n",
    "    <summary style=\"cursor: pointer\"><b>Answer (click to reveal)</b></summary>\n",
    "\n",
    "Your plot should look something like this:\n",
    "\n",
    "![scatter plot solution](https://curriculum-content.s3.amazonaws.com/data-science/images/OldTown_vs_NoRidge.png)\n",
    "\n",
    "If we drew the expected slopes based on the scatter plots, they would look something like this:\n",
    "\n",
    "![scatter plot solution annotated](https://curriculum-content.s3.amazonaws.com/data-science/images/OldTown_vs_NoRidge_Annotated.png)\n",
    "\n",
    "The slope of the orange line looks fairly different from the slope of the gray line, indicating that an interaction term for `NoRidge` might be useful.\n",
    "\n",
    "</details>"
   ]
  },
  {
   "cell_type": "markdown",
   "metadata": {},
   "source": [
    "### Numeric x Numeric Term\n",
    "\n",
    "Let's also investigate to see whether adding an interaction term between two of the numeric features would be helpful.\n",
    "\n",
    "We'll specifically focus on interactions with `LotArea`. Does the value of an extra square foot of lot area change depending on the square footage of the home? Both `1stFlrSF` and `GrLivArea` are related to home square footage, so we'll use those in our comparisons.\n",
    "\n",
    "Create two side-by-side plots:\n",
    "\n",
    "1. One scatter plot of `LotArea` vs. `SalePrice` where the color of the points is based on `1stFlrSF`\n",
    "2. One scatter plot of `LotArea` vs. `SalePrice` where the color of the points is based on `GrLivArea`"
   ]
  },
  {
   "cell_type": "code",
   "execution_count": null,
   "metadata": {},
   "outputs": [],
   "source": [
    "# Your code here - create two visualizations\n",
    "fig, (ax1, ax2) = plt.subplots(ncols=2, figsize=(15,5))\n",
    "ames.plot.scatter(x=\"LotArea\", y=\"SalePrice\", c=\"1stFlrSF\", cmap=\"Greens\", ax=ax1)\n",
    "ames.plot.scatter(x=\"LotArea\", y=\"SalePrice\", c=\"GrLivArea\", cmap=\"Blues\", ax=ax2)\n",
    "fig.tight_layout();"
   ]
  },
  {
   "cell_type": "markdown",
   "metadata": {},
   "source": [
    "Looking at these plots, does the slope between `LotArea` and `SalePrice` seem to differ based on the color of the point? If it does, that is an indicator that an interaction term might be helpful.\n",
    "\n",
    "Describe your interpretation below:"
   ]
  },
  {
   "cell_type": "code",
   "execution_count": null,
   "metadata": {},
   "outputs": [],
   "source": [
    "# Your written answer here\n",
    "'''\n",
    "For both 1stFlrSF and GrLivArea, it seems like a larger lot area doesn't matter very much for homes with less square footage. (In other words, the slope is closer to a flat line when the dots are lighter colored.) Then for homes with more square footage, a larger lot area seems to matter more for the sale price. (In other words, the slope is steeper when the dots are darker colored.)\n",
    "\n",
    "This difference in slope based on color indicates that an interaction term for either/both of 1stFlrSF and GrLivArea with LotArea might be helpful.\n",
    "\n",
    "For ease of model interpretation, it probably makes the most sense to create an interaction term between LotArea and 1stFlrSF, since we already have an interaction that uses GrLivArea.\n",
    "'''"
   ]
  },
  {
   "cell_type": "markdown",
   "metadata": {},
   "source": [
    "<details>\n",
    "    <summary style=\"cursor: pointer\"><b>Answer (click to reveal)</b></summary>\n",
    "\n",
    "Your plots should look something like this:\n",
    "\n",
    "![side by side plots solution](https://curriculum-content.s3.amazonaws.com/data-science/images/LotArea_vs_SalePrice.png)\n",
    "\n",
    "For both `1stFlrSF` and `GrLivArea`, it seems like a larger lot area doesn't matter very much for homes with less square footage. (In other words, the slope is closer to a flat line when the dots are lighter colored.) Then for homes with more square footage, a larger lot area seems to matter more for the sale price. (In other words, the slope is steeper when the dots are darker colored.)\n",
    "\n",
    "This difference in slope based on color indicates that an interaction term for either/both of `1stFlrSF` and `GrLivArea` with `LotArea` might be helpful.\n",
    "\n",
    "For ease of model interpretation, it probably makes the most sense to create an interaction term between `LotArea` and `1stFlrSF`, since we already have an interaction that uses `GrLivArea`.\n",
    "\n",
    "</details>"
   ]
  },
  {
   "cell_type": "markdown",
   "metadata": {},
   "source": [
    "## Build and Interpret a Model with Interactions\n",
    "\n",
    "### Build a Second Model\n",
    "\n",
    "Based on your analysis above, build a model based on the baseline model with one or more interaction terms added."
   ]
  },
  {
   "cell_type": "code",
   "execution_count": null,
   "metadata": {},
   "outputs": [],
   "source": [
    "# Your code here - build a model with one or more interaction terms\n",
    "X_interaction = X.copy()\n",
    "X_interaction[\"GrLivArea x Neighborhood_NoRidge\"] = X_interaction[\"GrLivArea\"] * \\\n",
    "                        X_interaction[\"Neighborhood_NoRidge\"]\n",
    "X_interaction[\"LotArea x 1stFlrSF\"] = X_interaction[\"LotArea\"] * X_interaction[\"1stFlrSF\"]\n",
    "\n",
    "interaction_model = sm.OLS(y, sm.add_constant(X_interaction))\n",
    "interaction_results = interaction_model.fit()\n",
    "print(interaction_results.summary())"
   ]
  },
  {
   "cell_type": "markdown",
   "metadata": {},
   "source": [
    "### Evaluate the Model with Interactions\n",
    "\n",
    "Same as with the baseline model, describe the adjusted R-Squared and statistical significance of the coefficients."
   ]
  },
  {
   "cell_type": "code",
   "execution_count": null,
   "metadata": {},
   "outputs": [],
   "source": [
    "# Your code here - evaluate the model with interactions\n",
    "interaction_results.summary()"
   ]
  },
  {
   "cell_type": "code",
   "execution_count": null,
   "metadata": {},
   "outputs": [],
   "source": [
    "# Your written answer here\n",
    "\"\"\"\n",
    "The model overall still explains about 83% of the variance in sale price. The baseline explained 82.7% whereas this model explains 82.9%, so it's a marginal improvement.\n",
    "\n",
    "Coefficients for the intercept as well as all continuous variables are still statistically significant\n",
    "Coefficients for KitchenQual are still statistically significant\n",
    "Neighborhood_NoRidge used to be statistically significant but now it is not\n",
    "GrLivArea x Neighborhood_NoRidge is not statistically significant\n",
    "LotArea x 1stFlrSF is statistically significant\n",
    "\"\"\""
   ]
  },
  {
   "cell_type": "markdown",
   "metadata": {},
   "source": [
    "<details>\n",
    "    <summary style=\"cursor: pointer\"><b>Answer (click to reveal)</b></summary>\n",
    "\n",
    "The model overall still explains about 83% of the variance in sale price. The baseline explained 82.7% whereas this model explains 82.9%, so it's a marginal improvement.\n",
    "    \n",
    "* Coefficients for the intercept as well as all continuous variables are still statistically significant\n",
    "* Coefficients for `KitchenQual` are still statistically significant\n",
    "* `Neighborhood_NoRidge` used to be statistically significant but now it is not\n",
    "* `GrLivArea x Neighborhood_NoRidge` is not statistically significant\n",
    "* `LotArea x 1stFlrSF` is statistically significant\n",
    "\n",
    "</details>"
   ]
  },
  {
   "cell_type": "markdown",
   "metadata": {},
   "source": [
    "### Interpret the Model Results\n",
    "\n",
    "Interpret the coefficients for the intercept as well as the interactions and all variables used in the interactions. Make sure you only interpret the coefficients that were statistically significant!"
   ]
  },
  {
   "cell_type": "code",
   "execution_count": null,
   "metadata": {},
   "outputs": [],
   "source": [
    "# Your written answer here\n",
    "\"\"\"\n",
    "The intercept is about 258k. This means that a home with average continuous attributes and reference categorical attributes (excellent kitchen quality, Bloomington Heights neighborhood) would cost about $258k.\n",
    "\n",
    "The coefficient for LotArea is about 2.58. This means that for a home with average first floor square footage, each additional square foot of lot area is associated with an increase of about $2.58 in sale price.\n",
    "\n",
    "The coefficient for 1stFlrSF is about 30.5. This means that for a home with average lot area, each additional square foot of first floor area is associated with an increase of about $30.50 in sale price.\n",
    "\n",
    "The coefficient for LotArea x 1stFlrSF is about 0.003. This means that:\n",
    "\n",
    "For each additional square foot of lot area, there is an increase of about $2.58 + (0.003 x first floor square footage) in sale price\n",
    "For each additional square foot of first floor square footage, there is an increase of about $30.50 + (0.003 x lot area square footage) in sale price\n",
    "Neighborhood_NoRidge and GrLivArea x Neighborhood_NoRidge were not statistically significant so we won't be interpreting their coefficients.\n",
    "\"\"\""
   ]
  },
  {
   "cell_type": "markdown",
   "metadata": {},
   "source": [
    "<details>\n",
    "    <summary style=\"cursor: pointer\"><b>Answer (click to reveal)</b></summary>\n",
    "\n",
    "The intercept is about 258k. This means that a home with average continuous attributes and reference categorical attributes (excellent kitchen quality, Bloomington Heights neighborhood) would cost about \\\\$258k.\n",
    "\n",
    "The coefficient for `LotArea` is about 2.58. This means that for a home with average first floor square footage, each additional square foot of lot area is associated with an increase of about \\\\$2.58 in sale price.\n",
    "\n",
    "The coefficient for `1stFlrSF` is about 30.5. This means that for a home with average lot area, each additional square foot of first floor area is associated with an increase of about \\\\$30.50 in sale price.\n",
    "\n",
    "The coefficient for `LotArea x 1stFlrSF` is about 0.003. This means that:\n",
    "\n",
    "1. For each additional square foot of lot area, there is an increase of about \\\\$2.58 + (0.003 x first floor square footage) in sale price\n",
    "2. For each additional square foot of first floor square footage, there is an increase of about \\\\$30.50 + (0.003 x lot area square footage) in sale price\n",
    "\n",
    "`Neighborhood_NoRidge` and `GrLivArea x Neighborhood_NoRidge` were not statistically significant so we won't be interpreting their coefficients.\n",
    "\n",
    "\n",
    "\n",
    "</details>"
   ]
  },
  {
   "cell_type": "markdown",
   "metadata": {},
   "source": [
    "## Summary"
   ]
  },
  {
   "cell_type": "markdown",
   "metadata": {},
   "source": [
    "You should now understand how to include interaction effects in your model! As you can see, interactions that seem promising may or may not end up being statistically significant. This is why exploration and iteration are important!"
   ]
  }
 ],
 "metadata": {
  "kernelspec": {
   "display_name": "Python (learn-env)",
   "language": "python",
   "name": "learn-env"
  },
  "language_info": {
   "codemirror_mode": {
    "name": "ipython",
    "version": 3
   },
   "file_extension": ".py",
   "mimetype": "text/x-python",
   "name": "python",
   "nbconvert_exporter": "python",
   "pygments_lexer": "ipython3",
   "version": "3.8.5"
  },
  "toc": {
   "base_numbering": 1,
   "nav_menu": {},
   "number_sections": true,
   "sideBar": true,
   "skip_h1_title": true,
   "title_cell": "Table of Contents",
   "title_sidebar": "Contents",
   "toc_cell": true,
   "toc_position": {},
   "toc_section_display": true,
   "toc_window_display": false
  }
 },
 "nbformat": 4,
 "nbformat_minor": 2
}
