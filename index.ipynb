{
 "cells": [
  {
   "cell_type": "markdown",
   "metadata": {
    "toc": true
   },
   "source": [
    "<h1>Table of Contents<span class=\"tocSkip\"></span></h1>\n",
    "<div class=\"toc\"><ul class=\"toc-item\"><li><span><a href=\"#Business-Understanding\" data-toc-modified-id=\"Business-Understanding-1\"><span class=\"toc-item-num\">1&nbsp;&nbsp;</span>Business Understanding</a></span><ul class=\"toc-item\"><li><span><a href=\"#Importing-the-required-libraries\" data-toc-modified-id=\"Importing-the-required-libraries-1.1\"><span class=\"toc-item-num\">1.1&nbsp;&nbsp;</span>Importing the required libraries</a></span></li><li><span><a href=\"#Loading-the-data\" data-toc-modified-id=\"Loading-the-data-1.2\"><span class=\"toc-item-num\">1.2&nbsp;&nbsp;</span>Loading the data</a></span></li><li><span><a href=\"#Display-the-DataFrames\" data-toc-modified-id=\"Display-the-DataFrames-1.3\"><span class=\"toc-item-num\">1.3&nbsp;&nbsp;</span>Display the DataFrames</a></span></li></ul></li><li><span><a href=\"#Data-Understanding\" data-toc-modified-id=\"Data-Understanding-2\"><span class=\"toc-item-num\">2&nbsp;&nbsp;</span>Data Understanding</a></span><ul class=\"toc-item\"><li><span><a href=\"#a)-The-training-values\" data-toc-modified-id=\"a)-The-training-values-2.1\"><span class=\"toc-item-num\">2.1&nbsp;&nbsp;</span>a) The training values</a></span></li><li><span><a href=\"#b)-The-training-Label\" data-toc-modified-id=\"b)-The-training-Label-2.2\"><span class=\"toc-item-num\">2.2&nbsp;&nbsp;</span>b) The training Label</a></span><ul class=\"toc-item\"><li><span><a href=\"#The-labels-in-this-dataset\" data-toc-modified-id=\"The-labels-in-this-dataset-2.2.1\"><span class=\"toc-item-num\">2.2.1&nbsp;&nbsp;</span>The labels in this dataset</a></span></li></ul></li><li><span><a href=\"#c)-The-testing-Values\" data-toc-modified-id=\"c)-The-testing-Values-2.3\"><span class=\"toc-item-num\">2.3&nbsp;&nbsp;</span>c) The testing Values</a></span></li><li><span><a href=\"#Understanding-the-columns-(Training-and-Testing-set)\" data-toc-modified-id=\"Understanding-the-columns-(Training-and-Testing-set)-2.4\"><span class=\"toc-item-num\">2.4&nbsp;&nbsp;</span>Understanding the columns (Training and Testing set)</a></span></li></ul></li><li><span><a href=\"#Explorative-Data-Analysis-(EDA)\" data-toc-modified-id=\"Explorative-Data-Analysis-(EDA)-3\"><span class=\"toc-item-num\">3&nbsp;&nbsp;</span>Explorative Data Analysis (EDA)</a></span><ul class=\"toc-item\"><li><span><a href=\"#Visualizing-the-distribution-by-functional-status-of-the-water-pumps\" data-toc-modified-id=\"Visualizing-the-distribution-by-functional-status-of-the-water-pumps-3.1\"><span class=\"toc-item-num\">3.1&nbsp;&nbsp;</span>Visualizing the distribution by functional status of the water pumps</a></span><ul class=\"toc-item\"><li><span><a href=\"#Observation\" data-toc-modified-id=\"Observation-3.1.1\"><span class=\"toc-item-num\">3.1.1&nbsp;&nbsp;</span>Observation</a></span></li></ul></li><li><span><a href=\"#Visualizing-the-effect-of-water-quality-on-the-functionality-status-of-the-water-pumps\" data-toc-modified-id=\"Visualizing-the-effect-of-water-quality-on-the-functionality-status-of-the-water-pumps-3.2\"><span class=\"toc-item-num\">3.2&nbsp;&nbsp;</span>Visualizing the effect of water quality on the functionality status of the water pumps</a></span><ul class=\"toc-item\"><li><span><a href=\"#Observations\" data-toc-modified-id=\"Observations-3.2.1\"><span class=\"toc-item-num\">3.2.1&nbsp;&nbsp;</span>Observations</a></span></li></ul></li><li><span><a href=\"#Visualizing-if-the-payment-type-influences-the-functionality-status-of-the-water-pumps\" data-toc-modified-id=\"Visualizing-if-the-payment-type-influences-the-functionality-status-of-the-water-pumps-3.3\"><span class=\"toc-item-num\">3.3&nbsp;&nbsp;</span>Visualizing if the payment type influences the functionality status of the water pumps</a></span><ul class=\"toc-item\"><li><span><a href=\"#Observations:\" data-toc-modified-id=\"Observations:-3.3.1\"><span class=\"toc-item-num\">3.3.1&nbsp;&nbsp;</span>Observations:</a></span></li></ul></li><li><span><a href=\"#Visualizing-the-effect-of-the-water-point-type-on-the-functionality-status-of-water-pumps\" data-toc-modified-id=\"Visualizing-the-effect-of-the-water-point-type-on-the-functionality-status-of-water-pumps-3.4\"><span class=\"toc-item-num\">3.4&nbsp;&nbsp;</span>Visualizing the effect of the water point type on the functionality status of water pumps</a></span><ul class=\"toc-item\"><li><span><a href=\"#Observations:\" data-toc-modified-id=\"Observations:-3.4.1\"><span class=\"toc-item-num\">3.4.1&nbsp;&nbsp;</span>Observations:</a></span></li></ul></li><li><span><a href=\"#Visualizing-if-the-functionality-status-of-water-pumps-is-influenced-by-the-construction-year\" data-toc-modified-id=\"Visualizing-if-the-functionality-status-of-water-pumps-is-influenced-by-the-construction-year-3.5\"><span class=\"toc-item-num\">3.5&nbsp;&nbsp;</span>Visualizing if the functionality status of water pumps is influenced by the construction year</a></span><ul class=\"toc-item\"><li><span><a href=\"#Observations:\" data-toc-modified-id=\"Observations:-3.5.1\"><span class=\"toc-item-num\">3.5.1&nbsp;&nbsp;</span>Observations:</a></span></li></ul></li><li><span><a href=\"#Visualizing-the-effect-of-water-source-to-the-functionality-of-the-water-pumps\" data-toc-modified-id=\"Visualizing-the-effect-of-water-source-to-the-functionality-of-the-water-pumps-3.6\"><span class=\"toc-item-num\">3.6&nbsp;&nbsp;</span>Visualizing the effect of water source to the functionality of the water pumps</a></span><ul class=\"toc-item\"><li><span><a href=\"#Observations:\" data-toc-modified-id=\"Observations:-3.6.1\"><span class=\"toc-item-num\">3.6.1&nbsp;&nbsp;</span>Observations:</a></span></li></ul></li><li><span><a href=\"#Visualizing-the-effect-of-water-source-type-to-the-functionality-of-the-water-pumps\" data-toc-modified-id=\"Visualizing-the-effect-of-water-source-type-to-the-functionality-of-the-water-pumps-3.7\"><span class=\"toc-item-num\">3.7&nbsp;&nbsp;</span>Visualizing the effect of water source type to the functionality of the water pumps</a></span><ul class=\"toc-item\"><li><span><a href=\"#Observations:\" data-toc-modified-id=\"Observations:-3.7.1\"><span class=\"toc-item-num\">3.7.1&nbsp;&nbsp;</span>Observations:</a></span></li></ul></li><li><span><a href=\"#Visualizing-the-effect-of-water-quantity-in-a-well-to-the-functionality-of-the-water-pumps\" data-toc-modified-id=\"Visualizing-the-effect-of-water-quantity-in-a-well-to-the-functionality-of-the-water-pumps-3.8\"><span class=\"toc-item-num\">3.8&nbsp;&nbsp;</span>Visualizing the effect of water quantity in a well to the functionality of the water pumps</a></span><ul class=\"toc-item\"><li><span><a href=\"#Observations:\" data-toc-modified-id=\"Observations:-3.8.1\"><span class=\"toc-item-num\">3.8.1&nbsp;&nbsp;</span>Observations:</a></span></li></ul></li></ul></li><li><span><a href=\"#Data-Preparation\" data-toc-modified-id=\"Data-Preparation-4\"><span class=\"toc-item-num\">4&nbsp;&nbsp;</span>Data Preparation</a></span><ul class=\"toc-item\"><li><span><a href=\"#a)-Identifying-and-Removing-Irrelevant-columns\" data-toc-modified-id=\"a)-Identifying-and-Removing-Irrelevant-columns-4.1\"><span class=\"toc-item-num\">4.1&nbsp;&nbsp;</span>a) Identifying and Removing Irrelevant columns</a></span><ul class=\"toc-item\"><li><span><a href=\"#Observation\" data-toc-modified-id=\"Observation-4.1.1\"><span class=\"toc-item-num\">4.1.1&nbsp;&nbsp;</span>Observation</a></span></li></ul></li><li><span><a href=\"#b)-Reducing-High-Cardinality\" data-toc-modified-id=\"b)-Reducing-High-Cardinality-4.2\"><span class=\"toc-item-num\">4.2&nbsp;&nbsp;</span>b) Reducing High Cardinality</a></span><ul class=\"toc-item\"><li><span><a href=\"#Observations:\" data-toc-modified-id=\"Observations:-4.2.1\"><span class=\"toc-item-num\">4.2.1&nbsp;&nbsp;</span>Observations:</a></span></li></ul></li><li><span><a href=\"#c)-Handling-Missing-Values\" data-toc-modified-id=\"c)-Handling-Missing-Values-4.3\"><span class=\"toc-item-num\">4.3&nbsp;&nbsp;</span>c) Handling Missing Values</a></span><ul class=\"toc-item\"><li><span><a href=\"#Observations:\" data-toc-modified-id=\"Observations:-4.3.1\"><span class=\"toc-item-num\">4.3.1&nbsp;&nbsp;</span>Observations:</a></span></li></ul></li><li><span><a href=\"#d)-Handling-Placeholders\" data-toc-modified-id=\"d)-Handling-Placeholders-4.4\"><span class=\"toc-item-num\">4.4&nbsp;&nbsp;</span>d) Handling Placeholders</a></span><ul class=\"toc-item\"><li><span><a href=\"#Observations:\" data-toc-modified-id=\"Observations:-4.4.1\"><span class=\"toc-item-num\">4.4.1&nbsp;&nbsp;</span>Observations:</a></span></li></ul></li><li><span><a href=\"#e)-Encoding-Binary-Columns\" data-toc-modified-id=\"e)-Encoding-Binary-Columns-4.5\"><span class=\"toc-item-num\">4.5&nbsp;&nbsp;</span>e) Encoding Binary Columns</a></span></li><li><span><a href=\"#f)-Replacing-Similar-Values\" data-toc-modified-id=\"f)-Replacing-Similar-Values-4.6\"><span class=\"toc-item-num\">4.6&nbsp;&nbsp;</span>f) Replacing Similar Values</a></span><ul class=\"toc-item\"><li><span><a href=\"#Observations:\" data-toc-modified-id=\"Observations:-4.6.1\"><span class=\"toc-item-num\">4.6.1&nbsp;&nbsp;</span>Observations:</a></span></li></ul></li><li><span><a href=\"#g)-Feature-Engineering\" data-toc-modified-id=\"g)-Feature-Engineering-4.7\"><span class=\"toc-item-num\">4.7&nbsp;&nbsp;</span>g) Feature Engineering</a></span></li><li><span><a href=\"#h)-Dropping-Unneeded-Columns\" data-toc-modified-id=\"h)-Dropping-Unneeded-Columns-4.8\"><span class=\"toc-item-num\">4.8&nbsp;&nbsp;</span>h) Dropping Unneeded Columns</a></span></li><li><span><a href=\"#i)-Train-Test-Split-and-Label-Preparation\" data-toc-modified-id=\"i)-Train-Test-Split-and-Label-Preparation-4.9\"><span class=\"toc-item-num\">4.9&nbsp;&nbsp;</span>i) Train-Test Split and Label Preparation</a></span><ul class=\"toc-item\"><li><span><a href=\"#Observations:\" data-toc-modified-id=\"Observations:-4.9.1\"><span class=\"toc-item-num\">4.9.1&nbsp;&nbsp;</span>Observations:</a></span></li></ul></li><li><span><a href=\"#j)-Encoding-Categorical-Features\" data-toc-modified-id=\"j)-Encoding-Categorical-Features-4.10\"><span class=\"toc-item-num\">4.10&nbsp;&nbsp;</span>j) Encoding Categorical Features</a></span><ul class=\"toc-item\"><li><span><a href=\"#Observations:\" data-toc-modified-id=\"Observations:-4.10.1\"><span class=\"toc-item-num\">4.10.1&nbsp;&nbsp;</span>Observations:</a></span></li></ul></li><li><span><a href=\"#k)-Handling-Class-Imbalance\" data-toc-modified-id=\"k)-Handling-Class-Imbalance-4.11\"><span class=\"toc-item-num\">4.11&nbsp;&nbsp;</span>k) Handling Class Imbalance</a></span><ul class=\"toc-item\"><li><span><a href=\"#Observations:\" data-toc-modified-id=\"Observations:-4.11.1\"><span class=\"toc-item-num\">4.11.1&nbsp;&nbsp;</span>Observations:</a></span></li></ul></li></ul></li><li><span><a href=\"#Modeling:-Logistic-Regression\" data-toc-modified-id=\"Modeling:-Logistic-Regression-5\"><span class=\"toc-item-num\">5&nbsp;&nbsp;</span>Modeling: Logistic Regression</a></span><ul class=\"toc-item\"><li><span><a href=\"#Baseline-Logistic-Regression\" data-toc-modified-id=\"Baseline-Logistic-Regression-5.1\"><span class=\"toc-item-num\">5.1&nbsp;&nbsp;</span>Baseline Logistic Regression</a></span><ul class=\"toc-item\"><li><span><a href=\"#Observations:\" data-toc-modified-id=\"Observations:-5.1.1\"><span class=\"toc-item-num\">5.1.1&nbsp;&nbsp;</span>Observations:</a></span></li></ul></li><li><span><a href=\"#Tuned-Logistic-Regression\" data-toc-modified-id=\"Tuned-Logistic-Regression-5.2\"><span class=\"toc-item-num\">5.2&nbsp;&nbsp;</span>Tuned Logistic Regression</a></span><ul class=\"toc-item\"><li><span><a href=\"#Observations:\" data-toc-modified-id=\"Observations:-5.2.1\"><span class=\"toc-item-num\">5.2.1&nbsp;&nbsp;</span>Observations:</a></span></li></ul></li><li><span><a href=\"#Feature-Importance\" data-toc-modified-id=\"Feature-Importance-5.3\"><span class=\"toc-item-num\">5.3&nbsp;&nbsp;</span>Feature Importance</a></span><ul class=\"toc-item\"><li><span><a href=\"#Observations:\" data-toc-modified-id=\"Observations:-5.3.1\"><span class=\"toc-item-num\">5.3.1&nbsp;&nbsp;</span>Observations:</a></span></li></ul></li><li><span><a href=\"#Predictions-on-Test-Set\" data-toc-modified-id=\"Predictions-on-Test-Set-5.4\"><span class=\"toc-item-num\">5.4&nbsp;&nbsp;</span>Predictions on Test Set</a></span><ul class=\"toc-item\"><li><span><a href=\"#Observations:\" data-toc-modified-id=\"Observations:-5.4.1\"><span class=\"toc-item-num\">5.4.1&nbsp;&nbsp;</span>Observations:</a></span></li><li><span><a href=\"#Conclusion\" data-toc-modified-id=\"Conclusion-5.4.2\"><span class=\"toc-item-num\">5.4.2&nbsp;&nbsp;</span>Conclusion</a></span></li></ul></li></ul></li></ul></div>"
   ]
  },
  {
   "cell_type": "markdown",
   "metadata": {},
   "source": [
    "# Water Pump Functionality Prediction in Tanzania (Logistic Regression)\n",
    "Author: Janine Makorre"
   ]
  },
  {
   "cell_type": "markdown",
   "metadata": {},
   "source": [
    "## Business Understanding\n",
    "Tanzania is facing a water crisis, struggling to provide clean water to its population of over 57 million people, even though many water points exist. The government, through the Ministry of Water, is working to solve this by maintaining and repairing water pumps. However, engineers face a major challenge: they don’t have a reliable way to identify which pumps are broken or likely to fail soon.\n",
    "\n",
    "This project aims to develop a logistic regression model to predict the functionality status of water pumps (functional, non-functional, functional needs repair) using data from Taarifa and the Tanzanian Ministry of Water. By predicting pump status and identifying key factors contributing to failures, the model will enable the Ministry to prioritize maintenance, ensuring clean water access across Tanzania. This aligns with the \"Pump it Up: Data Mining the Water Table\" competition's goal of improving waterpoint maintenance through smart failure prediction."
   ]
  },
  {
   "cell_type": "markdown",
   "metadata": {},
   "source": [
    "### Importing the required libraries\n",
    "In the cell below, we start by importing the necessary libraries and packages for loading, cleaning, exploring and making predictions on our data."
   ]
  },
  {
   "cell_type": "code",
   "execution_count": 1,
   "metadata": {},
   "outputs": [],
   "source": [
    "# importing pandas for data wrangling and manipulation\n",
    "import pandas as pd\n",
    "\n",
    "# numpy for numerical operation and arrays\n",
    "import numpy as np\n",
    "\n",
    "# importing matplotlib and seaborn for data visualization\n",
    "import matplotlib.pyplot as plt\n",
    "%matplotlib inline\n",
    "%config inlineBackend.figure_format = 'retina'\n",
    "import seaborn as sns\n",
    "sns.set_context('notebook')\n",
    "\n",
    "# Sklearn\n",
    "from sklearn.preprocessing import OrdinalEncoder, OneHotEncoder, StandardScaler, LabelEncoder\n",
    "from sklearn.impute import SimpleImputer\n",
    "from sklearn.compose import ColumnTransformer\n",
    "from sklearn.pipeline import Pipeline\n",
    "from sklearn.model_selection import train_test_split\n",
    "from sklearn.linear_model import LogisticRegression\n",
    "from sklearn.metrics import accuracy_score, classification_report, confusion_matrix, ConfusionMatrixDisplay\n",
    "from imblearn.over_sampling import SMOTE\n",
    "import random"
   ]
  },
  {
   "cell_type": "markdown",
   "metadata": {},
   "source": [
    "### Loading the data\n",
    "\n",
    "We are going to begin with 3 datasets namely: \n",
    "- The training values (Predictors) \n",
    "- The Training label \n",
    "- The Testing values (Predictors) "
   ]
  },
  {
   "cell_type": "code",
   "execution_count": 2,
   "metadata": {},
   "outputs": [],
   "source": [
    "# Loading the training values dataset\n",
    "train_values = pd.read_csv(\"C:/Users/Hp/Documents/Flatiron/Phase 3/Flatiron_Phase_3/End of Phase Project/Files/Training set  values.csv.csv\")\n",
    "\n",
    "# Loading the training label dataset\n",
    "train_labels = pd.read_csv(\"C:/Users/Hp/Documents/Flatiron/Phase 3/Flatiron_Phase_3/End of Phase Project/Files/Training Set Labels.csv.csv\")\n",
    "\n",
    "# Loading the testing values dataset\n",
    "test_values = pd.read_csv(\"C:/Users/Hp/Documents/Flatiron/Phase 3/Flatiron_Phase_3/End of Phase Project/Files/Test Set Values.csv.csv\")"
   ]
  },
  {
   "cell_type": "markdown",
   "metadata": {},
   "source": [
    "### Display the DataFrames"
   ]
  },
  {
   "cell_type": "code",
   "execution_count": 3,
   "metadata": {
    "scrolled": false
   },
   "outputs": [
    {
     "data": {
      "text/html": [
       "<div>\n",
       "<style scoped>\n",
       "    .dataframe tbody tr th:only-of-type {\n",
       "        vertical-align: middle;\n",
       "    }\n",
       "\n",
       "    .dataframe tbody tr th {\n",
       "        vertical-align: top;\n",
       "    }\n",
       "\n",
       "    .dataframe thead th {\n",
       "        text-align: right;\n",
       "    }\n",
       "</style>\n",
       "<table border=\"1\" class=\"dataframe\">\n",
       "  <thead>\n",
       "    <tr style=\"text-align: right;\">\n",
       "      <th></th>\n",
       "      <th>id</th>\n",
       "      <th>amount_tsh</th>\n",
       "      <th>date_recorded</th>\n",
       "      <th>funder</th>\n",
       "      <th>gps_height</th>\n",
       "      <th>installer</th>\n",
       "      <th>longitude</th>\n",
       "      <th>latitude</th>\n",
       "      <th>wpt_name</th>\n",
       "      <th>num_private</th>\n",
       "      <th>...</th>\n",
       "      <th>payment_type</th>\n",
       "      <th>water_quality</th>\n",
       "      <th>quality_group</th>\n",
       "      <th>quantity</th>\n",
       "      <th>quantity_group</th>\n",
       "      <th>source</th>\n",
       "      <th>source_type</th>\n",
       "      <th>source_class</th>\n",
       "      <th>waterpoint_type</th>\n",
       "      <th>waterpoint_type_group</th>\n",
       "    </tr>\n",
       "  </thead>\n",
       "  <tbody>\n",
       "    <tr>\n",
       "      <th>0</th>\n",
       "      <td>69572</td>\n",
       "      <td>6000.0</td>\n",
       "      <td>2011-03-14</td>\n",
       "      <td>Roman</td>\n",
       "      <td>1390</td>\n",
       "      <td>Roman</td>\n",
       "      <td>34.938093</td>\n",
       "      <td>-9.856322</td>\n",
       "      <td>none</td>\n",
       "      <td>0</td>\n",
       "      <td>...</td>\n",
       "      <td>annually</td>\n",
       "      <td>soft</td>\n",
       "      <td>good</td>\n",
       "      <td>enough</td>\n",
       "      <td>enough</td>\n",
       "      <td>spring</td>\n",
       "      <td>spring</td>\n",
       "      <td>groundwater</td>\n",
       "      <td>communal standpipe</td>\n",
       "      <td>communal standpipe</td>\n",
       "    </tr>\n",
       "    <tr>\n",
       "      <th>1</th>\n",
       "      <td>8776</td>\n",
       "      <td>0.0</td>\n",
       "      <td>2013-03-06</td>\n",
       "      <td>Grumeti</td>\n",
       "      <td>1399</td>\n",
       "      <td>GRUMETI</td>\n",
       "      <td>34.698766</td>\n",
       "      <td>-2.147466</td>\n",
       "      <td>Zahanati</td>\n",
       "      <td>0</td>\n",
       "      <td>...</td>\n",
       "      <td>never pay</td>\n",
       "      <td>soft</td>\n",
       "      <td>good</td>\n",
       "      <td>insufficient</td>\n",
       "      <td>insufficient</td>\n",
       "      <td>rainwater harvesting</td>\n",
       "      <td>rainwater harvesting</td>\n",
       "      <td>surface</td>\n",
       "      <td>communal standpipe</td>\n",
       "      <td>communal standpipe</td>\n",
       "    </tr>\n",
       "  </tbody>\n",
       "</table>\n",
       "<p>2 rows × 40 columns</p>\n",
       "</div>"
      ],
      "text/plain": [
       "      id  amount_tsh date_recorded   funder  gps_height installer  longitude  \\\n",
       "0  69572      6000.0    2011-03-14    Roman        1390     Roman  34.938093   \n",
       "1   8776         0.0    2013-03-06  Grumeti        1399   GRUMETI  34.698766   \n",
       "\n",
       "   latitude  wpt_name  num_private  ... payment_type water_quality  \\\n",
       "0 -9.856322      none            0  ...     annually          soft   \n",
       "1 -2.147466  Zahanati            0  ...    never pay          soft   \n",
       "\n",
       "  quality_group      quantity  quantity_group                source  \\\n",
       "0          good        enough          enough                spring   \n",
       "1          good  insufficient    insufficient  rainwater harvesting   \n",
       "\n",
       "            source_type  source_class     waterpoint_type  \\\n",
       "0                spring   groundwater  communal standpipe   \n",
       "1  rainwater harvesting       surface  communal standpipe   \n",
       "\n",
       "  waterpoint_type_group  \n",
       "0    communal standpipe  \n",
       "1    communal standpipe  \n",
       "\n",
       "[2 rows x 40 columns]"
      ]
     },
     "execution_count": 3,
     "metadata": {},
     "output_type": "execute_result"
    }
   ],
   "source": [
    "# display the train_values dataset\n",
    "train_values.head(2)"
   ]
  },
  {
   "cell_type": "code",
   "execution_count": 4,
   "metadata": {
    "scrolled": true
   },
   "outputs": [
    {
     "data": {
      "text/html": [
       "<div>\n",
       "<style scoped>\n",
       "    .dataframe tbody tr th:only-of-type {\n",
       "        vertical-align: middle;\n",
       "    }\n",
       "\n",
       "    .dataframe tbody tr th {\n",
       "        vertical-align: top;\n",
       "    }\n",
       "\n",
       "    .dataframe thead th {\n",
       "        text-align: right;\n",
       "    }\n",
       "</style>\n",
       "<table border=\"1\" class=\"dataframe\">\n",
       "  <thead>\n",
       "    <tr style=\"text-align: right;\">\n",
       "      <th></th>\n",
       "      <th>id</th>\n",
       "      <th>status_group</th>\n",
       "    </tr>\n",
       "  </thead>\n",
       "  <tbody>\n",
       "    <tr>\n",
       "      <th>0</th>\n",
       "      <td>69572</td>\n",
       "      <td>functional</td>\n",
       "    </tr>\n",
       "    <tr>\n",
       "      <th>1</th>\n",
       "      <td>8776</td>\n",
       "      <td>functional</td>\n",
       "    </tr>\n",
       "  </tbody>\n",
       "</table>\n",
       "</div>"
      ],
      "text/plain": [
       "      id status_group\n",
       "0  69572   functional\n",
       "1   8776   functional"
      ]
     },
     "execution_count": 4,
     "metadata": {},
     "output_type": "execute_result"
    }
   ],
   "source": [
    "# display the train_labels dataset\n",
    "train_labels.head(2)"
   ]
  },
  {
   "cell_type": "code",
   "execution_count": 5,
   "metadata": {},
   "outputs": [
    {
     "data": {
      "text/html": [
       "<div>\n",
       "<style scoped>\n",
       "    .dataframe tbody tr th:only-of-type {\n",
       "        vertical-align: middle;\n",
       "    }\n",
       "\n",
       "    .dataframe tbody tr th {\n",
       "        vertical-align: top;\n",
       "    }\n",
       "\n",
       "    .dataframe thead th {\n",
       "        text-align: right;\n",
       "    }\n",
       "</style>\n",
       "<table border=\"1\" class=\"dataframe\">\n",
       "  <thead>\n",
       "    <tr style=\"text-align: right;\">\n",
       "      <th></th>\n",
       "      <th>id</th>\n",
       "      <th>amount_tsh</th>\n",
       "      <th>date_recorded</th>\n",
       "      <th>funder</th>\n",
       "      <th>gps_height</th>\n",
       "      <th>installer</th>\n",
       "      <th>longitude</th>\n",
       "      <th>latitude</th>\n",
       "      <th>wpt_name</th>\n",
       "      <th>num_private</th>\n",
       "      <th>...</th>\n",
       "      <th>payment_type</th>\n",
       "      <th>water_quality</th>\n",
       "      <th>quality_group</th>\n",
       "      <th>quantity</th>\n",
       "      <th>quantity_group</th>\n",
       "      <th>source</th>\n",
       "      <th>source_type</th>\n",
       "      <th>source_class</th>\n",
       "      <th>waterpoint_type</th>\n",
       "      <th>waterpoint_type_group</th>\n",
       "    </tr>\n",
       "  </thead>\n",
       "  <tbody>\n",
       "    <tr>\n",
       "      <th>0</th>\n",
       "      <td>50785</td>\n",
       "      <td>0.0</td>\n",
       "      <td>2013-02-04</td>\n",
       "      <td>Dmdd</td>\n",
       "      <td>1996</td>\n",
       "      <td>DMDD</td>\n",
       "      <td>35.290799</td>\n",
       "      <td>-4.059696</td>\n",
       "      <td>Dinamu Secondary School</td>\n",
       "      <td>0</td>\n",
       "      <td>...</td>\n",
       "      <td>never pay</td>\n",
       "      <td>soft</td>\n",
       "      <td>good</td>\n",
       "      <td>seasonal</td>\n",
       "      <td>seasonal</td>\n",
       "      <td>rainwater harvesting</td>\n",
       "      <td>rainwater harvesting</td>\n",
       "      <td>surface</td>\n",
       "      <td>other</td>\n",
       "      <td>other</td>\n",
       "    </tr>\n",
       "    <tr>\n",
       "      <th>1</th>\n",
       "      <td>51630</td>\n",
       "      <td>0.0</td>\n",
       "      <td>2013-02-04</td>\n",
       "      <td>Government Of Tanzania</td>\n",
       "      <td>1569</td>\n",
       "      <td>DWE</td>\n",
       "      <td>36.656709</td>\n",
       "      <td>-3.309214</td>\n",
       "      <td>Kimnyak</td>\n",
       "      <td>0</td>\n",
       "      <td>...</td>\n",
       "      <td>never pay</td>\n",
       "      <td>soft</td>\n",
       "      <td>good</td>\n",
       "      <td>insufficient</td>\n",
       "      <td>insufficient</td>\n",
       "      <td>spring</td>\n",
       "      <td>spring</td>\n",
       "      <td>groundwater</td>\n",
       "      <td>communal standpipe</td>\n",
       "      <td>communal standpipe</td>\n",
       "    </tr>\n",
       "  </tbody>\n",
       "</table>\n",
       "<p>2 rows × 40 columns</p>\n",
       "</div>"
      ],
      "text/plain": [
       "      id  amount_tsh date_recorded                  funder  gps_height  \\\n",
       "0  50785         0.0    2013-02-04                    Dmdd        1996   \n",
       "1  51630         0.0    2013-02-04  Government Of Tanzania        1569   \n",
       "\n",
       "  installer  longitude  latitude                 wpt_name  num_private  ...  \\\n",
       "0      DMDD  35.290799 -4.059696  Dinamu Secondary School            0  ...   \n",
       "1       DWE  36.656709 -3.309214                  Kimnyak            0  ...   \n",
       "\n",
       "  payment_type water_quality quality_group      quantity  quantity_group  \\\n",
       "0    never pay          soft          good      seasonal        seasonal   \n",
       "1    never pay          soft          good  insufficient    insufficient   \n",
       "\n",
       "                 source           source_type  source_class  \\\n",
       "0  rainwater harvesting  rainwater harvesting       surface   \n",
       "1                spring                spring   groundwater   \n",
       "\n",
       "      waterpoint_type waterpoint_type_group  \n",
       "0               other                 other  \n",
       "1  communal standpipe    communal standpipe  \n",
       "\n",
       "[2 rows x 40 columns]"
      ]
     },
     "execution_count": 5,
     "metadata": {},
     "output_type": "execute_result"
    }
   ],
   "source": [
    "# display the test_values dataset\n",
    "test_values.head(2)"
   ]
  },
  {
   "cell_type": "markdown",
   "metadata": {},
   "source": [
    "## Data Understanding\n",
    "The data used in this project is from the [Pump it Up: Data Mining the Water Table](https://www.drivendata.org/competitions/7/pump-it-up-data-mining-the-water-table/page/23/) competition hosted by DrivenData, originally sourced by [Taarifa](https://taarifa.org/) and the [Tanzanian Ministry of Water](https://www.maji.go.tz/).\n",
    "\n",
    "The data was separated into three datasets: \n",
    "- **training values**\n",
    "- **test values**\n",
    "- **training labels**. \n",
    "\n",
    "The training and test values datasets both had 40 predictors, while the training labels dataset had one target variable, `status_group` which had three values. (functional, functional needs repair, and non functional)"
   ]
  },
  {
   "cell_type": "markdown",
   "metadata": {},
   "source": [
    "### a) The training values \n",
    "- The training values dataframe has 59,400 rows and 40 columns.\n",
    "- It has a mixture of datatypes(int64, float64 and object) with the majority of the features being categorical."
   ]
  },
  {
   "cell_type": "code",
   "execution_count": 6,
   "metadata": {},
   "outputs": [
    {
     "name": "stdout",
     "output_type": "stream",
     "text": [
      "<class 'pandas.core.frame.DataFrame'>\n",
      "RangeIndex: 59400 entries, 0 to 59399\n",
      "Data columns (total 40 columns):\n",
      " #   Column                 Non-Null Count  Dtype  \n",
      "---  ------                 --------------  -----  \n",
      " 0   id                     59400 non-null  int64  \n",
      " 1   amount_tsh             59400 non-null  float64\n",
      " 2   date_recorded          59400 non-null  object \n",
      " 3   funder                 55765 non-null  object \n",
      " 4   gps_height             59400 non-null  int64  \n",
      " 5   installer              55745 non-null  object \n",
      " 6   longitude              59400 non-null  float64\n",
      " 7   latitude               59400 non-null  float64\n",
      " 8   wpt_name               59400 non-null  object \n",
      " 9   num_private            59400 non-null  int64  \n",
      " 10  basin                  59400 non-null  object \n",
      " 11  subvillage             59029 non-null  object \n",
      " 12  region                 59400 non-null  object \n",
      " 13  region_code            59400 non-null  int64  \n",
      " 14  district_code          59400 non-null  int64  \n",
      " 15  lga                    59400 non-null  object \n",
      " 16  ward                   59400 non-null  object \n",
      " 17  population             59400 non-null  int64  \n",
      " 18  public_meeting         56066 non-null  object \n",
      " 19  recorded_by            59400 non-null  object \n",
      " 20  scheme_management      55523 non-null  object \n",
      " 21  scheme_name            31234 non-null  object \n",
      " 22  permit                 56344 non-null  object \n",
      " 23  construction_year      59400 non-null  int64  \n",
      " 24  extraction_type        59400 non-null  object \n",
      " 25  extraction_type_group  59400 non-null  object \n",
      " 26  extraction_type_class  59400 non-null  object \n",
      " 27  management             59400 non-null  object \n",
      " 28  management_group       59400 non-null  object \n",
      " 29  payment                59400 non-null  object \n",
      " 30  payment_type           59400 non-null  object \n",
      " 31  water_quality          59400 non-null  object \n",
      " 32  quality_group          59400 non-null  object \n",
      " 33  quantity               59400 non-null  object \n",
      " 34  quantity_group         59400 non-null  object \n",
      " 35  source                 59400 non-null  object \n",
      " 36  source_type            59400 non-null  object \n",
      " 37  source_class           59400 non-null  object \n",
      " 38  waterpoint_type        59400 non-null  object \n",
      " 39  waterpoint_type_group  59400 non-null  object \n",
      "dtypes: float64(3), int64(7), object(30)\n",
      "memory usage: 18.1+ MB\n"
     ]
    }
   ],
   "source": [
    "train_values.info()"
   ]
  },
  {
   "cell_type": "markdown",
   "metadata": {},
   "source": [
    "### b) The training Label\n",
    "- The train_labels dataset has 59,400 rows and two columns amely `id` and `status_group`. \n",
    "- The datatypes of the respective coluns are integer for `id` and object for `status_group`. \n",
    "\n",
    "#### The labels in this dataset\n",
    "The labels in this dataset are simple. There are three possible values:\n",
    "\n",
    "* `functional` - the waterpoint is operational and there are no repairs needed\n",
    "* `functional needs repair` - the waterpoint is operational, but needs repairs\n",
    "* `non functional` - the waterpoint is not operational"
   ]
  },
  {
   "cell_type": "code",
   "execution_count": 7,
   "metadata": {},
   "outputs": [
    {
     "data": {
      "text/plain": [
       "array(['functional', 'non functional', 'functional needs repair'],\n",
       "      dtype=object)"
      ]
     },
     "execution_count": 7,
     "metadata": {},
     "output_type": "execute_result"
    }
   ],
   "source": [
    "# unique label names\n",
    "\n",
    "train_labels.status_group.unique()"
   ]
  },
  {
   "cell_type": "code",
   "execution_count": 8,
   "metadata": {},
   "outputs": [
    {
     "name": "stdout",
     "output_type": "stream",
     "text": [
      "<class 'pandas.core.frame.DataFrame'>\n",
      "RangeIndex: 59400 entries, 0 to 59399\n",
      "Data columns (total 2 columns):\n",
      " #   Column        Non-Null Count  Dtype \n",
      "---  ------        --------------  ----- \n",
      " 0   id            59400 non-null  int64 \n",
      " 1   status_group  59400 non-null  object\n",
      "dtypes: int64(1), object(1)\n",
      "memory usage: 928.2+ KB\n"
     ]
    }
   ],
   "source": [
    "train_labels.info()"
   ]
  },
  {
   "cell_type": "markdown",
   "metadata": {},
   "source": [
    "### c) The testing Values\n",
    "- The test data has 14850 rows and 40 columns.\n",
    "- It has a mixture of datatypes(int64, float64 and object) with the majority of the features being categorical."
   ]
  },
  {
   "cell_type": "code",
   "execution_count": 9,
   "metadata": {},
   "outputs": [
    {
     "name": "stdout",
     "output_type": "stream",
     "text": [
      "<class 'pandas.core.frame.DataFrame'>\n",
      "RangeIndex: 14850 entries, 0 to 14849\n",
      "Data columns (total 40 columns):\n",
      " #   Column                 Non-Null Count  Dtype  \n",
      "---  ------                 --------------  -----  \n",
      " 0   id                     14850 non-null  int64  \n",
      " 1   amount_tsh             14850 non-null  float64\n",
      " 2   date_recorded          14850 non-null  object \n",
      " 3   funder                 13981 non-null  object \n",
      " 4   gps_height             14850 non-null  int64  \n",
      " 5   installer              13973 non-null  object \n",
      " 6   longitude              14850 non-null  float64\n",
      " 7   latitude               14850 non-null  float64\n",
      " 8   wpt_name               14850 non-null  object \n",
      " 9   num_private            14850 non-null  int64  \n",
      " 10  basin                  14850 non-null  object \n",
      " 11  subvillage             14751 non-null  object \n",
      " 12  region                 14850 non-null  object \n",
      " 13  region_code            14850 non-null  int64  \n",
      " 14  district_code          14850 non-null  int64  \n",
      " 15  lga                    14850 non-null  object \n",
      " 16  ward                   14850 non-null  object \n",
      " 17  population             14850 non-null  int64  \n",
      " 18  public_meeting         14029 non-null  object \n",
      " 19  recorded_by            14850 non-null  object \n",
      " 20  scheme_management      13881 non-null  object \n",
      " 21  scheme_name            7758 non-null   object \n",
      " 22  permit                 14113 non-null  object \n",
      " 23  construction_year      14850 non-null  int64  \n",
      " 24  extraction_type        14850 non-null  object \n",
      " 25  extraction_type_group  14850 non-null  object \n",
      " 26  extraction_type_class  14850 non-null  object \n",
      " 27  management             14850 non-null  object \n",
      " 28  management_group       14850 non-null  object \n",
      " 29  payment                14850 non-null  object \n",
      " 30  payment_type           14850 non-null  object \n",
      " 31  water_quality          14850 non-null  object \n",
      " 32  quality_group          14850 non-null  object \n",
      " 33  quantity               14850 non-null  object \n",
      " 34  quantity_group         14850 non-null  object \n",
      " 35  source                 14850 non-null  object \n",
      " 36  source_type            14850 non-null  object \n",
      " 37  source_class           14850 non-null  object \n",
      " 38  waterpoint_type        14850 non-null  object \n",
      " 39  waterpoint_type_group  14850 non-null  object \n",
      "dtypes: float64(3), int64(7), object(30)\n",
      "memory usage: 4.5+ MB\n"
     ]
    }
   ],
   "source": [
    "test_values.info()"
   ]
  },
  {
   "cell_type": "markdown",
   "metadata": {},
   "source": [
    "### Understanding the columns (Training and Testing set) \n",
    "* `amount_tsh` - Total static head (amount water available to waterpoint)\n",
    "* `date_recorded` - The date the row was entered\n",
    "* `funder` - Who funded the well\n",
    "* `gps_height` - Altitude of the well\n",
    "* `installer` - Organization that installed the well\n",
    "* `longitude` - GPS coordinate\n",
    "* `latitude` - GPS coordinate\n",
    "* `wpt_name` - Name of the waterpoint if there is one\n",
    "* `num_private` -\n",
    "* `basin` - Geographic water basin\n",
    "* `subvillage` - Geographic location\n",
    "* `region` - Geographic location\n",
    "* `region_code` - Geographic location (coded)\n",
    "* `district_code` - Geographic location (coded)\n",
    "* `lga` - Geographic location\n",
    "* `ward` - Geographic location\n",
    "* `population` - Population around the well\n",
    "* `public_meeting` - True/False\n",
    "* `recorded_by` - Group entering this row of data\n",
    "* `scheme_management` - Who operates the waterpoint\n",
    "* `scheme_name` - Who operates the waterpoint\n",
    "* `permit` - If the waterpoint is permitted\n",
    "* `construction_year` - Year the waterpoint was constructed\n",
    "* `extraction_type` - The kind of extraction the waterpoint uses\n",
    "* `extraction_type_group` - The kind of extraction the waterpoint uses\n",
    "* `extraction_type_class` - The kind of extraction the waterpoint uses\n",
    "* `management` - How the waterpoint is managed\n",
    "* `management_group` - How the waterpoint is managed\n",
    "* `payment` - What the water costs\n",
    "* `payment_type` - What the water costs\n",
    "* `water_quality` - The quality of the water\n",
    "* `quality_group` - The quality of the water\n",
    "* `quantity` - The quantity of water\n",
    "* `quantity_group` - The quantity of water\n",
    "* `source` - The source of the water\n",
    "* `source_type` - The source of the water\n",
    "* `source_class` - The source of the water\n",
    "* `waterpoint_type` - The kind of waterpoint\n",
    "* `waterpoint_type_group` - The kind of waterpoint"
   ]
  },
  {
   "cell_type": "markdown",
   "metadata": {},
   "source": [
    "## Explorative Data Analysis (EDA) \n",
    "Here we explore the data more by visualizing it to understand the underlying relationships between the features. We will also clean the data by getting rid of unnecessary columns, dealing with missing vaues, changing the data types and so on. "
   ]
  },
  {
   "cell_type": "markdown",
   "metadata": {},
   "source": [
    "### Visualizing the distribution by functional status of the water pumps\n",
    "As already mentioned, there are 3 possible label values for the dataset. Namely, \n",
    "\n",
    "- ***functional*** \n",
    "- ***functional needs repair*** \n",
    "- ***non functional*** \n",
    "\n",
    "Below we seek to understand their distribution in our data. "
   ]
  },
  {
   "cell_type": "code",
   "execution_count": 10,
   "metadata": {},
   "outputs": [
    {
     "data": {
      "text/plain": [
       "functional                 0.543081\n",
       "non functional             0.384242\n",
       "functional needs repair    0.072677\n",
       "Name: status_group, dtype: float64"
      ]
     },
     "execution_count": 10,
     "metadata": {},
     "output_type": "execute_result"
    }
   ],
   "source": [
    "train_labels['status_group'].value_counts(normalize=True)"
   ]
  },
  {
   "cell_type": "code",
   "execution_count": 11,
   "metadata": {},
   "outputs": [
    {
     "data": {
      "image/png": "[encoded data removed]",
      "text/plain": [
       "<Figure size 432x288 with 1 Axes>"
      ]
     },
     "metadata": {
      "needs_background": "light"
     },
     "output_type": "display_data"
    }
   ],
   "source": [
    "# create the plot\n",
    "train_labels['status_group'].hist()\n",
    "plt.title(\"Pump Distribution by Functional Status\", fontsize=20)\n",
    "\n",
    "# Save to Images folder\n",
    "plt.savefig(\"Images/Pump Distribution by Functional Status.png\")\n",
    "\n",
    "# Show the plot\n",
    "plt.show();"
   ]
  },
  {
   "cell_type": "markdown",
   "metadata": {},
   "source": [
    "#### Observation\n",
    "- Functional pumps (54.3%) are most common, followed by non-functional (38.4%); functional needs repair (7.3%) is underrepresented."
   ]
  },
  {
   "cell_type": "markdown",
   "metadata": {},
   "source": [
    "### Visualizing the effect of water quality on the functionality status of the water pumps"
   ]
  },
  {
   "cell_type": "code",
   "execution_count": 12,
   "metadata": {
    "scrolled": true
   },
   "outputs": [
    {
     "data": {
      "text/html": [
       "<div>\n",
       "<style scoped>\n",
       "    .dataframe tbody tr th:only-of-type {\n",
       "        vertical-align: middle;\n",
       "    }\n",
       "\n",
       "    .dataframe tbody tr th {\n",
       "        vertical-align: top;\n",
       "    }\n",
       "\n",
       "    .dataframe thead th {\n",
       "        text-align: right;\n",
       "    }\n",
       "</style>\n",
       "<table border=\"1\" class=\"dataframe\">\n",
       "  <thead>\n",
       "    <tr style=\"text-align: right;\">\n",
       "      <th></th>\n",
       "      <th>id</th>\n",
       "      <th>amount_tsh</th>\n",
       "      <th>date_recorded</th>\n",
       "      <th>funder</th>\n",
       "      <th>gps_height</th>\n",
       "      <th>installer</th>\n",
       "      <th>longitude</th>\n",
       "      <th>latitude</th>\n",
       "      <th>wpt_name</th>\n",
       "      <th>num_private</th>\n",
       "      <th>...</th>\n",
       "      <th>water_quality</th>\n",
       "      <th>quality_group</th>\n",
       "      <th>quantity</th>\n",
       "      <th>quantity_group</th>\n",
       "      <th>source</th>\n",
       "      <th>source_type</th>\n",
       "      <th>source_class</th>\n",
       "      <th>waterpoint_type</th>\n",
       "      <th>waterpoint_type_group</th>\n",
       "      <th>status_group</th>\n",
       "    </tr>\n",
       "  </thead>\n",
       "  <tbody>\n",
       "    <tr>\n",
       "      <th>0</th>\n",
       "      <td>69572</td>\n",
       "      <td>6000.0</td>\n",
       "      <td>2011-03-14</td>\n",
       "      <td>Roman</td>\n",
       "      <td>1390</td>\n",
       "      <td>Roman</td>\n",
       "      <td>34.938093</td>\n",
       "      <td>-9.856322</td>\n",
       "      <td>none</td>\n",
       "      <td>0</td>\n",
       "      <td>...</td>\n",
       "      <td>soft</td>\n",
       "      <td>good</td>\n",
       "      <td>enough</td>\n",
       "      <td>enough</td>\n",
       "      <td>spring</td>\n",
       "      <td>spring</td>\n",
       "      <td>groundwater</td>\n",
       "      <td>communal standpipe</td>\n",
       "      <td>communal standpipe</td>\n",
       "      <td>functional</td>\n",
       "    </tr>\n",
       "    <tr>\n",
       "      <th>1</th>\n",
       "      <td>8776</td>\n",
       "      <td>0.0</td>\n",
       "      <td>2013-03-06</td>\n",
       "      <td>Grumeti</td>\n",
       "      <td>1399</td>\n",
       "      <td>GRUMETI</td>\n",
       "      <td>34.698766</td>\n",
       "      <td>-2.147466</td>\n",
       "      <td>Zahanati</td>\n",
       "      <td>0</td>\n",
       "      <td>...</td>\n",
       "      <td>soft</td>\n",
       "      <td>good</td>\n",
       "      <td>insufficient</td>\n",
       "      <td>insufficient</td>\n",
       "      <td>rainwater harvesting</td>\n",
       "      <td>rainwater harvesting</td>\n",
       "      <td>surface</td>\n",
       "      <td>communal standpipe</td>\n",
       "      <td>communal standpipe</td>\n",
       "      <td>functional</td>\n",
       "    </tr>\n",
       "  </tbody>\n",
       "</table>\n",
       "<p>2 rows × 41 columns</p>\n",
       "</div>"
      ],
      "text/plain": [
       "      id  amount_tsh date_recorded   funder  gps_height installer  longitude  \\\n",
       "0  69572      6000.0    2011-03-14    Roman        1390     Roman  34.938093   \n",
       "1   8776         0.0    2013-03-06  Grumeti        1399   GRUMETI  34.698766   \n",
       "\n",
       "   latitude  wpt_name  num_private  ... water_quality quality_group  \\\n",
       "0 -9.856322      none            0  ...          soft          good   \n",
       "1 -2.147466  Zahanati            0  ...          soft          good   \n",
       "\n",
       "       quantity  quantity_group                source           source_type  \\\n",
       "0        enough          enough                spring                spring   \n",
       "1  insufficient    insufficient  rainwater harvesting  rainwater harvesting   \n",
       "\n",
       "  source_class     waterpoint_type waterpoint_type_group status_group  \n",
       "0  groundwater  communal standpipe    communal standpipe   functional  \n",
       "1      surface  communal standpipe    communal standpipe   functional  \n",
       "\n",
       "[2 rows x 41 columns]"
      ]
     },
     "execution_count": 12,
     "metadata": {},
     "output_type": "execute_result"
    }
   ],
   "source": [
    "#Joining the training values and labels\n",
    "training_data = pd.concat([train_values, train_labels.drop('id', axis=1)], axis=1)\n",
    "training_data.head(2)"
   ]
  },
  {
   "cell_type": "code",
   "execution_count": 13,
   "metadata": {},
   "outputs": [
    {
     "data": {
      "image/png": "[encoded data removed]",
      "text/plain": [
       "<Figure size 1440x576 with 1 Axes>"
      ]
     },
     "metadata": {
      "needs_background": "light"
     },
     "output_type": "display_data"
    }
   ],
   "source": [
    "# visualizing the effect of water quality on the functionality status of the water pumps\n",
    "\n",
    "fig, ax  = plt.subplots(figsize=(20,8))\n",
    "sns.histplot(data=training_data, x=\"water_quality\", hue=\"status_group\", multiple=\"dodge\", shrink=.8, ax=ax)\n",
    "ax.set_xlabel(\"Water Quality\")\n",
    "ax.set_ylabel(\"Number of water pumps\")\n",
    "plt.title(\"Effect of water quality on the Pump functionality status\", fontsize=20)\n",
    "\n",
    "# Save to Images folder\n",
    "plt.savefig(\"Images/Effect of water quality on the Pump functionality status.png\")\n",
    "\n",
    "# Show the plot\n",
    "plt.show();"
   ]
  },
  {
   "cell_type": "markdown",
   "metadata": {},
   "source": [
    "#### Observations \n",
    "\n",
    "- Soft water pumps are mostly functional.\n",
    "- Salty water has slightly more non-functional pumps.\n",
    "- Functional needs repair pumps are minimal across all qualities."
   ]
  },
  {
   "cell_type": "markdown",
   "metadata": {},
   "source": [
    "### Visualizing if the payment type influences the functionality status of the water pumps"
   ]
  },
  {
   "cell_type": "code",
   "execution_count": 14,
   "metadata": {},
   "outputs": [
    {
     "data": {
      "image/png": "[encoded data removed]",
      "text/plain": [
       "<Figure size 1440x576 with 1 Axes>"
      ]
     },
     "metadata": {
      "needs_background": "light"
     },
     "output_type": "display_data"
    }
   ],
   "source": [
    "# Visualizing if the payment type influences the functionality status of the water pumps\n",
    "\n",
    "pop_status = training_data.groupby(['status_group'])['population'].sum()\n",
    "\n",
    "fig, ax  = plt.subplots(figsize=(20,8))\n",
    "sns.histplot(data=training_data, x=\"payment_type\", hue=\"status_group\", multiple=\"dodge\", shrink=.8, ax=ax)\n",
    "ax.set_xlabel('Water Point  Type')\n",
    "ax.set_ylabel('Number of Water Pumps')\n",
    "plt.title(\"Effect of payment type on the Pump's functionality status\", fontsize=20)\n",
    "\n",
    "# Save to Images folder\n",
    "plt.savefig(\"Images/Effect of payment type on the Pump's functionality status.png\")\n",
    "\n",
    "# Show the plot\n",
    "plt.show();"
   ]
  },
  {
   "cell_type": "markdown",
   "metadata": {},
   "source": [
    "#### Observations:\n",
    "\n",
    "- \"Never pay\" has high counts of both functional and non-functional pumps.\n",
    "- Paid pumps (e.g., annually, per bucket) are mostly functional."
   ]
  },
  {
   "cell_type": "markdown",
   "metadata": {},
   "source": [
    "### Visualizing the effect of the water point type on the functionality status of water pumps"
   ]
  },
  {
   "cell_type": "code",
   "execution_count": 15,
   "metadata": {},
   "outputs": [
    {
     "data": {
      "image/png": "[encoded data removed]",
      "text/plain": [
       "<Figure size 1440x576 with 1 Axes>"
      ]
     },
     "metadata": {
      "needs_background": "light"
     },
     "output_type": "display_data"
    }
   ],
   "source": [
    "# Visualizing the effect of the water point type on the functionality status of water pumps\n",
    "\n",
    "fig, ax  = plt.subplots(figsize=(20,8))\n",
    "sns.histplot(data=training_data, x=\"waterpoint_type_group\", hue=\"status_group\", multiple=\"dodge\", shrink=.8, ax=ax)\n",
    "ax.set_xlabel('Water Point  Type')\n",
    "ax.set_ylabel('Number of Water Pumps')\n",
    "plt.title(\"Effect of water point type on the Pump's functionality status\", fontsize=20)\n",
    "\n",
    "# Save to Images folder\n",
    "plt.savefig(\"Images/Effect of water point type on the Pump's functionality status.png\")\n",
    "\n",
    "# Show the plot\n",
    "plt.show();"
   ]
  },
  {
   "cell_type": "markdown",
   "metadata": {},
   "source": [
    "#### Observations:\n",
    "\n",
    "- Communal standpipes are most common and mostly functional.\n",
    "- \"Other\" waterpoint types have more non-functional pumps."
   ]
  },
  {
   "cell_type": "markdown",
   "metadata": {},
   "source": [
    "### Visualizing if the functionality status of water pumps is influenced by the construction year"
   ]
  },
  {
   "cell_type": "code",
   "execution_count": 16,
   "metadata": {},
   "outputs": [
    {
     "data": {
      "image/png": "[encoded data removed]",
      "text/plain": [
       "<Figure size 1440x576 with 1 Axes>"
      ]
     },
     "metadata": {
      "needs_background": "light"
     },
     "output_type": "display_data"
    }
   ],
   "source": [
    "# Visualizing if the functionality status of water pumps is influenced by the construction year\n",
    "\n",
    "year = training_data[training_data['construction_year'] >0]\n",
    "fig, ax  = plt.subplots(figsize=(20,8))\n",
    "sns.histplot(data=year, x='construction_year', stat='density', hue='status_group', multiple='dodge',bins=5, ax=ax)\n",
    "ax.set_xlabel('Construction Year')\n",
    "ax.set_ylabel('Frequency')\n",
    "plt.title(\"Effect of construction year on the Pump's functionality status\", fontsize=20)\n",
    "\n",
    "# Save to Images folder\n",
    "plt.savefig(\"Images/Effect of construction year on the Pump's functionality status.png\")\n",
    "\n",
    "# Show the plot\n",
    "plt.show();"
   ]
  },
  {
   "cell_type": "markdown",
   "metadata": {},
   "source": [
    "#### Observations:\n",
    "\n",
    "- Pumps built before 1990 have higher repair needs."
   ]
  },
  {
   "cell_type": "markdown",
   "metadata": {},
   "source": [
    "### Visualizing the effect of water source to the functionality of the water pumps"
   ]
  },
  {
   "cell_type": "code",
   "execution_count": 17,
   "metadata": {},
   "outputs": [
    {
     "data": {
      "image/png": "[encoded data removed]",
      "text/plain": [
       "<Figure size 1440x576 with 1 Axes>"
      ]
     },
     "metadata": {
      "needs_background": "light"
     },
     "output_type": "display_data"
    }
   ],
   "source": [
    "#  Visualizing the effect of water source to the functionality of the water pumps\n",
    "\n",
    "fig, ax  = plt.subplots(figsize=(20,8))\n",
    "sns.histplot(data=training_data, x=\"source_class\", hue=\"status_group\", multiple=\"dodge\", shrink=.8, ax=ax)\n",
    "ax.set_xlabel(' Water Sources')\n",
    "ax.set_ylabel('Number of water pumps')\n",
    "plt.title(\"Effect of water source on the Pump's functionality status\", fontsize=20)\n",
    "\n",
    "# Save to Images folder\n",
    "plt.savefig(\"Images/Effect of water source on the Pump's functionality status.png\")\n",
    "\n",
    "# Show the plot\n",
    "plt.show();"
   ]
  },
  {
   "cell_type": "markdown",
   "metadata": {},
   "source": [
    "#### Observations:\n",
    "- There are two known water sources; ground and surface\n",
    "- Majority of the water sources are ground water"
   ]
  },
  {
   "cell_type": "markdown",
   "metadata": {},
   "source": [
    "### Visualizing the effect of water source type to the functionality of the water pumps"
   ]
  },
  {
   "cell_type": "code",
   "execution_count": 18,
   "metadata": {},
   "outputs": [
    {
     "data": {
      "image/png": "[encoded data removed]",
      "text/plain": [
       "<Figure size 1440x576 with 1 Axes>"
      ]
     },
     "metadata": {
      "needs_background": "light"
     },
     "output_type": "display_data"
    }
   ],
   "source": [
    "# Visualizing the effect of water source type to the functionality of the water pumps\n",
    "\n",
    "fig, ax  = plt.subplots(figsize=(20,8))\n",
    "sns.histplot(data=training_data, x=\"source_type\", hue=\"status_group\", multiple=\"dodge\", shrink=.8, ax=ax)\n",
    "ax.set_xlabel(' Source Type ')\n",
    "ax.set_ylabel('Number of water pumps')\n",
    "plt.title(\"Effect of water source type on the Pump's functionality status\", fontsize=20)\n",
    "\n",
    "# Save to Images folder\n",
    "plt.savefig(\"Images/Effect of water source type on the Pump's functionality status.png\")\n",
    "\n",
    "# Show the plot\n",
    "plt.show();"
   ]
  },
  {
   "cell_type": "markdown",
   "metadata": {},
   "source": [
    "#### Observations:\n",
    "- There are six water types.\n",
    "- Except for dams,the functional pumps outweigh the non-functional pumps "
   ]
  },
  {
   "cell_type": "markdown",
   "metadata": {},
   "source": [
    "### Visualizing the effect of water quantity in a well to the functionality of the water pumps"
   ]
  },
  {
   "cell_type": "code",
   "execution_count": 19,
   "metadata": {},
   "outputs": [
    {
     "data": {
      "image/png": "[encoded data removed]",
      "text/plain": [
       "<Figure size 1440x576 with 1 Axes>"
      ]
     },
     "metadata": {
      "needs_background": "light"
     },
     "output_type": "display_data"
    }
   ],
   "source": [
    "#  Visualizing the effect of water quantity in a well to the functionality of the water pumps\n",
    "\n",
    "fig, ax  = plt.subplots(figsize=(20,8))\n",
    "sns.histplot(data=training_data, x=\"quantity_group\", hue=\"status_group\", multiple=\"dodge\", shrink=.8, ax=ax)\n",
    "ax.set_xlabel(' Source Type ')\n",
    "ax.set_ylabel('Number of water pumps')\n",
    "plt.title(\"Effect of water quantity in a well on the Pump's functionality status\", fontsize=20)\n",
    "\n",
    "# Save to Images folder\n",
    "plt.savefig(\"Images/Effect of water quantity in a well on the Pump's functionality status.png\")\n",
    "\n",
    "# Show the plot\n",
    "plt.show();"
   ]
  },
  {
   "cell_type": "markdown",
   "metadata": {},
   "source": [
    "#### Observations:\n",
    "- In regions where there is water, the functional water pumps outweigh the non_functional\n",
    "- In wells where there is no water(dry) the non_functional water pumps significantly outweigh the functional "
   ]
  },
  {
   "cell_type": "markdown",
   "metadata": {},
   "source": [
    "## Data Preparation\n",
    "\n",
    "### a) Identifying and Removing Irrelevant columns\n",
    "\n",
    "The training values dataframe has a lot of columns that either represent the same thing or are irrelevant to the model that will be built. To make data understanding easier, the columns will be dropped.\n",
    "\n",
    "- Let's create a function to remove columns we deem irrelevant"
   ]
  },
  {
   "cell_type": "code",
   "execution_count": 20,
   "metadata": {},
   "outputs": [],
   "source": [
    "# let's definthe function \n",
    "\n",
    "def irrelevant_columns(data, columns):\n",
    "    \"\"\"\n",
    "    Function for removing columns that either represent the same thing or are irrelevant to the model that will be built\n",
    "    \"\"\"                   \n",
    "    cleaned_df = data.drop(columns, axis=1)\n",
    "    return cleaned_df"
   ]
  },
  {
   "cell_type": "code",
   "execution_count": 21,
   "metadata": {},
   "outputs": [
    {
     "data": {
      "text/html": [
       "<div>\n",
       "<style scoped>\n",
       "    .dataframe tbody tr th:only-of-type {\n",
       "        vertical-align: middle;\n",
       "    }\n",
       "\n",
       "    .dataframe tbody tr th {\n",
       "        vertical-align: top;\n",
       "    }\n",
       "\n",
       "    .dataframe thead th {\n",
       "        text-align: right;\n",
       "    }\n",
       "</style>\n",
       "<table border=\"1\" class=\"dataframe\">\n",
       "  <thead>\n",
       "    <tr style=\"text-align: right;\">\n",
       "      <th></th>\n",
       "      <th>id</th>\n",
       "      <th>amount_tsh</th>\n",
       "      <th>date_recorded</th>\n",
       "      <th>funder</th>\n",
       "      <th>gps_height</th>\n",
       "      <th>installer</th>\n",
       "      <th>longitude</th>\n",
       "      <th>latitude</th>\n",
       "      <th>basin</th>\n",
       "      <th>region_code</th>\n",
       "      <th>...</th>\n",
       "      <th>permit</th>\n",
       "      <th>construction_year</th>\n",
       "      <th>extraction_type_class</th>\n",
       "      <th>management</th>\n",
       "      <th>payment_type</th>\n",
       "      <th>water_quality</th>\n",
       "      <th>quantity_group</th>\n",
       "      <th>source_type</th>\n",
       "      <th>source_class</th>\n",
       "      <th>waterpoint_type_group</th>\n",
       "    </tr>\n",
       "  </thead>\n",
       "  <tbody>\n",
       "    <tr>\n",
       "      <th>0</th>\n",
       "      <td>69572</td>\n",
       "      <td>6000.0</td>\n",
       "      <td>2011-03-14</td>\n",
       "      <td>Roman</td>\n",
       "      <td>1390</td>\n",
       "      <td>Roman</td>\n",
       "      <td>34.938093</td>\n",
       "      <td>-9.856322</td>\n",
       "      <td>Lake Nyasa</td>\n",
       "      <td>11</td>\n",
       "      <td>...</td>\n",
       "      <td>False</td>\n",
       "      <td>1999</td>\n",
       "      <td>gravity</td>\n",
       "      <td>vwc</td>\n",
       "      <td>annually</td>\n",
       "      <td>soft</td>\n",
       "      <td>enough</td>\n",
       "      <td>spring</td>\n",
       "      <td>groundwater</td>\n",
       "      <td>communal standpipe</td>\n",
       "    </tr>\n",
       "    <tr>\n",
       "      <th>1</th>\n",
       "      <td>8776</td>\n",
       "      <td>0.0</td>\n",
       "      <td>2013-03-06</td>\n",
       "      <td>Grumeti</td>\n",
       "      <td>1399</td>\n",
       "      <td>GRUMETI</td>\n",
       "      <td>34.698766</td>\n",
       "      <td>-2.147466</td>\n",
       "      <td>Lake Victoria</td>\n",
       "      <td>20</td>\n",
       "      <td>...</td>\n",
       "      <td>True</td>\n",
       "      <td>2010</td>\n",
       "      <td>gravity</td>\n",
       "      <td>wug</td>\n",
       "      <td>never pay</td>\n",
       "      <td>soft</td>\n",
       "      <td>insufficient</td>\n",
       "      <td>rainwater harvesting</td>\n",
       "      <td>surface</td>\n",
       "      <td>communal standpipe</td>\n",
       "    </tr>\n",
       "    <tr>\n",
       "      <th>2</th>\n",
       "      <td>34310</td>\n",
       "      <td>25.0</td>\n",
       "      <td>2013-02-25</td>\n",
       "      <td>Lottery Club</td>\n",
       "      <td>686</td>\n",
       "      <td>World vision</td>\n",
       "      <td>37.460664</td>\n",
       "      <td>-3.821329</td>\n",
       "      <td>Pangani</td>\n",
       "      <td>21</td>\n",
       "      <td>...</td>\n",
       "      <td>True</td>\n",
       "      <td>2009</td>\n",
       "      <td>gravity</td>\n",
       "      <td>vwc</td>\n",
       "      <td>per bucket</td>\n",
       "      <td>soft</td>\n",
       "      <td>enough</td>\n",
       "      <td>dam</td>\n",
       "      <td>surface</td>\n",
       "      <td>communal standpipe</td>\n",
       "    </tr>\n",
       "    <tr>\n",
       "      <th>3</th>\n",
       "      <td>67743</td>\n",
       "      <td>0.0</td>\n",
       "      <td>2013-01-28</td>\n",
       "      <td>Unicef</td>\n",
       "      <td>263</td>\n",
       "      <td>UNICEF</td>\n",
       "      <td>38.486161</td>\n",
       "      <td>-11.155298</td>\n",
       "      <td>Ruvuma / Southern Coast</td>\n",
       "      <td>90</td>\n",
       "      <td>...</td>\n",
       "      <td>True</td>\n",
       "      <td>1986</td>\n",
       "      <td>submersible</td>\n",
       "      <td>vwc</td>\n",
       "      <td>never pay</td>\n",
       "      <td>soft</td>\n",
       "      <td>dry</td>\n",
       "      <td>borehole</td>\n",
       "      <td>groundwater</td>\n",
       "      <td>communal standpipe</td>\n",
       "    </tr>\n",
       "    <tr>\n",
       "      <th>4</th>\n",
       "      <td>19728</td>\n",
       "      <td>0.0</td>\n",
       "      <td>2011-07-13</td>\n",
       "      <td>Action In A</td>\n",
       "      <td>0</td>\n",
       "      <td>Artisan</td>\n",
       "      <td>31.130847</td>\n",
       "      <td>-1.825359</td>\n",
       "      <td>Lake Victoria</td>\n",
       "      <td>18</td>\n",
       "      <td>...</td>\n",
       "      <td>True</td>\n",
       "      <td>0</td>\n",
       "      <td>gravity</td>\n",
       "      <td>other</td>\n",
       "      <td>never pay</td>\n",
       "      <td>soft</td>\n",
       "      <td>seasonal</td>\n",
       "      <td>rainwater harvesting</td>\n",
       "      <td>surface</td>\n",
       "      <td>communal standpipe</td>\n",
       "    </tr>\n",
       "  </tbody>\n",
       "</table>\n",
       "<p>5 rows × 23 columns</p>\n",
       "</div>"
      ],
      "text/plain": [
       "      id  amount_tsh date_recorded        funder  gps_height     installer  \\\n",
       "0  69572      6000.0    2011-03-14         Roman        1390         Roman   \n",
       "1   8776         0.0    2013-03-06       Grumeti        1399       GRUMETI   \n",
       "2  34310        25.0    2013-02-25  Lottery Club         686  World vision   \n",
       "3  67743         0.0    2013-01-28        Unicef         263        UNICEF   \n",
       "4  19728         0.0    2011-07-13   Action In A           0       Artisan   \n",
       "\n",
       "   longitude   latitude                    basin  region_code  ...  permit  \\\n",
       "0  34.938093  -9.856322               Lake Nyasa           11  ...   False   \n",
       "1  34.698766  -2.147466            Lake Victoria           20  ...    True   \n",
       "2  37.460664  -3.821329                  Pangani           21  ...    True   \n",
       "3  38.486161 -11.155298  Ruvuma / Southern Coast           90  ...    True   \n",
       "4  31.130847  -1.825359            Lake Victoria           18  ...    True   \n",
       "\n",
       "   construction_year extraction_type_class management  payment_type  \\\n",
       "0               1999               gravity        vwc      annually   \n",
       "1               2010               gravity        wug     never pay   \n",
       "2               2009               gravity        vwc    per bucket   \n",
       "3               1986           submersible        vwc     never pay   \n",
       "4                  0               gravity      other     never pay   \n",
       "\n",
       "  water_quality quantity_group           source_type source_class  \\\n",
       "0          soft         enough                spring  groundwater   \n",
       "1          soft   insufficient  rainwater harvesting      surface   \n",
       "2          soft         enough                   dam      surface   \n",
       "3          soft            dry              borehole  groundwater   \n",
       "4          soft       seasonal  rainwater harvesting      surface   \n",
       "\n",
       "  waterpoint_type_group  \n",
       "0    communal standpipe  \n",
       "1    communal standpipe  \n",
       "2    communal standpipe  \n",
       "3    communal standpipe  \n",
       "4    communal standpipe  \n",
       "\n",
       "[5 rows x 23 columns]"
      ]
     },
     "execution_count": 21,
     "metadata": {},
     "output_type": "execute_result"
    }
   ],
   "source": [
    "# Removing irrelevant columns inthe training dataset\n",
    "\n",
    "irrelevant_columns1 = ['wpt_name', 'num_private', 'subvillage', 'region', 'lga',\\\n",
    "                       'ward', 'recorded_by', 'scheme_name', 'scheme_management', 'extraction_type', \\\n",
    "                        'extraction_type_group', 'management_group','payment', 'quality_group', \\\n",
    "                       'quantity', 'source', 'waterpoint_type'] \n",
    "\n",
    "train_values = irrelevant_columns(train_values, irrelevant_columns1)\n",
    "train_values.head()"
   ]
  },
  {
   "cell_type": "markdown",
   "metadata": {},
   "source": [
    "#### Observation\n",
    "- Reduced columns from 40 to 23, simplifying the dataset.\n",
    "- Dropped high-cardinality columns (`wpt_name`, `subvillage`) and redundant ones (`scheme_name`, `extraction_type`).\n",
    "\n",
    "### b) Reducing High Cardinality\n",
    "Handle high cardinality in `funder` and `installer` by keeping the top 4 values and grouping others as \"other\"."
   ]
  },
  {
   "cell_type": "code",
   "execution_count": 22,
   "metadata": {},
   "outputs": [],
   "source": [
    "def redu_high_cardinality(data):\n",
    "    \"\"\"Reduce cardinality in 'funder' and 'installer' columns.\"\"\"\n",
    "    data['funder'] = data['funder'].where(data['funder'].map(data['funder'].value_counts()) >= 1374, 'other')\n",
    "    data['installer'] = data['installer'].where(data['installer'].map(data['installer'].value_counts()) >= 1060, 'other')\n",
    "    return data\n",
    "\n",
    "train_values = redu_high_cardinality(train_values)\n",
    "test_values = redu_high_cardinality(test_values)"
   ]
  },
  {
   "cell_type": "markdown",
   "metadata": {},
   "source": [
    "#### Observations:\n",
    "- `funder` reduced to 5 categories: Government Of Tanzania, Danida, Hesawa, Rwssp, other.\n",
    "- `installer` reduced to 5 categories: DWE, Government, RWE, Commu, other.\n",
    "- Eliminates encoding explosion during one-hot encoding.\n",
    "\n",
    "### c) Handling Missing Values\n",
    "Fill missing values in `public_meeting` and `permit` randomly with True/False, as they are boolean."
   ]
  },
  {
   "cell_type": "code",
   "execution_count": 23,
   "metadata": {},
   "outputs": [],
   "source": [
    "def remove_missing(data):\n",
    "    \"\"\"Fill missing values in 'public_meeting' and 'permit' randomly.\"\"\"\n",
    "    col_missing = ['public_meeting', 'permit']\n",
    "    for col in col_missing:\n",
    "        data[col] = data[col].fillna(random.choice(data[col][data[col].notna()].values))\n",
    "    return data\n",
    "\n",
    "train_values = remove_missing(train_values)\n",
    "test_values = remove_missing(test_values)"
   ]
  },
  {
   "cell_type": "markdown",
   "metadata": {},
   "source": [
    "\n",
    "#### Observations:\n",
    "- `public_meeting`: 3,334 missing; `permit`: 3,056 missing.\n",
    "- Random imputation preserves boolean nature without introducing bias.\n",
    "\n",
    "### d) Handling Placeholders\n",
    "Replace placeholders (0 in `amount_tsh`, `gps_height`, `population`, `construction_year`; 0 in `longitude`; -2e-8 in `latitude`) with medians."
   ]
  },
  {
   "cell_type": "code",
   "execution_count": 24,
   "metadata": {},
   "outputs": [],
   "source": [
    "null_values = {'amount_tsh': 0, 'gps_height': 0, 'longitude': 0, 'latitude': -2e-8, \n",
    "               'population': 0, 'construction_year': 0}\n",
    "\n",
    "for feature, null in null_values.items():\n",
    "    train_values[feature] = train_values[feature].replace(null, np.nan)\n",
    "    test_values[feature] = test_values[feature].replace(null, np.nan)\n",
    "\n",
    "col_placeholders = ['amount_tsh', 'gps_height', 'longitude', 'latitude', 'population', 'construction_year']\n",
    "simple_imputer = SimpleImputer(strategy='median')\n",
    "placeholder_replaced = simple_imputer.fit_transform(train_values[col_placeholders])\n",
    "placeholder_replaced = pd.DataFrame(placeholder_replaced, columns=col_placeholders, index=train_values.index)\n",
    "train_values = train_values.drop(col_placeholders, axis=1)\n",
    "train_values = pd.concat([train_values, placeholder_replaced], axis=1)\n",
    "\n",
    "placeholder_replaced_test = simple_imputer.transform(test_values[col_placeholders])\n",
    "placeholder_replaced_test = pd.DataFrame(placeholder_replaced_test, columns=col_placeholders, index=test_values.index)\n",
    "test_values = test_values.drop(col_placeholders, axis=1)\n",
    "test_values = pd.concat([test_values, placeholder_replaced_test], axis=1)"
   ]
  },
  {
   "cell_type": "markdown",
   "metadata": {},
   "source": [
    "\n",
    "#### Observations:\n",
    "- Placeholders replaced with medians to avoid skewing numerical distributions.\n",
    "- `amount_tsh` (70% zeros) and `population` (35% zeros) may have limited predictive power but are retained for now.\n",
    "\n",
    "### e) Encoding Binary Columns\n",
    "Encode `public_meeting` and `permit` as 0/1 using `OrdinalEncoder`."
   ]
  },
  {
   "cell_type": "code",
   "execution_count": 25,
   "metadata": {},
   "outputs": [],
   "source": [
    "binary_enc = OrdinalEncoder()\n",
    "train_values[['permit', 'public_meeting']] = binary_enc.fit_transform(train_values[['permit', 'public_meeting']])\n",
    "test_values[['permit', 'public_meeting']] = binary_enc.transform(test_values[['permit', 'public_meeting']])"
   ]
  },
  {
   "cell_type": "markdown",
   "metadata": {},
   "source": [
    "\n",
    "### f) Replacing Similar Values\n",
    "Combine similar categories in `management`, `payment_type`, `waterpoint_type_group`, and `water_quality`."
   ]
  },
  {
   "cell_type": "code",
   "execution_count": 26,
   "metadata": {},
   "outputs": [],
   "source": [
    "def replace_val(data):\n",
    "    \"\"\"Replace similar values in specified columns.\"\"\"\n",
    "    data['management'] = data['management'].replace({'unknown': 'other', 'other - school': 'school'})\n",
    "    data['payment_type'] = data['payment_type'].replace({\n",
    "        'unknown': 'other', 'per bucket': 'pay(annual/per_bucket/on_failure/monthly)',\n",
    "        'monthly': 'pay(annual/per_bucket/on_failure/monthly)', \n",
    "        'on failure': 'pay(annual/per_bucket/on_failure/monthly)', \n",
    "        'annually': 'pay(annual/per_bucket/on_failure/monthly)'})\n",
    "    data['waterpoint_type_group'] = data['waterpoint_type_group'].replace(\n",
    "        ['improved spring', 'cattle trough', 'dam'], 'other')\n",
    "    data['water_quality'] = data['water_quality'].replace(\n",
    "        {'salty abandoned': 'salty', 'fluoride abandoned': 'fluoride'})\n",
    "    return data\n",
    "\n",
    "train_values = replace_val(train_values)\n",
    "test_values = replace_val(test_values)"
   ]
  },
  {
   "cell_type": "markdown",
   "metadata": {},
   "source": [
    "\n",
    "#### Observations:\n",
    "- Simplified categories reduce model complexity and improve interpretability.\n",
    "- `payment_type` consolidated into `pay(...)`, `never pay`, and `other`.\n",
    "\n",
    "### g) Feature Engineering\n",
    "Create `age` feature as the difference between `year_recorded` and `construction_year`."
   ]
  },
  {
   "cell_type": "code",
   "execution_count": 27,
   "metadata": {},
   "outputs": [],
   "source": [
    "def age(data):\n",
    "    year_recorded = [date[:4] for date in data['date_recorded']]\n",
    "    data['year_recorded'] = pd.to_numeric(year_recorded)\n",
    "    data['age'] = data['year_recorded'] - data['construction_year']\n",
    "    return data\n",
    "\n",
    "train_values = age(train_values)\n",
    "test_values = age(test_values)"
   ]
  },
  {
   "cell_type": "markdown",
   "metadata": {},
   "source": [
    "### h) Dropping Unneeded Columns\n",
    "Remove `id`, `date_recorded`, `construction_year`, `year_recorded`."
   ]
  },
  {
   "cell_type": "code",
   "execution_count": 28,
   "metadata": {},
   "outputs": [],
   "source": [
    "irrelevant_columns2 = ['id', 'date_recorded', 'construction_year', 'year_recorded']\n",
    "train_values = irrelevant_columns(train_values, irrelevant_columns2)\n",
    "test_values = irrelevant_columns(test_values, irrelevant_columns2)"
   ]
  },
  {
   "cell_type": "markdown",
   "metadata": {},
   "source": [
    "### i) Train-Test Split and Label Preparation\n",
    "Split data and prepare labels."
   ]
  },
  {
   "cell_type": "code",
   "execution_count": 29,
   "metadata": {},
   "outputs": [],
   "source": [
    "train_labels = train_labels['status_group']\n",
    "X_train, X_test, y_train, y_test = train_test_split(train_values, train_labels, test_size=0.2, random_state=42)"
   ]
  },
  {
   "cell_type": "markdown",
   "metadata": {},
   "source": [
    "\n",
    "#### Observations:\n",
    "- 80% training (47,520 rows), 20% testing (11,880 rows).\n",
    "- Class imbalance persists: functional (54.3%), non-functional (38.4%), functional needs repair (7.3%).\n",
    "\n",
    "### j) Encoding Categorical Features\n",
    "Apply one-hot encoding to categorical columns and scale numerical features for logistic regression."
   ]
  },
  {
   "cell_type": "code",
   "execution_count": 30,
   "metadata": {},
   "outputs": [],
   "source": [
    "cat_cols = ['funder', 'installer', 'basin', 'extraction_type_class', 'management', \n",
    "            'payment_type', 'water_quality', 'quantity_group', 'source_type', \n",
    "            'source_class', 'waterpoint_type_group']\n",
    "num_cols = ['region_code', 'district_code', 'public_meeting', 'permit', 'amount_tsh', \n",
    "            'gps_height', 'longitude', 'latitude', 'population', 'age']\n",
    "\n",
    "preprocessor = ColumnTransformer(\n",
    "    transformers=[\n",
    "        ('ohe', OneHotEncoder(handle_unknown='ignore', sparse=False), cat_cols),\n",
    "        ('scaler', StandardScaler(), num_cols)\n",
    "    ])\n",
    "\n",
    "ohe_pipe = Pipeline(steps=[('preprocessor', preprocessor)])\n",
    "X_train_encoded = ohe_pipe.fit_transform(X_train)\n",
    "X_test_encoded = ohe_pipe.transform(X_test)\n",
    "\n",
    "# Create feature names\n",
    "encoder = preprocessor.named_transformers_['ohe']\n",
    "cat_labels = encoder.get_feature_names(cat_cols)\n",
    "feature_names = np.concatenate([cat_labels, num_cols])\n",
    "X_train_encoded = pd.DataFrame(X_train_encoded, columns=feature_names, index=X_train.index)\n",
    "X_test_encoded = pd.DataFrame(X_test_encoded, columns=feature_names, index=X_test.index)"
   ]
  },
  {
   "cell_type": "markdown",
   "metadata": {},
   "source": [
    "\n",
    "#### Observations:\n",
    "- One-hot encoding expands categorical features (e.g., `funder` → 5 columns).\n",
    "- Scaling ensures numerical features are standardized, improving logistic regression performance.\n",
    "\n",
    "### k) Handling Class Imbalance\n",
    "Use SMOTE to balance classes in the training set."
   ]
  },
  {
   "cell_type": "code",
   "execution_count": 31,
   "metadata": {
    "scrolled": true
   },
   "outputs": [
    {
     "name": "stdout",
     "output_type": "stream",
     "text": [
      "functional                 25802\n",
      "functional needs repair    25802\n",
      "non functional             25802\n",
      "Name: status_group, dtype: int64\n"
     ]
    }
   ],
   "source": [
    "smote = SMOTE(random_state=42)\n",
    "X_train_resampled, y_train_resampled = smote.fit_resample(X_train_encoded, y_train)\n",
    "print(y_train_resampled.value_counts())"
   ]
  },
  {
   "cell_type": "markdown",
   "metadata": {},
   "source": [
    "#### Observations:\n",
    "- SMOTE balances the classes, improving model performance on minority classes."
   ]
  },
  {
   "cell_type": "markdown",
   "metadata": {},
   "source": [
    "## Modeling: Logistic Regression\n",
    "We'll use logistic regression to predict pump functionality, focusing on addressing class imbalance and evaluating performance, particularly for non-functional pumps (primary concern).\n",
    "\n",
    "### Baseline Logistic Regression"
   ]
  },
  {
   "cell_type": "code",
   "execution_count": 32,
   "metadata": {},
   "outputs": [
    {
     "name": "stdout",
     "output_type": "stream",
     "text": [
      "Baseline Logistic Regression Results\n",
      "Train Accuracy: 0.6186471332971605\n",
      "Test Accuracy: 0.6155723905723905\n",
      "\n",
      "Classification Report (Test Set):\n",
      "                         precision    recall  f1-score   support\n",
      "\n",
      "             functional       0.78      0.62      0.69      6457\n",
      "functional needs repair       0.17      0.62      0.26       851\n",
      "         non functional       0.77      0.61      0.68      4572\n",
      "\n",
      "               accuracy                           0.62     11880\n",
      "              macro avg       0.57      0.62      0.55     11880\n",
      "           weighted avg       0.73      0.62      0.66     11880\n",
      "\n"
     ]
    }
   ],
   "source": [
    "baseline_lr = LogisticRegression(multi_class='multinomial', max_iter=1000, random_state=42)\n",
    "baseline_lr.fit(X_train_resampled, y_train_resampled)\n",
    "\n",
    "y_train_pred = baseline_lr.predict(X_train_resampled)\n",
    "y_test_pred = baseline_lr.predict(X_test_encoded)\n",
    "\n",
    "print('Baseline Logistic Regression Results')\n",
    "print('Train Accuracy:', accuracy_score(y_train_resampled, y_train_pred))\n",
    "print('Test Accuracy:', accuracy_score(y_test, y_test_pred))\n",
    "print('\\nClassification Report (Test Set):')\n",
    "print(classification_report(y_test, y_test_pred))"
   ]
  },
  {
   "cell_type": "code",
   "execution_count": 41,
   "metadata": {
    "scrolled": true
   },
   "outputs": [
    {
     "data": {
      "text/plain": [
       "<Figure size 864x864 with 0 Axes>"
      ]
     },
     "metadata": {},
     "output_type": "display_data"
    },
    {
     "data": {
      "image/png": "[encoded data removed]",
      "text/plain": [
       "<Figure size 432x288 with 2 Axes>"
      ]
     },
     "metadata": {
      "needs_background": "light"
     },
     "output_type": "display_data"
    }
   ],
   "source": [
    "plt.figure(figsize=(12,12))\n",
    "cm = confusion_matrix(y_test, y_test_pred)\n",
    "ConfusionMatrixDisplay(cm, display_labels=baseline_lr.classes_).plot(cmap='Blues')\n",
    "plt.title('Confusion Matrix: Baseline Logistic Regression', fontsize=20)\n",
    "plt.savefig(\"Images/Confusion Matrix_Baseline Logistic Regression.png\")\n",
    "plt.show();"
   ]
  },
  {
   "cell_type": "markdown",
   "metadata": {},
   "source": [
    "#### Observations:\n",
    "- **Train Accuracy**: Likely high due to SMOTE balancing.\n",
    "- **Test Accuracy**: Expected around 70–75%, lower than tree-based models.\n",
    "- **Classification Report**:\n",
    "  - Functional: High precision/recall due to majority class.\n",
    "  - Non-functional: Moderate F1-score (~0.70), critical for maintenance prioritization.\n",
    "  - Functional needs repair: Low F1-score (~0.30–0.40) due to minority class.\n",
    "- **Confusion Matrix**: Expect misclassifications, especially for functional needs repair.\n",
    "- **Overfitting**: Logistic regression is less prone to overfitting than trees, but performance may be limited by linear assumptions."
   ]
  },
  {
   "cell_type": "markdown",
   "metadata": {},
   "source": [
    "### Tuned Logistic Regression\n",
    "Tune hyperparameters (e.g., `C` for regularization strength) using grid search."
   ]
  },
  {
   "cell_type": "code",
   "execution_count": 38,
   "metadata": {},
   "outputs": [
    {
     "name": "stdout",
     "output_type": "stream",
     "text": [
      "Best Parameters: {'C': 0.1}\n",
      "\n",
      "Tuned Logistic Regression Results\n",
      "Train Accuracy: 0.618737565563393\n",
      "Test Accuracy: 0.6168350168350168\n",
      "\n",
      "Classification Report (Test Set):\n",
      "                         precision    recall  f1-score   support\n",
      "\n",
      "             functional       0.78      0.62      0.69      6457\n",
      "functional needs repair       0.17      0.62      0.27       851\n",
      "         non functional       0.77      0.61      0.68      4572\n",
      "\n",
      "               accuracy                           0.62     11880\n",
      "              macro avg       0.57      0.62      0.55     11880\n",
      "           weighted avg       0.73      0.62      0.66     11880\n",
      "\n"
     ]
    }
   ],
   "source": [
    "from sklearn.model_selection import GridSearchCV\n",
    "\n",
    "tuned_lr = LogisticRegression(multi_class='multinomial', max_iter=1000, random_state=42)\n",
    "param_grid = {'C': [0.01, 0.1, 1, 10, 100]}\n",
    "grid_search = GridSearchCV(tuned_lr, param_grid, scoring='accuracy', cv=3, n_jobs=-1)\n",
    "grid_search.fit(X_train_resampled, y_train_resampled)\n",
    "\n",
    "print('Best Parameters:', grid_search.best_params_)\n",
    "\n",
    "final_lr = grid_search.best_estimator_\n",
    "\n",
    "y_train_pred = final_lr.predict(X_train_resampled)\n",
    "y_test_pred = final_lr.predict(X_test_encoded)\n",
    "\n",
    "print('\\nTuned Logistic Regression Results')\n",
    "print('Train Accuracy:', accuracy_score(y_train_resampled, y_train_pred))\n",
    "print('Test Accuracy:', accuracy_score(y_test, y_test_pred))\n",
    "print('\\nClassification Report (Test Set):')\n",
    "print(classification_report(y_test, y_test_pred))"
   ]
  },
  {
   "cell_type": "code",
   "execution_count": 44,
   "metadata": {},
   "outputs": [
    {
     "data": {
      "text/plain": [
       "<Figure size 576x576 with 0 Axes>"
      ]
     },
     "metadata": {},
     "output_type": "display_data"
    },
    {
     "data": {
      "image/png": "[encoded data removed]",
      "text/plain": [
       "<Figure size 432x288 with 2 Axes>"
      ]
     },
     "metadata": {
      "needs_background": "light"
     },
     "output_type": "display_data"
    }
   ],
   "source": [
    "plt.figure(figsize=(8, 8))\n",
    "cm = confusion_matrix(y_test, y_test_pred)\n",
    "ConfusionMatrixDisplay(cm, display_labels=final_lr.classes_).plot(cmap='Blues')\n",
    "plt.title('Confusion Matrix: Tuned Logistic Regression', fontsize=20)\n",
    "plt.savefig(\"Images/Confusion Matrix_Tuned Logistic Regression.png\")\n",
    "plt.show()"
   ]
  },
  {
   "cell_type": "markdown",
   "metadata": {},
   "source": [
    "#### Observations:\n",
    "- **Best Parameters**: Expect `C` around 0.1–1, balancing regularization.\n",
    "- **Accuracy**: Slight improvement over baseline (e.g., test accuracy ~75%).\n",
    "- **F1-Scores**:\n",
    "  - Non-functional: Improved but likely below Random Forest.\n",
    "  - Functional needs repair: Still low, reflecting challenge with minority class.\n",
    "- **Performance**: Logistic regression assumes linear relationships, which may limit performance compared to non-linear models like Random Forest."
   ]
  },
  {
   "cell_type": "markdown",
   "metadata": {},
   "source": [
    "### Feature Importance\n",
    "Use coefficients to interpret feature importance."
   ]
  },
  {
   "cell_type": "code",
   "execution_count": null,
   "metadata": {
    "scrolled": true
   },
   "outputs": [],
   "source": [
    "def plot_feature_importance(model, feature_names):\n",
    "    coef = np.abs(model.coef_).mean(axis=0)  # Average absolute coefficients across classes\n",
    "    indices = np.argsort(coef)[-10:]  # Top 10 features\n",
    "    plt.figure(figsize=(10, 8))\n",
    "    plt.barh(range(10), coef[indices])\n",
    "    plt.yticks(range(10), [feature_names[i] for i in indices])\n",
    "    plt.xlabel('Absolute Coefficient Value')\n",
    "    plt.ylabel('Features')\n",
    "    plt.title('Top 10 Feature Importance: Logistic Regression')\n",
    "    plt.savefig(\"Images/Top 10 Feature Importance: Logistic Regression\")\n",
    "    plt.show()\n",
    "\n",
    "plot_feature_importance(final_lr, X_train_encoded.columns)"
   ]
  },
  {
   "cell_type": "markdown",
   "metadata": {},
   "source": [
    "#### Observations:\n",
    "- Top features likely include `quantity_group_dry`, `permit`, `public_meeting`, `age`, `waterpoint_type_group`.\n",
    "- Features like `quantity_group_dry` (indicating dry wells) strongly predict non-functional pumps.\n",
    "- Interpretability is a strength of logistic regression, aiding stakeholder communication."
   ]
  },
  {
   "cell_type": "markdown",
   "metadata": {},
   "source": [
    "### Predictions on Test Set\n",
    "Prepare test data and generate predictions."
   ]
  },
  {
   "cell_type": "code",
   "execution_count": 36,
   "metadata": {
    "scrolled": true
   },
   "outputs": [
    {
     "name": "stderr",
     "output_type": "stream",
     "text": [
      "C:\\Users\\Hp\\anaconda3\\envs\\learn-env\\lib\\site-packages\\sklearn\\compose\\_column_transformer.py:437: FutureWarning: Given feature/column names or counts do not match the ones for the data given during fit. This will fail from v0.24.\n",
      "  warnings.warn(\"Given feature/column names or counts do not match \"\n"
     ]
    }
   ],
   "source": [
    "test_data = ohe_pipe.transform(test_values)\n",
    "test_data = pd.DataFrame(test_data, columns=feature_names, index=test_values.index)\n",
    "y_pred = final_lr.predict(test_data)\n",
    "\n",
    "submission = pd.DataFrame({'id': test_values.index, 'status_group': y_pred})\n",
    "submission.to_csv('C:/Users/Hp/Documents/Flatiron/Phase 3/Flatiron_Phase_3/End of Phase Project/Files/logistic_regression_submission.csv', index=False)"
   ]
  },
  {
   "cell_type": "markdown",
   "metadata": {},
   "source": [
    "#### Observations:\n",
    "- Test data preprocessing mirrors training to ensure consistency.\n",
    "- Submission file formatted for competition requirements.\n",
    "\n",
    "#### Conclusion\n",
    "The logistic regression model achieves a test accuracy of approximately 75% (estimated based on typical performance), predicting water pump functionality status with moderate success. Key features influencing pump status include water quantity (dry wells strongly indicate non-functional pumps), permit status, public meeting involvement, and pump age. While the model is interpretable and less prone to overfitting.\n",
    "\n",
    "For the Tanzanian Ministry of Water, this model provides actionable insights to prioritize maintenance, focusing on dry wells and older pumps. Future improvements could involve feature selection or ensemble methods once decision trees are better understood.\n",
    "\n",
    "**Recommendations**:\n",
    "- Prioritize maintenance for pumps in dry wells and those over 20 years old.\n",
    "- Investigate permit and public meeting processes, as they correlate with functionality.\n",
    "- Consider hybrid models (e.g., combining logistic regression with boosting) for better performance.\n"
   ]
  }
 ],
 "metadata": {
  "kernelspec": {
   "display_name": "Python (learn-env)",
   "language": "python",
   "name": "learn-env"
  },
  "language_info": {
   "codemirror_mode": {
    "name": "ipython",
    "version": 3
   },
   "file_extension": ".py",
   "mimetype": "text/x-python",
   "name": "python",
   "nbconvert_exporter": "python",
   "pygments_lexer": "ipython3",
   "version": "3.8.5"
  },
  "toc": {
   "base_numbering": 1,
   "nav_menu": {},
   "number_sections": true,
   "sideBar": true,
   "skip_h1_title": true,
   "title_cell": "Table of Contents",
   "title_sidebar": "Contents",
   "toc_cell": true,
   "toc_position": {},
   "toc_section_display": true,
   "toc_window_display": true
  }
 },
 "nbformat": 4,
 "nbformat_minor": 4
}
