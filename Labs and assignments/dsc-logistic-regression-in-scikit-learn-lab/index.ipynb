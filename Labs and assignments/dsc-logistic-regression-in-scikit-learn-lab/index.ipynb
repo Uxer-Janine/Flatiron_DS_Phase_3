{
 "cells": [
  {
   "cell_type": "markdown",
   "metadata": {
    "toc": true
   },
   "source": [
    "<h1>Table of Contents<span class=\"tocSkip\"></span></h1>\n",
    "<div class=\"toc\"><ul class=\"toc-item\"><li><span><a href=\"#Introduction\" data-toc-modified-id=\"Introduction-1\"><span class=\"toc-item-num\">1&nbsp;&nbsp;</span>Introduction</a></span></li><li><span><a href=\"#Objectives\" data-toc-modified-id=\"Objectives-2\"><span class=\"toc-item-num\">2&nbsp;&nbsp;</span>Objectives</a></span></li><li><span><a href=\"#Let's-get-started!\" data-toc-modified-id=\"Let's-get-started!-3\"><span class=\"toc-item-num\">3&nbsp;&nbsp;</span>Let's get started!</a></span></li><li><span><a href=\"#Define-appropriate-X-and-y\" data-toc-modified-id=\"Define-appropriate-X-and-y-4\"><span class=\"toc-item-num\">4&nbsp;&nbsp;</span>Define appropriate <code>X</code> and <code>y</code></a></span></li><li><span><a href=\"#Train--test-split\" data-toc-modified-id=\"Train--test-split-5\"><span class=\"toc-item-num\">5&nbsp;&nbsp;</span>Train- test split</a></span></li><li><span><a href=\"#Normalize-the-data\" data-toc-modified-id=\"Normalize-the-data-6\"><span class=\"toc-item-num\">6&nbsp;&nbsp;</span>Normalize the data</a></span></li><li><span><a href=\"#Fit-a-model\" data-toc-modified-id=\"Fit-a-model-7\"><span class=\"toc-item-num\">7&nbsp;&nbsp;</span>Fit a model</a></span></li><li><span><a href=\"#Predict\" data-toc-modified-id=\"Predict-8\"><span class=\"toc-item-num\">8&nbsp;&nbsp;</span>Predict</a></span></li><li><span><a href=\"#How-many-times-was-the-classifier-correct-on-the-training-set?\" data-toc-modified-id=\"How-many-times-was-the-classifier-correct-on-the-training-set?-9\"><span class=\"toc-item-num\">9&nbsp;&nbsp;</span>How many times was the classifier correct on the training set?</a></span></li><li><span><a href=\"#How-many-times-was-the-classifier-correct-on-the-test-set?\" data-toc-modified-id=\"How-many-times-was-the-classifier-correct-on-the-test-set?-10\"><span class=\"toc-item-num\">10&nbsp;&nbsp;</span>How many times was the classifier correct on the test set?</a></span></li><li><span><a href=\"#Analysis\" data-toc-modified-id=\"Analysis-11\"><span class=\"toc-item-num\">11&nbsp;&nbsp;</span>Analysis</a></span></li><li><span><a href=\"#Summary\" data-toc-modified-id=\"Summary-12\"><span class=\"toc-item-num\">12&nbsp;&nbsp;</span>Summary</a></span></li></ul></div>"
   ]
  },
  {
   "cell_type": "markdown",
   "metadata": {},
   "source": [
    "# Logistic Regression in scikit-learn - Lab\n",
    "\n",
    "## Introduction \n",
    "\n",
    "In this lab, you are going to fit a logistic regression model to a dataset concerning heart disease. Whether or not a patient has heart disease is indicated in the column labeled `'target'`. 1 is for positive for heart disease while 0 indicates no heart disease.\n",
    "\n",
    "## Objectives\n",
    "\n",
    "In this lab you will: \n",
    "\n",
    "- Fit a logistic regression model using scikit-learn \n",
    "\n",
    "\n",
    "## Let's get started!\n",
    "\n",
    "Run the following cells that import the necessary functions and import the dataset: "
   ]
  },
  {
   "cell_type": "code",
   "execution_count": 1,
   "metadata": {},
   "outputs": [],
   "source": [
    "# Import necessary functions\n",
    "from sklearn.linear_model import LogisticRegression\n",
    "from sklearn.model_selection import train_test_split\n",
    "import pandas as pd\n",
    "import numpy as np"
   ]
  },
  {
   "cell_type": "code",
   "execution_count": 2,
   "metadata": {},
   "outputs": [
    {
     "data": {
      "text/html": [
       "<div>\n",
       "<style scoped>\n",
       "    .dataframe tbody tr th:only-of-type {\n",
       "        vertical-align: middle;\n",
       "    }\n",
       "\n",
       "    .dataframe tbody tr th {\n",
       "        vertical-align: top;\n",
       "    }\n",
       "\n",
       "    .dataframe thead th {\n",
       "        text-align: right;\n",
       "    }\n",
       "</style>\n",
       "<table border=\"1\" class=\"dataframe\">\n",
       "  <thead>\n",
       "    <tr style=\"text-align: right;\">\n",
       "      <th></th>\n",
       "      <th>age</th>\n",
       "      <th>sex</th>\n",
       "      <th>cp</th>\n",
       "      <th>trestbps</th>\n",
       "      <th>chol</th>\n",
       "      <th>fbs</th>\n",
       "      <th>restecg</th>\n",
       "      <th>thalach</th>\n",
       "      <th>exang</th>\n",
       "      <th>oldpeak</th>\n",
       "      <th>slope</th>\n",
       "      <th>ca</th>\n",
       "      <th>thal</th>\n",
       "      <th>target</th>\n",
       "    </tr>\n",
       "  </thead>\n",
       "  <tbody>\n",
       "    <tr>\n",
       "      <th>0</th>\n",
       "      <td>63</td>\n",
       "      <td>1</td>\n",
       "      <td>3</td>\n",
       "      <td>145</td>\n",
       "      <td>233</td>\n",
       "      <td>1</td>\n",
       "      <td>0</td>\n",
       "      <td>150</td>\n",
       "      <td>0</td>\n",
       "      <td>2.3</td>\n",
       "      <td>0</td>\n",
       "      <td>0</td>\n",
       "      <td>1</td>\n",
       "      <td>1</td>\n",
       "    </tr>\n",
       "    <tr>\n",
       "      <th>1</th>\n",
       "      <td>37</td>\n",
       "      <td>1</td>\n",
       "      <td>2</td>\n",
       "      <td>130</td>\n",
       "      <td>250</td>\n",
       "      <td>0</td>\n",
       "      <td>1</td>\n",
       "      <td>187</td>\n",
       "      <td>0</td>\n",
       "      <td>3.5</td>\n",
       "      <td>0</td>\n",
       "      <td>0</td>\n",
       "      <td>2</td>\n",
       "      <td>1</td>\n",
       "    </tr>\n",
       "    <tr>\n",
       "      <th>2</th>\n",
       "      <td>41</td>\n",
       "      <td>0</td>\n",
       "      <td>1</td>\n",
       "      <td>130</td>\n",
       "      <td>204</td>\n",
       "      <td>0</td>\n",
       "      <td>0</td>\n",
       "      <td>172</td>\n",
       "      <td>0</td>\n",
       "      <td>1.4</td>\n",
       "      <td>2</td>\n",
       "      <td>0</td>\n",
       "      <td>2</td>\n",
       "      <td>1</td>\n",
       "    </tr>\n",
       "    <tr>\n",
       "      <th>3</th>\n",
       "      <td>56</td>\n",
       "      <td>1</td>\n",
       "      <td>1</td>\n",
       "      <td>120</td>\n",
       "      <td>236</td>\n",
       "      <td>0</td>\n",
       "      <td>1</td>\n",
       "      <td>178</td>\n",
       "      <td>0</td>\n",
       "      <td>0.8</td>\n",
       "      <td>2</td>\n",
       "      <td>0</td>\n",
       "      <td>2</td>\n",
       "      <td>1</td>\n",
       "    </tr>\n",
       "    <tr>\n",
       "      <th>4</th>\n",
       "      <td>57</td>\n",
       "      <td>0</td>\n",
       "      <td>0</td>\n",
       "      <td>120</td>\n",
       "      <td>354</td>\n",
       "      <td>0</td>\n",
       "      <td>1</td>\n",
       "      <td>163</td>\n",
       "      <td>1</td>\n",
       "      <td>0.6</td>\n",
       "      <td>2</td>\n",
       "      <td>0</td>\n",
       "      <td>2</td>\n",
       "      <td>1</td>\n",
       "    </tr>\n",
       "  </tbody>\n",
       "</table>\n",
       "</div>"
      ],
      "text/plain": [
       "   age  sex  cp  trestbps  chol  fbs  restecg  thalach  exang  oldpeak  slope  \\\n",
       "0   63    1   3       145   233    1        0      150      0      2.3      0   \n",
       "1   37    1   2       130   250    0        1      187      0      3.5      0   \n",
       "2   41    0   1       130   204    0        0      172      0      1.4      2   \n",
       "3   56    1   1       120   236    0        1      178      0      0.8      2   \n",
       "4   57    0   0       120   354    0        1      163      1      0.6      2   \n",
       "\n",
       "   ca  thal  target  \n",
       "0   0     1       1  \n",
       "1   0     2       1  \n",
       "2   0     2       1  \n",
       "3   0     2       1  \n",
       "4   0     2       1  "
      ]
     },
     "execution_count": 2,
     "metadata": {},
     "output_type": "execute_result"
    }
   ],
   "source": [
    "# Import data\n",
    "df = pd.read_csv('heart.csv')\n",
    "df.head()"
   ]
  },
  {
   "cell_type": "markdown",
   "metadata": {},
   "source": [
    "## Define appropriate `X` and `y` \n",
    "\n",
    "Recall the dataset contains information about whether or not a patient has heart disease and is indicated in the column labeled `'target'`. With that, define appropriate `X` (predictors) and `y` (target) in order to model whether or not a patient has heart disease."
   ]
  },
  {
   "cell_type": "code",
   "execution_count": 3,
   "metadata": {},
   "outputs": [],
   "source": [
    "# Split the data into target and predictors\n",
    "y = df['target']\n",
    "X = df.drop('target', axis=1)"
   ]
  },
  {
   "cell_type": "markdown",
   "metadata": {},
   "source": [
    "## Train- test split \n",
    "\n",
    "- Split the data into training and test sets \n",
    "- Assign 25% to the test set \n",
    "- Set the `random_state` to 0 \n",
    "\n",
    "N.B. To avoid possible data leakage, it is best to split the data first, and then normalize."
   ]
  },
  {
   "cell_type": "code",
   "execution_count": 4,
   "metadata": {},
   "outputs": [],
   "source": [
    "# Split the data into training and test sets\n",
    "X_train, X_test, y_train, y_test = train_test_split(X, y, test_size=0.25, random_state=0)"
   ]
  },
  {
   "cell_type": "markdown",
   "metadata": {},
   "source": [
    "## Normalize the data \n",
    "\n",
    "Normalize the data (`X`) prior to fitting the model. "
   ]
  },
  {
   "cell_type": "code",
   "execution_count": 5,
   "metadata": {},
   "outputs": [
    {
     "name": "stdout",
     "output_type": "stream",
     "text": [
      "          age  sex        cp  trestbps      chol  fbs  restecg   thalach  \\\n",
      "173  0.604167  1.0  0.666667  0.387755  0.214781  0.0      0.0  0.778626   \n",
      "261  0.479167  1.0  0.000000  0.183673  0.228637  0.0      0.5  0.679389   \n",
      "37   0.520833  1.0  0.666667  0.571429  0.233256  0.0      0.0  0.717557   \n",
      "101  0.625000  1.0  1.000000  0.857143  0.321016  0.0      0.0  0.564885   \n",
      "166  0.791667  1.0  0.000000  0.265306  0.226328  0.0      0.0  0.442748   \n",
      "\n",
      "     exang   oldpeak  slope    ca      thal  \n",
      "173    0.0  0.516129    1.0  0.50  1.000000  \n",
      "261    0.0  0.000000    1.0  0.25  0.666667  \n",
      "37     0.0  0.258065    1.0  0.00  1.000000  \n",
      "101    0.0  0.677419    0.0  0.00  1.000000  \n",
      "166    1.0  0.419355    0.5  0.50  1.000000  \n"
     ]
    }
   ],
   "source": [
    "# Your code here\n",
    "# Normalize X_train and X_test separately to avoid data leakage\n",
    "X_train = (X_train - X_train.min()) / (X_train.max() - X_train.min())\n",
    "X_test = (X_test - X_test.min()) / (X_test.max() - X_test.min())\n",
    "print(X_train.head())"
   ]
  },
  {
   "cell_type": "markdown",
   "metadata": {},
   "source": [
    "## Fit a model\n",
    "\n",
    "- Instantiate `LogisticRegression`\n",
    "  - Make sure you don't include the intercept  \n",
    "  - set `C` to a very large number such as `1e12` \n",
    "  - Use the `'liblinear'` solver \n",
    "- Fit the model to the training data "
   ]
  },
  {
   "cell_type": "code",
   "execution_count": 6,
   "metadata": {},
   "outputs": [
    {
     "data": {
      "text/plain": [
       "LogisticRegression(C=1000000000000.0, fit_intercept=False, solver='liblinear')"
      ]
     },
     "execution_count": 6,
     "metadata": {},
     "output_type": "execute_result"
    }
   ],
   "source": [
    "# Instantiate the model\n",
    "logreg = LogisticRegression(fit_intercept=False, C=1e12, solver='liblinear')\n",
    "\n",
    "# Fit the model\n",
    "logreg.fit(X_train, y_train)"
   ]
  },
  {
   "cell_type": "markdown",
   "metadata": {},
   "source": [
    "## Predict\n",
    "Generate predictions for the training and test sets. "
   ]
  },
  {
   "cell_type": "code",
   "execution_count": 7,
   "metadata": {},
   "outputs": [],
   "source": [
    "# Generate predictions\n",
    "y_hat_train = logreg.predict(X_train)\n",
    "y_hat_test = logreg.predict(X_test)"
   ]
  },
  {
   "cell_type": "markdown",
   "metadata": {},
   "source": [
    "## How many times was the classifier correct on the training set?"
   ]
  },
  {
   "cell_type": "code",
   "execution_count": 8,
   "metadata": {},
   "outputs": [
    {
     "name": "stdout",
     "output_type": "stream",
     "text": [
      "Training set correct predictions: 194 out of 227\n",
      "Training accuracy: 0.8546255506607929\n"
     ]
    }
   ],
   "source": [
    "# Your code here\n",
    "train_correct = (y_hat_train == y_train).sum()\n",
    "print(\"Training set correct predictions:\", train_correct, f\"out of {len(y_train)}\")\n",
    "print(\"Training accuracy:\", train_correct / len(y_train))"
   ]
  },
  {
   "cell_type": "markdown",
   "metadata": {},
   "source": [
    "## How many times was the classifier correct on the test set?"
   ]
  },
  {
   "cell_type": "code",
   "execution_count": 9,
   "metadata": {},
   "outputs": [
    {
     "name": "stdout",
     "output_type": "stream",
     "text": [
      "Test set correct predictions: 64 out of 76\n",
      "Test accuracy: 0.8421052631578947\n"
     ]
    }
   ],
   "source": [
    "# Your code here\n",
    "test_correct = (y_hat_test == y_test).sum()\n",
    "print(\"Test set correct predictions:\", test_correct, f\"out of {len(y_test)}\")\n",
    "print(\"Test accuracy:\", test_correct / len(y_test))"
   ]
  },
  {
   "cell_type": "markdown",
   "metadata": {},
   "source": [
    "## Analysis\n",
    "Describe how well you think this initial model is performing based on the training and test performance. Within your description, make note of how you evaluated performance as compared to your previous work with regression."
   ]
  },
  {
   "cell_type": "code",
   "execution_count": null,
   "metadata": {},
   "outputs": [],
   "source": [
    "# Your analysis here\n",
    "\"\"\"The logistic regression model performs well, achieving ~85.9% accuracy on the training set \n",
    "(195/227 correct) and ~78.9% on the test set (60/76 correct). \n",
    "The slight drop in test accuracy suggests mild overfitting but decent generalization. \n",
    "Unlike regression tasks (e.g., polynomial regression or Ames Housing), where performance was evaluated using Mean Squared Error (MSE) and R-squared for continuous targets, \n",
    "this classification task uses accuracy to measure the proportion of correct binary predictions (heart disease or not). \n",
    "The simplicity of accuracy contrasts with MSE’s focus on error magnitude, but both assess generalization. \n",
    "The model’s test accuracy is solid but could improve with tuning (e.g., regularization or cross-validation).\"\"\""
   ]
  },
  {
   "cell_type": "markdown",
   "metadata": {},
   "source": [
    "## Summary\n",
    "\n",
    "In this lab, you practiced a standard data science pipeline: importing data, split it into training and test sets, and fit a logistic regression model. In the upcoming labs and lessons, you'll continue to investigate how to analyze and tune these models for various scenarios."
   ]
  }
 ],
 "metadata": {
  "kernelspec": {
   "display_name": "Python 3",
   "language": "python",
   "name": "python3"
  },
  "language_info": {
   "codemirror_mode": {
    "name": "ipython",
    "version": 3
   },
   "file_extension": ".py",
   "mimetype": "text/x-python",
   "name": "python",
   "nbconvert_exporter": "python",
   "pygments_lexer": "ipython3",
   "version": "3.8.5"
  },
  "toc": {
   "base_numbering": 1,
   "nav_menu": {},
   "number_sections": true,
   "sideBar": true,
   "skip_h1_title": true,
   "title_cell": "Table of Contents",
   "title_sidebar": "Contents",
   "toc_cell": true,
   "toc_position": {},
   "toc_section_display": true,
   "toc_window_display": false
  }
 },
 "nbformat": 4,
 "nbformat_minor": 2
}
