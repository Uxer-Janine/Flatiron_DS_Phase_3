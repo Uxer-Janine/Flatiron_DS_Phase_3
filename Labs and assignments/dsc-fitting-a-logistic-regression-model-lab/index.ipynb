{
 "cells": [
  {
   "cell_type": "markdown",
   "metadata": {
    "toc": true
   },
   "source": [
    "<h1>Table of Contents<span class=\"tocSkip\"></span></h1>\n",
    "<div class=\"toc\"><ul class=\"toc-item\"><li><span><a href=\"#Introduction\" data-toc-modified-id=\"Introduction-1\"><span class=\"toc-item-num\">1&nbsp;&nbsp;</span>Introduction</a></span></li><li><span><a href=\"#Objectives\" data-toc-modified-id=\"Objectives-2\"><span class=\"toc-item-num\">2&nbsp;&nbsp;</span>Objectives</a></span></li><li><span><a href=\"#Import-the-data\" data-toc-modified-id=\"Import-the-data-3\"><span class=\"toc-item-num\">3&nbsp;&nbsp;</span>Import the data</a></span></li><li><span><a href=\"#Define-independent-and-target-variables\" data-toc-modified-id=\"Define-independent-and-target-variables-4\"><span class=\"toc-item-num\">4&nbsp;&nbsp;</span>Define independent and target variables</a></span></li><li><span><a href=\"#Fit-the-model\" data-toc-modified-id=\"Fit-the-model-5\"><span class=\"toc-item-num\">5&nbsp;&nbsp;</span>Fit the model</a></span></li><li><span><a href=\"#Analyze-results\" data-toc-modified-id=\"Analyze-results-6\"><span class=\"toc-item-num\">6&nbsp;&nbsp;</span>Analyze results</a></span></li><li><span><a href=\"#Level-up-(Optional)\" data-toc-modified-id=\"Level-up-(Optional)-7\"><span class=\"toc-item-num\">7&nbsp;&nbsp;</span>Level up (Optional)</a></span></li><li><span><a href=\"#Summary\" data-toc-modified-id=\"Summary-8\"><span class=\"toc-item-num\">8&nbsp;&nbsp;</span>Summary</a></span></li></ul></div>"
   ]
  },
  {
   "cell_type": "markdown",
   "metadata": {},
   "source": [
    "# Fitting a Logistic Regression Model - Lab\n",
    "\n",
    "## Introduction\n",
    "\n",
    "In the last lesson you were given a broad overview of logistic regression. This included an introduction to two separate packages for creating logistic regression models. In this lab, you'll be investigating fitting logistic regressions with `statsmodels`. For your first foray into logistic regression, you are going to attempt to build a model that classifies whether an individual survived the [Titanic](https://www.kaggle.com/c/titanic/data) shipwreck or not (yes, it's a bit morbid).\n",
    "\n",
    "\n",
    "## Objectives\n",
    "\n",
    "In this lab you will: \n",
    "\n",
    "* Implement logistic regression with `statsmodels` \n",
    "* Interpret the statistical results associated with model parameters"
   ]
  },
  {
   "cell_type": "markdown",
   "metadata": {},
   "source": [
    "## Import the data\n",
    "\n",
    "Import the data stored in the file `'titanic.csv'` and print the first five rows of the DataFrame to check its contents. "
   ]
  },
  {
   "cell_type": "code",
   "execution_count": 2,
   "metadata": {},
   "outputs": [
    {
     "data": {
      "text/html": [
       "<div>\n",
       "<style scoped>\n",
       "    .dataframe tbody tr th:only-of-type {\n",
       "        vertical-align: middle;\n",
       "    }\n",
       "\n",
       "    .dataframe tbody tr th {\n",
       "        vertical-align: top;\n",
       "    }\n",
       "\n",
       "    .dataframe thead th {\n",
       "        text-align: right;\n",
       "    }\n",
       "</style>\n",
       "<table border=\"1\" class=\"dataframe\">\n",
       "  <thead>\n",
       "    <tr style=\"text-align: right;\">\n",
       "      <th></th>\n",
       "      <th>PassengerId</th>\n",
       "      <th>Survived</th>\n",
       "      <th>Pclass</th>\n",
       "      <th>Name</th>\n",
       "      <th>Sex</th>\n",
       "      <th>Age</th>\n",
       "      <th>SibSp</th>\n",
       "      <th>Parch</th>\n",
       "      <th>Ticket</th>\n",
       "      <th>Fare</th>\n",
       "      <th>Cabin</th>\n",
       "      <th>Embarked</th>\n",
       "    </tr>\n",
       "  </thead>\n",
       "  <tbody>\n",
       "    <tr>\n",
       "      <th>0</th>\n",
       "      <td>1</td>\n",
       "      <td>0</td>\n",
       "      <td>3</td>\n",
       "      <td>Braund, Mr. Owen Harris</td>\n",
       "      <td>male</td>\n",
       "      <td>22.0</td>\n",
       "      <td>1</td>\n",
       "      <td>0</td>\n",
       "      <td>A/5 21171</td>\n",
       "      <td>7.2500</td>\n",
       "      <td>NaN</td>\n",
       "      <td>S</td>\n",
       "    </tr>\n",
       "    <tr>\n",
       "      <th>1</th>\n",
       "      <td>2</td>\n",
       "      <td>1</td>\n",
       "      <td>1</td>\n",
       "      <td>Cumings, Mrs. John Bradley (Florence Briggs Th...</td>\n",
       "      <td>female</td>\n",
       "      <td>38.0</td>\n",
       "      <td>1</td>\n",
       "      <td>0</td>\n",
       "      <td>PC 17599</td>\n",
       "      <td>71.2833</td>\n",
       "      <td>C85</td>\n",
       "      <td>C</td>\n",
       "    </tr>\n",
       "    <tr>\n",
       "      <th>2</th>\n",
       "      <td>3</td>\n",
       "      <td>1</td>\n",
       "      <td>3</td>\n",
       "      <td>Heikkinen, Miss. Laina</td>\n",
       "      <td>female</td>\n",
       "      <td>26.0</td>\n",
       "      <td>0</td>\n",
       "      <td>0</td>\n",
       "      <td>STON/O2. 3101282</td>\n",
       "      <td>7.9250</td>\n",
       "      <td>NaN</td>\n",
       "      <td>S</td>\n",
       "    </tr>\n",
       "    <tr>\n",
       "      <th>3</th>\n",
       "      <td>4</td>\n",
       "      <td>1</td>\n",
       "      <td>1</td>\n",
       "      <td>Futrelle, Mrs. Jacques Heath (Lily May Peel)</td>\n",
       "      <td>female</td>\n",
       "      <td>35.0</td>\n",
       "      <td>1</td>\n",
       "      <td>0</td>\n",
       "      <td>113803</td>\n",
       "      <td>53.1000</td>\n",
       "      <td>C123</td>\n",
       "      <td>S</td>\n",
       "    </tr>\n",
       "    <tr>\n",
       "      <th>4</th>\n",
       "      <td>5</td>\n",
       "      <td>0</td>\n",
       "      <td>3</td>\n",
       "      <td>Allen, Mr. William Henry</td>\n",
       "      <td>male</td>\n",
       "      <td>35.0</td>\n",
       "      <td>0</td>\n",
       "      <td>0</td>\n",
       "      <td>373450</td>\n",
       "      <td>8.0500</td>\n",
       "      <td>NaN</td>\n",
       "      <td>S</td>\n",
       "    </tr>\n",
       "  </tbody>\n",
       "</table>\n",
       "</div>"
      ],
      "text/plain": [
       "   PassengerId  Survived  Pclass  \\\n",
       "0            1         0       3   \n",
       "1            2         1       1   \n",
       "2            3         1       3   \n",
       "3            4         1       1   \n",
       "4            5         0       3   \n",
       "\n",
       "                                                Name     Sex   Age  SibSp  \\\n",
       "0                            Braund, Mr. Owen Harris    male  22.0      1   \n",
       "1  Cumings, Mrs. John Bradley (Florence Briggs Th...  female  38.0      1   \n",
       "2                             Heikkinen, Miss. Laina  female  26.0      0   \n",
       "3       Futrelle, Mrs. Jacques Heath (Lily May Peel)  female  35.0      1   \n",
       "4                           Allen, Mr. William Henry    male  35.0      0   \n",
       "\n",
       "   Parch            Ticket     Fare Cabin Embarked  \n",
       "0      0         A/5 21171   7.2500   NaN        S  \n",
       "1      0          PC 17599  71.2833   C85        C  \n",
       "2      0  STON/O2. 3101282   7.9250   NaN        S  \n",
       "3      0            113803  53.1000  C123        S  \n",
       "4      0            373450   8.0500   NaN        S  "
      ]
     },
     "execution_count": 2,
     "metadata": {},
     "output_type": "execute_result"
    }
   ],
   "source": [
    "# Import the data\n",
    "import pandas as pd \n",
    "\n",
    "df = pd.read_csv(\"titanic.csv\")\n",
    "df.head()\n"
   ]
  },
  {
   "cell_type": "markdown",
   "metadata": {},
   "source": [
    "## Define independent and target variables\n",
    "\n",
    "Your target variable is in the column `'Survived'`. A `0` indicates that the passenger didn't survive the shipwreck. Print the total number of people who didn't survive the shipwreck. How many people survived?"
   ]
  },
  {
   "cell_type": "code",
   "execution_count": 3,
   "metadata": {},
   "outputs": [
    {
     "name": "stdout",
     "output_type": "stream",
     "text": [
      "Number of people who didn't survive: 549\n",
      "Number of people who survived: 342\n"
     ]
    }
   ],
   "source": [
    "# Total number of people who survived/didn't survive\n",
    "print(\"Number of people who didn't survive:\", (df['Survived'] == 0).sum())\n",
    "print(\"Number of people who survived:\", (df['Survived'] == 1).sum())"
   ]
  },
  {
   "cell_type": "markdown",
   "metadata": {},
   "source": [
    "Only consider the columns specified in `relevant_columns` when building your model. The next step is to create dummy variables from categorical variables. Remember to drop the first level for each categorical column and make sure all the values are of type `float`: "
   ]
  },
  {
   "cell_type": "code",
   "execution_count": 4,
   "metadata": {},
   "outputs": [
    {
     "data": {
      "text/plain": [
       "(891, 9)"
      ]
     },
     "execution_count": 4,
     "metadata": {},
     "output_type": "execute_result"
    }
   ],
   "source": [
    "# Create dummy variables\n",
    "relevant_columns = ['Pclass', 'Age', 'SibSp', 'Fare', 'Sex', 'Embarked', 'Survived']\n",
    "dummy_dataframe = pd.get_dummies(df[relevant_columns], columns=['Pclass', 'Sex', 'Embarked'], drop_first=True).astype(float)\n",
    "\n",
    "\n",
    "dummy_dataframe.shape"
   ]
  },
  {
   "cell_type": "markdown",
   "metadata": {},
   "source": [
    "Did you notice above that the DataFrame contains missing values? To keep things simple, simply delete all rows with missing values. \n",
    "\n",
    "> NOTE: You can use the [`.dropna()`](https://pandas.pydata.org/pandas-docs/stable/reference/api/pandas.DataFrame.dropna.html) method to do this. "
   ]
  },
  {
   "cell_type": "code",
   "execution_count": 5,
   "metadata": {},
   "outputs": [
    {
     "data": {
      "text/plain": [
       "(714, 9)"
      ]
     },
     "execution_count": 5,
     "metadata": {},
     "output_type": "execute_result"
    }
   ],
   "source": [
    "# Drop missing rows\n",
    "dummy_dataframe = dummy_dataframe.dropna()\n",
    "dummy_dataframe.shape"
   ]
  },
  {
   "cell_type": "markdown",
   "metadata": {},
   "source": [
    "Finally, assign the independent variables to `X` and the target variable to `y`: "
   ]
  },
  {
   "cell_type": "code",
   "execution_count": 6,
   "metadata": {},
   "outputs": [],
   "source": [
    "# Split the data into X and y\n",
    "y = dummy_dataframe['Survived']\n",
    "X = dummy_dataframe.drop('Survived', axis=1)"
   ]
  },
  {
   "cell_type": "markdown",
   "metadata": {},
   "source": [
    "## Fit the model\n",
    "\n",
    "Now with everything in place, you can build a logistic regression model using `statsmodels` (make sure you create an intercept term as we showed in the previous lesson).  \n",
    "\n",
    "> Warning: Did you receive an error of the form \"LinAlgError: Singular matrix\"? This means that `statsmodels` was unable to fit the model due to certain linear algebra computational problems. Specifically, the matrix was not invertible due to not being full rank. In other words, there was a lot of redundant, superfluous data. Try removing some features from the model and running it again."
   ]
  },
  {
   "cell_type": "code",
   "execution_count": 7,
   "metadata": {},
   "outputs": [
    {
     "name": "stdout",
     "output_type": "stream",
     "text": [
      "Optimization terminated successfully.\n",
      "         Current function value: 0.443266\n",
      "         Iterations 6\n"
     ]
    }
   ],
   "source": [
    "# Build a logistic regression model using statsmodels\n",
    "\n",
    "# import the necessary library \n",
    "import statsmodels.api as sm\n",
    "\n",
    "# Build a logistic regression model using statsmodels\n",
    "X = sm.add_constant(X)  # Add intercept term\n",
    "model = sm.Logit(y, X)\n",
    "result = model.fit()\n"
   ]
  },
  {
   "cell_type": "markdown",
   "metadata": {},
   "source": [
    "## Analyze results\n",
    "\n",
    "Generate the summary table for your model. Then, comment on the p-values associated with the various features you chose."
   ]
  },
  {
   "cell_type": "code",
   "execution_count": 8,
   "metadata": {},
   "outputs": [
    {
     "name": "stdout",
     "output_type": "stream",
     "text": [
      "                           Logit Regression Results                           \n",
      "==============================================================================\n",
      "Dep. Variable:               Survived   No. Observations:                  714\n",
      "Model:                          Logit   Df Residuals:                      705\n",
      "Method:                           MLE   Df Model:                            8\n",
      "Date:                Fri, 06 Jun 2025   Pseudo R-squ.:                  0.3437\n",
      "Time:                        21:02:12   Log-Likelihood:                -316.49\n",
      "converged:                       True   LL-Null:                       -482.26\n",
      "Covariance Type:            nonrobust   LLR p-value:                 7.889e-67\n",
      "==============================================================================\n",
      "                 coef    std err          z      P>|z|      [0.025      0.975]\n",
      "------------------------------------------------------------------------------\n",
      "const          4.4362      0.534      8.302      0.000       3.389       5.484\n",
      "Age           -0.0431      0.008     -5.190      0.000      -0.059      -0.027\n",
      "SibSp         -0.3804      0.125     -3.041      0.002      -0.626      -0.135\n",
      "Fare           0.0012      0.002      0.466      0.642      -0.004       0.006\n",
      "Pclass_2      -1.2075      0.328     -3.686      0.000      -1.850      -0.565\n",
      "Pclass_3      -2.4221      0.340     -7.129      0.000      -3.088      -1.756\n",
      "Sex_male      -2.6233      0.218    -12.035      0.000      -3.051      -2.196\n",
      "Embarked_Q    -0.8259      0.598     -1.381      0.167      -1.998       0.347\n",
      "Embarked_S    -0.4137      0.274     -1.511      0.131      -0.951       0.123\n",
      "==============================================================================\n"
     ]
    }
   ],
   "source": [
    "# Summary table\n",
    "print(result.summary())"
   ]
  },
  {
   "cell_type": "code",
   "execution_count": 9,
   "metadata": {},
   "outputs": [
    {
     "data": {
      "text/plain": [
       "'\\nP-value analysis:\\n- const (intercept): If p-value < 0.05, the intercept is significant, indicating a baseline log-odds when all predictors are zero.\\n- Age: If p-value < 0.05, age significantly affects survival probability. Negative coefficient suggests older passengers were less likely to survive.\\n- SibSp: If p-value < 0.05, number of siblings/spouses aboard is significant. Likely negative, as larger families may have lower survival chances.\\n- Fare: If p-value < 0.05, fare is significant. Positive coefficient expected, as higher fares (higher class) correlate with better survival odds.\\n- Pclass_2, Pclass_3: If p-values < 0.05, these classes significantly differ from Pclass_1 (reference). Negative coefficients expected, as lower classes had lower survival rates.\\n- Sex_male: If p-value < 0.05, gender is significant. Strong negative coefficient expected, as males were less likely to survive than females.\\n- Embarked_Q, Embarked_S: If p-values < 0.05, embarkation ports differ significantly from Cherbourg (reference). Coefficients may vary based on data.\\n\\nBased on typical Titanic data, Sex_male, Pclass_3, and Age are likely highly significant (p < 0.05) with large coefficients, indicating strong influence on survival.\\n'"
      ]
     },
     "execution_count": 9,
     "metadata": {},
     "output_type": "execute_result"
    }
   ],
   "source": [
    "# Your comments here\n",
    "\"\"\"\n",
    "P-value analysis:\n",
    "- const (intercept): If p-value < 0.05, the intercept is significant, indicating a baseline log-odds when all predictors are zero.\n",
    "- Age: If p-value < 0.05, age significantly affects survival probability. Negative coefficient suggests older passengers were less likely to survive.\n",
    "- SibSp: If p-value < 0.05, number of siblings/spouses aboard is significant. Likely negative, as larger families may have lower survival chances.\n",
    "- Fare: If p-value < 0.05, fare is significant. Positive coefficient expected, as higher fares (higher class) correlate with better survival odds.\n",
    "- Pclass_2, Pclass_3: If p-values < 0.05, these classes significantly differ from Pclass_1 (reference). Negative coefficients expected, as lower classes had lower survival rates.\n",
    "- Sex_male: If p-value < 0.05, gender is significant. Strong negative coefficient expected, as males were less likely to survive than females.\n",
    "- Embarked_Q, Embarked_S: If p-values < 0.05, embarkation ports differ significantly from Cherbourg (reference). Coefficients may vary based on data.\n",
    "\n",
    "Based on typical Titanic data, Sex_male, Pclass_3, and Age are likely highly significant (p < 0.05) with large coefficients, indicating strong influence on survival.\n",
    "\"\"\""
   ]
  },
  {
   "cell_type": "markdown",
   "metadata": {},
   "source": [
    "## Level up (Optional)\n",
    "\n",
    "Create a new model, this time only using those features you determined were influential based on your analysis of the results above. How does this model perform?"
   ]
  },
  {
   "cell_type": "code",
   "execution_count": 10,
   "metadata": {},
   "outputs": [
    {
     "name": "stdout",
     "output_type": "stream",
     "text": [
      "Optimization terminated successfully.\n",
      "         Current function value: 0.469678\n",
      "         Iterations 6\n",
      "                           Logit Regression Results                           \n",
      "==============================================================================\n",
      "Dep. Variable:               Survived   No. Observations:                  714\n",
      "Model:                          Logit   Df Residuals:                      710\n",
      "Method:                           MLE   Df Model:                            3\n",
      "Date:                Fri, 06 Jun 2025   Pseudo R-squ.:                  0.3046\n",
      "Time:                        21:03:59   Log-Likelihood:                -335.35\n",
      "converged:                       True   LL-Null:                       -482.26\n",
      "Covariance Type:            nonrobust   LLR p-value:                 2.168e-63\n",
      "==============================================================================\n",
      "                 coef    std err          z      P>|z|      [0.025      0.975]\n",
      "------------------------------------------------------------------------------\n",
      "const          2.7423      0.310      8.845      0.000       2.135       3.350\n",
      "Age           -0.0268      0.007     -3.780      0.000      -0.041      -0.013\n",
      "Pclass_3      -1.8019      0.215     -8.376      0.000      -2.224      -1.380\n",
      "Sex_male      -2.4710      0.202    -12.251      0.000      -2.866      -2.076\n",
      "==============================================================================\n"
     ]
    }
   ],
   "source": [
    "# Your code here\n",
    "\n",
    "# Create a new model with influential features (based on p-values < 0.05 from initial model)\n",
    "# Assuming Sex_male, Pclass_3, Age are significant (adjust based on actual summary)\n",
    "significant_columns = ['Age', 'Pclass_3', 'Sex_male', 'Survived']\n",
    "level_up_df = dummy_dataframe[significant_columns]\n",
    "y_level_up = level_up_df['Survived']\n",
    "X_level_up = sm.add_constant(level_up_df.drop('Survived', axis=1))\n",
    "level_up_model = sm.Logit(y_level_up, X_level_up)\n",
    "level_up_result = level_up_model.fit()\n",
    "\n",
    "# Summary table for level-up model\n",
    "print(level_up_result.summary())"
   ]
  },
  {
   "cell_type": "code",
   "execution_count": null,
   "metadata": {},
   "outputs": [],
   "source": [
    "# Your comments here\n",
    "\"\"\"\n",
    "Level-up model performance:\n",
    "- The reduced model uses only significant predictors (e.g., Sex_male, Pclass_3, Age), simplifying interpretation and potentially improving robustness.\n",
    "- If p-values remain < 0.05, these features are still significant, confirming their importance.\n",
    "- Compare Pseudo R-squared: If similar to or slightly lower than the full model, the reduced model retains most explanatory power with fewer variables.\n",
    "- Log-Likelihood: A slightly lower (less negative) value than the full model indicates a minor loss in fit, but simpler models are preferred if performance is comparable.\n",
    "- This model is more interpretable and less prone to overfitting due to fewer features, but may miss some predictive power from excluded variables like Fare or Embarked.\n",
    "\"\"\""
   ]
  },
  {
   "cell_type": "markdown",
   "metadata": {},
   "source": [
    "## Summary \n",
    "\n",
    "Well done! In this lab, you practiced using `statsmodels` to build a logistic regression model. You then interpreted the results, building upon your previous stats knowledge, similar to linear regression. Continue on to take a look at building logistic regression models in Scikit-learn!"
   ]
  }
 ],
 "metadata": {
  "kernelspec": {
   "display_name": "Python 3",
   "language": "python",
   "name": "python3"
  },
  "language_info": {
   "codemirror_mode": {
    "name": "ipython",
    "version": 3
   },
   "file_extension": ".py",
   "mimetype": "text/x-python",
   "name": "python",
   "nbconvert_exporter": "python",
   "pygments_lexer": "ipython3",
   "version": "3.8.5"
  },
  "toc": {
   "base_numbering": 1,
   "nav_menu": {},
   "number_sections": true,
   "sideBar": true,
   "skip_h1_title": true,
   "title_cell": "Table of Contents",
   "title_sidebar": "Contents",
   "toc_cell": true,
   "toc_position": {},
   "toc_section_display": true,
   "toc_window_display": false
  }
 },
 "nbformat": 4,
 "nbformat_minor": 2
}
